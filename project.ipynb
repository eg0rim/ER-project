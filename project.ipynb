{
 "cells": [
  {
   "cell_type": "code",
   "execution_count": 2,
   "metadata": {},
   "outputs": [],
   "source": [
    "import pandas as pd\n",
    "import scipy as sp\n",
    "from scipy.optimize import curve_fit\n",
    "from datetime import *\n",
    "import plotly.express as px\n",
    "import plotly.graph_objects as go\n",
    "import scipy.special as spec\n",
    "from plotly.subplots import make_subplots\n",
    "import os\n",
    "import plotly\n",
    "DATA_OWID = pd.read_csv('https://github.com/owid/covid-19-data/blob/master/public/data/owid-covid-data.csv?raw=true')\n",
    "DATA_GOOGLE = pd.read_csv(\"https://www.gstatic.com/covid19/mobility/Global_Mobility_Report.csv\",low_memory=False)"
   ]
  },
  {
   "cell_type": "code",
   "execution_count": 52,
   "metadata": {},
   "outputs": [],
   "source": [
    "def smoooooth(alpha, y):\n",
    "    num_els = len(y)\n",
    "    y_smoothed = y \n",
    "    for i in range(1, num_els):\n",
    "        if y[i-1] > 0.0 or y[i-1] <0.0:\n",
    "            y_smoothed[i] = alpha * y[i] + (1.-alpha) *y[i-1]\n",
    "    return y_smoothed\n",
    "# approximant\n",
    "def fit_fun(x,A,x0,k):\n",
    "    #better use this to avoid overflows becasue of using exp\n",
    "    return A*spec.expit(k*(x - x0))\n",
    "    #return A / (1 + sp.exp(-k*(x-x0))) \n",
    "\n",
    "def dfit_fun(x,A,x0,k):\n",
    "    return A* sp.exp(-k*(x-x0)) * k / (1 + sp.exp(-k*(x-x0)))**2\n",
    "\n",
    "def date(string, format=\"%Y-%m-%d\"):\n",
    "    return datetime.strptime(string, format)\n",
    "\n",
    "# normalization\n",
    "\"\"\"\n",
    "def normalize(df):\n",
    "    df.loc[:, \"new_cases_norm\"] = (df.loc[:, \"new_cases\"]/df.loc[:, \"new_tests\"]).values\n",
    "    df.loc[:, \"total_cases_norm\"] = (df.loc[:, \"new_cases_norm\"]).values\n",
    "    for i in df.index[1:]:\n",
    "        df.loc[i, \"total_cases_norm\"] = df.loc[i-1, \"total_cases_norm\"] + df.loc[i, \"new_cases_norm\"]\n",
    "\"\"\"\n",
    "\n",
    "def get_increase(total_cases):\n",
    "    prev_day = sp.concatenate((sp.array([0]),total_cases.iloc[:-1].values))\n",
    "    return pd.Series(total_cases.values - prev_day)\n",
    "\n",
    "def set_str_to_zero(array):\n",
    "    ret = sp.zeros(len(array), dtype=float)\n",
    "    for i in range(len(array)):\n",
    "        if type(array[i]) == str:\n",
    "            ret[i] = 0.0\n",
    "        else:\n",
    "            ret[i] = array[i]\n",
    "    return ret\n",
    "\n",
    "# loads data from Our World in Data for country specified by iso code (3 letter)\n",
    "# returns a DataFrame\n",
    "def load_data(code):\n",
    "    df = DATA_OWID.loc[DATA_OWID[\"iso_code\"] == code,:].reset_index(drop=True)\n",
    "    df.loc[:,\"date\"] = pd.to_datetime(df.loc[:,\"date\"], format=\"%Y-%m-%d\")\n",
    "    first_day_cases = df.loc[0,\"total_cases\"]\n",
    "    first_day = 0\n",
    "    while first_day_cases == 0 :\n",
    "        first_day += 1\n",
    "        first_day_cases = df.loc[first_day, \"total_cases\"]\n",
    "    if first_day > 0:\n",
    "        df = df.iloc[first_day-1:]\n",
    "    \n",
    "    return df.reset_index(drop=True)\n",
    "\n",
    "# loads data for country from file (csv)\n",
    "# location - as indicated in file (if given)\n",
    "# *_col: names of corresponding columns in file\n",
    "def load_data_generic(file, date_col, tot_cases_col, loc_col=None, location = None, date_format=\"%Y-%m-%d\"):\n",
    "    data = pd.read_csv(file)\n",
    "    if loc_col is None:\n",
    "        df = data.loc[:, [date_col, tot_cases_col]]\n",
    "        \n",
    "        if location is None:            \n",
    "            df.insert(0, \"location\", \"Location is not specified\")\n",
    "        else:\n",
    "            df.insert(0, \"location\", location)\n",
    "    else:\n",
    "        df = data.loc[:, [loc_col, date_col, tot_cases_col]]\n",
    "        if not location is None:\n",
    "            df = df.loc[df[loc_col] == location]\n",
    "        df.rename(columns={loc_col: \"location\"})\n",
    "    display(df)\n",
    "    df = df.rename(columns={date_col: \"date\", tot_cases_col: \"total_cases\"})\n",
    "    df.loc[:,\"date\"] = pd.to_datetime(df[\"date\"], format=date_format)\n",
    "    df[\"new_cases\"] = get_increase(df[\"total_cases\"])\n",
    "    first_day_cases = df[\"total_cases\"].iloc[0]\n",
    "    first_day = 0\n",
    "    while int(first_day_cases) == 0 :\n",
    "        first_day += 1\n",
    "        first_day_cases = df[\"total_cases\"].iloc[first_day]\n",
    "    if first_day > 0:\n",
    "        df = df.iloc[first_day-1:]\n",
    "    return df.reset_index(drop=True)\n",
    "\n",
    "# load mobility data from google\n",
    "# code - iso 2 code\n",
    "def load_mobility_data(code, sub_reg_1 = None, sub_reg_2 = None):\n",
    "    df = DATA_GOOGLE\n",
    "    df = df.loc[df.loc[:,\"country_region_code\"]==code]\n",
    "    if sub_reg_1 == None:\n",
    "        sr = set_str_to_zero(df.loc[:,\"sub_region_1\"].values)\n",
    "        df = df.loc[sp.isnan(sr)]\n",
    "    elif not sub_reg_1 == \"All\":\n",
    "        df = df.loc[df.loc[:,\"sub_region_1\"] == sub_reg_1]\n",
    "    if sub_reg_2 == None:\n",
    "        sr = set_str_to_zero(df.loc[:,\"sub_region_2\"].values)\n",
    "        df = df.loc[sp.isnan(sr)]\n",
    "    elif not sub_reg_2 == \"All\": \n",
    "        df = df.loc[df.loc[:,\"sub_region_2\"] == sub_reg_2]\n",
    "    df.loc[:,\"date\"] = pd.to_datetime(df.loc[:,\"date\"], format=\"%Y-%m-%d\")\n",
    "    return df.reset_index(drop=True)\n",
    "\n",
    "# approximation\n",
    "# df is the dataframe from load_data\n",
    "# high_cutoff_date sets the last date for fitting, if given \n",
    "# low_cutoff_date sets the first date for fitting, if given \n",
    "# format by default is e.g. \"2020-03-27\"\n",
    "# retruns optimal parameters of fit_fun and covariance matrix\n",
    "def fit(df, high_cutoff_date=None, low_cutoff_date=None):\n",
    "    df_cut = df\n",
    "    if high_cutoff_date is not None:\n",
    "        df_cut = df_cut.loc[df_cut.loc[:,\"date\"] <= high_cutoff_date]\n",
    "    if low_cutoff_date is not None:\n",
    "        df_cut = df_cut.loc[df_cut.loc[:,\"date\"] >= low_cutoff_date]\n",
    "    x = df_cut.index.values\n",
    "    y = df_cut.loc[:, \"total_cases\"].values\n",
    "    y_max = y[-1]\n",
    "    #print(x, y_norm)\n",
    "    popt, pcov = curve_fit(fit_fun, x, y, p0 = (y_max, 60, 1))\n",
    "    return popt, pcov\n",
    "\n",
    "def get_correlation(x, y):\n",
    "    return sp.corrcoef(x, y)[0,1]\n",
    "\n",
    "def get_corr_over_time(df, corr_period = 7, min_corr_days=5):\n",
    "    data = df.loc[:, [\"date\", \"new_cases\", \"new_tests\"]]\n",
    "    N_days = len(data)\n",
    "    df_to_return = pd.DataFrame()\n",
    "    df_to_return[\"date\"] = data[\"date\"].values[corr_period-1:]\n",
    "    df_to_return[\"correlation\"] = sp.zeros(N_days - corr_period + 1, dtype = float)\n",
    "    for i in range(corr_period, N_days+1):\n",
    "        d = data.iloc[i - corr_period: i,:].dropna()\n",
    "        if len(d) >= min_corr_days:\n",
    "            df_to_return.loc[i-corr_period,\"correlation\"] = get_correlation(d[\"new_tests\"].values, d[\"new_cases\"])\n",
    "        else:\n",
    "            df_to_return.loc[i-corr_period,\"correlation\"] = sp.nan\n",
    "    return df_to_return\n",
    "    \n",
    "\n",
    "\n",
    "# generates all posible fits described in events_dict and fit over all data\n",
    "# events_dict must have keys \"date\" with the date of an event and \"event\" with short description\n",
    "# return DataFrame with popt and pcov\n",
    "def get_fit_of_cutoffs(df, cutoffs_dict, format=\"%Y-%m-%d\", add_fit_of_all_data = False):\n",
    "    dates = cutoffs_dict[\"date\"]\n",
    "    #print(dates)\n",
    "    descrps = cutoffs_dict[\"description\"]\n",
    "    popt = []\n",
    "    pcov = []\n",
    "    for d in dates:\n",
    "        po, pc = fit(df, d)\n",
    "        popt.append(po)\n",
    "        pcov.append(pc)\n",
    "    if add_fit_of_all_data:\n",
    "        po, pc = fit(df)\n",
    "        popt.append(po)\n",
    "        pcov.append(pc)\n",
    "        dates = dates.append(pd.Series(df[\"date\"].iloc[-1]))\n",
    "        descrps = descrps.append(pd.Series(\"Last available data\"))\n",
    "    params=pd.DataFrame()\n",
    "    params[\"date\"] = dates\n",
    "    params[\"description\"] = descrps\n",
    "    params[\"popt\"] = popt\n",
    "    params[\"pcov\"] = pcov\n",
    "    return params.reset_index()\n",
    "\n",
    "# plots camulative cases and total over time and approximants, if params given\n",
    "# plots mobility if df given\n",
    "# df - data from load_data\n",
    "# df - data from load_data_mobility\n",
    "# params - from get_fit_of_events \n",
    "def plotter(df, params=None, df_mobility = None ,N_pred = 0, correlation = 0, template = \"plotly\"):\n",
    "    # prepare go's\n",
    "    x_min = min(df[\"date\"].iloc[0], df_mobility[\"date\"].iloc[0])\n",
    "    \n",
    "    x_max = max(df[\"date\"].iloc[-1], df_mobility[\"date\"].iloc[-1])\n",
    "    x_len = x_max - x_min\n",
    "    x_min = x_min - x_len*0.05\n",
    "    x_max = x_max + x_len*0.05\n",
    "    fig_merged = make_subplots(specs=[[{\"secondary_y\": True}]])\n",
    "    fig_camulative = make_subplots(specs=[[{\"secondary_y\": True}]])\n",
    "    fig_new = make_subplots(specs=[[{\"secondary_y\": True}]])\n",
    "    fig_camulative.update_layout(\n",
    "        title=df.loc[0,\"location\"],\n",
    "        xaxis_title=\"Date\",\n",
    "        yaxis_title=\"Camulative number of cases\"\n",
    "    )\n",
    "    fig_new.update_layout(\n",
    "        title=df.loc[0,\"location\"],\n",
    "        xaxis_title=\"Date\",\n",
    "        yaxis_title=\"Number of new cases\"\n",
    "    )\n",
    "    fig_merged.update_layout(\n",
    "        title=df.loc[0,\"location\"],\n",
    "        xaxis_title=\"Date\",\n",
    "        yaxis_title=\"Camulative number of cases\"\n",
    "    )\n",
    "    fig_merged.update_yaxes(title_text=\"Number of new cases\", secondary_y=True)\n",
    "    figs = [fig_camulative, fig_new, fig_merged]\n",
    "    # prepare x-axis data\n",
    "    x = df[\"date\"]\n",
    "    #prepare y-axis data\n",
    "    y_camulative = df[\"total_cases\"].values\n",
    "    y_new = df[\"new_cases\"].values\n",
    "    # plot actual data\n",
    "    fig_camulative.add_trace(go.Scatter(x=x, y=y_camulative, mode='markers', name=\"Data\"))\n",
    "    fig_new.add_trace(go.Scatter(x=x, y=y_new, mode='markers', name=\"Data\"))\n",
    "    fig_merged.add_trace(go.Scatter(x=x, y=y_camulative, mode='markers', name=\"Data (camulative)\"))\n",
    "    fig_merged.add_trace(go.Scatter(x=x, y=y_new, mode='markers', name=\"Data (new cases)\"), secondary_y=True)\n",
    "    # plot approximants\n",
    "    if not params is None:\n",
    "        x_pred = pd.date_range(df[\"date\"].iloc[0], df[\"date\"].iloc[-1] + timedelta(days=N_pred+1))  \n",
    "        x_pred_for_fun = sp.arange(df.index[0], df.index[-1]+N_pred+1)\n",
    "        for i in range(len(params)):\n",
    "            y = fit_fun(x_pred_for_fun, *params[\"popt\"].iloc[i])\n",
    "            dy = dfit_fun(x_pred_for_fun, *params[\"popt\"].iloc[i])\n",
    "            fig_camulative.add_trace(go.Scatter(x=x_pred, y=y, name=params[\"description\"].iloc[i]))\n",
    "            fig_new.add_trace(go.Scatter(x=x_pred, y=dy, name=params[\"description\"].iloc[i]))\n",
    "            fig_merged.add_trace(go.Scatter(x=x_pred, y=y, name=params[\"description\"].iloc[i]))\n",
    "            fig_merged.add_trace(go.Scatter(x=x_pred, y=dy, name=params[\"description\"].iloc[i]), secondary_y=True)\n",
    "            date = params[\"date\"].iloc[i]\n",
    "            for fig in figs:\n",
    "                fig.add_shape(\n",
    "                    dict(\n",
    "                        type=\"line\",\n",
    "                        x0=date,\n",
    "                        x1=date,\n",
    "                        y0=0,\n",
    "                        y1=1,\n",
    "                        yref='paper',\n",
    "                        line=dict(\n",
    "                            color=\"Black\",\n",
    "                            width=1,\n",
    "                            dash=\"dash\"\n",
    "                        ),\n",
    "                        opacity=0.6\n",
    "                    )\n",
    "                )    \n",
    "                \n",
    "    ret = [fig_camulative, fig_new, fig_merged]\n",
    "    # plot correlations\n",
    "    if correlation > 0:\n",
    "        d = get_corr_over_time(df, corr_period=correlation)\n",
    "        fig_new.add_trace(go.Scatter(x=d[\"date\"], y=d[\"correlation\"], name=\"%d-days correlation\"%correlation, line=dict(width=1, dash=\"dash\")),secondary_y=True)\n",
    "        #fig_new.add_trace(go.Scatter(x=df[\"date\"], y=df[\"new_tests\"], name=\"New tests (left axis)\"))\n",
    "        fig_new.update_yaxes(title_text=\"Correlation\", secondary_y=True)\n",
    "    \n",
    "    # plot mobility indecies\n",
    "    \n",
    "    if not df_mobility is None:\n",
    "        \n",
    "        fig_mob = go.Figure()\n",
    "        fig_mob.update_layout(\n",
    "            title=df.loc[0,\"location\"] + \"<br> Mobility\",\n",
    "            xaxis_title=\"Date\",\n",
    "            yaxis_title=\"Deviation from the baseline, %\"\n",
    "        )\n",
    "        fig_mob_av = go.Figure()\n",
    "        fig_mob_av.update_layout(\n",
    "            title=df.loc[0,\"location\"] + \"<br> Mobility\",\n",
    "            xaxis_title=\"Date\",\n",
    "            yaxis_title=\"Deviation from the baseline, %\"\n",
    "        )\n",
    "        cols = df_mobility.columns[5:]\n",
    "        x = df_mobility[\"date\"]\n",
    "        \n",
    "        # averages\n",
    "        y_av = -df_mobility.iloc[:, -1].values\n",
    "        for i in cols[:-1]:\n",
    "            y_av += df_mobility[i].values\n",
    "        y_av = y_av / 6.\n",
    "        y_av_wo_parks_res = sp.zeros(len(df_mobility))\n",
    "        for i in [0, 1, 3, 4]:\n",
    "            y_av_wo_parks_res += df_mobility[cols[i]].values\n",
    "        y_av_wo_parks_res = y_av_wo_parks_res / 4.\n",
    "        fig_mob.add_trace(go.Scatter(x=x, y=y_av, name=\"Average index\"))\n",
    "        fig_mob.add_trace(go.Scatter(x=x, y=y_av_wo_parks_res, name=\"Average index w/o parks and residentials\"))\n",
    "        # source\n",
    "        for i in cols:\n",
    "            y = df_mobility[i]\n",
    "            fig_mob.add_trace(go.Scatter(x=x, y=y, name=i.replace(\"_\", \" \")[:-29] ))\n",
    "        \n",
    "        ret.append(fig_mob)\n",
    "        fig_mob_av.add_trace(go.Scatter(x=x, y=y_av_wo_parks_res, name=\"Average index\"))\n",
    "        #for alp in sp.linspace(0., 1., 10):\n",
    "        #    fig_mob_av.add_trace(go.Scatter(x=x, y=smoooooth(alp, y_av_wo_parks_res), name=\"Smoothed, alp=\"+str(alp)))\n",
    "        ret.append(fig_mob_av)\n",
    "    \n",
    "    for f in ret:\n",
    "        f.update_layout(legend_orientation=\"h\", \n",
    "                        xaxis_range=[x_min, x_max], \n",
    "                        legend=dict(y=-0.2),\n",
    "                        height=600,\n",
    "                        width=900,\n",
    "                        showlegend=True,\n",
    "                        title=\"\",\n",
    "                        font=dict(\n",
    "                            family=\"Courier New, monospace\",\n",
    "                            size=12,\n",
    "                            color=\"#7f7f7f\"\n",
    "                        ),\n",
    "                        template=template\n",
    "                       )\n",
    "    return ret\n",
    "    \n",
    "\n",
    "# unfolds popt and pcov  from get_fit_of_events\n",
    "# returns dataframe with each parameter and its standart deviation\n",
    "def unfold(params):\n",
    "    sigmas = []\n",
    "    for pc in params[\"pcov\"]:\n",
    "        sigmas.append(sp.sqrt(sp.diagonal(pc)))\n",
    "    df = params.loc[:, [\"date\", \"description\"]]\n",
    "    df[\"A\"] = [params[\"popt\"][k][0] for k in params.index]\n",
    "    df[\"\\sigma_A\"] = sp.array(sigmas)[:,0]\n",
    "    df[\"x_0\"] = [params[\"popt\"][k][1] for k in params.index]\n",
    "    df[\"\\sigma_x_0\"] = sp.array(sigmas)[:,1]\n",
    "    df[\"k\"] = [params[\"popt\"][k][2] for k in params.index]\n",
    "    df[\"\\sigma_k\"] = sp.array(sigmas)[:,2]\n",
    "    return df\n",
    "    \n",
    "# functions for post editing figures\n",
    "# add a vertical line\n",
    "def add_vline(fig, x, color=\"Black\", width=1, dash=\"solid\", opacity=1, layer = \"above\"):\n",
    "    fig.add_shape(\n",
    "        type = \"line\",\n",
    "        xref=\"x\",\n",
    "        x0=x,\n",
    "        x1=x,\n",
    "        y0=0,\n",
    "        y1=1,\n",
    "        yref=\"paper\",\n",
    "        layer=layer,\n",
    "        line=dict(\n",
    "            color=color,\n",
    "            width=width,\n",
    "            dash=dash\n",
    "        ),\n",
    "        opacity = opacity        \n",
    "    )\n",
    "# add a filled region\n",
    "def add_filling(fig, x0, x1, fill_color=\"Red\", opacity=0.3, layer=\"above\"):\n",
    "    fig.add_shape(\n",
    "        type=\"rect\",\n",
    "        xref=\"x\",\n",
    "        yref=\"paper\",\n",
    "        x0=x0,\n",
    "        y0=0,\n",
    "        x1=x1,\n",
    "        y1=1,\n",
    "        fillcolor=fill_color,\n",
    "        opacity=opacity,\n",
    "        layer=layer,\n",
    "        line_width=0\n",
    "    )\n",
    "\n",
    "def add_caption(fig, x, text, pos_x=0, pos_y=-20, text_color=\"Black\", bg_color=\"Pink\", br_color=\"Grey\", ar_color=\"#606060\", br_width=1, ar_width=1, opacity=0.7, layer=\"above\", wline=True):\n",
    "\n",
    "    fig.add_annotation(\n",
    "        x=x,\n",
    "        y=1,\n",
    "        xref=\"x\",\n",
    "        yref=\"paper\",\n",
    "        text=text,\n",
    "        showarrow=True,\n",
    "        font=dict(\n",
    "            family=\"Courier New, monospace\",\n",
    "            size=12,\n",
    "            color=text_color\n",
    "            ),\n",
    "        align=\"left\",\n",
    "        arrowhead=2,\n",
    "        arrowsize=1,\n",
    "        arrowwidth=ar_width,\n",
    "        arrowcolor=ar_color,\n",
    "        ax=pos_x,\n",
    "        ay=pos_y,\n",
    "        bordercolor=br_color,\n",
    "        borderwidth=br_width,\n",
    "        borderpad=4,\n",
    "        bgcolor=bg_color,\n",
    "        opacity=0.7\n",
    "    )\n",
    "    if wline:\n",
    "        add_vline(fig, x, color=br_color, width=br_width, layer=layer)\n",
    "\n",
    "def add_approximant(fig, params, index, mode=\"new\", N_pred=0):\n",
    "    x  = fig.data[0].x\n",
    "    x_pred = pd.date_range(x[0], x[-1] + timedelta(days=N_pred+1))  \n",
    "    x_pred_for_fun = sp.arange(0, len(x_pred))\n",
    "    if mode == \"new\":\n",
    "        y = dfit_fun(x_pred_for_fun, *params[\"popt\"].iloc[index])\n",
    "        fig.add_trace(go.Scatter(x=x_pred, y=y, name=params[\"description\"].iloc[index]))\n",
    "    elif mode == \"total\":\n",
    "        y = fit_fun(x_pred_for_fun, *params[\"popt\"].iloc[index])\n",
    "        fig.add_trace(go.Scatter(x=x_pred, y=y, name=params[\"description\"].iloc[index]))\n",
    "    elif mode == \"total+new\":\n",
    "        y = fit_fun(x_pred_for_fun, *params[\"popt\"].iloc[index])\n",
    "        fig.add_trace(go.Scatter(x=x_pred, y=y, name=params[\"description\"].iloc[index]))\n",
    "        y = dfit_fun(x_pred_for_fun, *params[\"popt\"].iloc[index])\n",
    "        fig.add_trace(go.Scatter(x=x_pred, y=y, name=params[\"description\"].iloc[index]), secondary_y=True)\n",
    "    else:\n",
    "        raise Exception('mode must be one of: \"new\",\"total\" or \"total+new\"')\n",
    "    date = params[\"date\"].iloc[index]\n",
    "    fig.add_shape(\n",
    "        dict(\n",
    "            type=\"line\",\n",
    "            x0=date,\n",
    "            x1=date,\n",
    "            y0=0,\n",
    "            y1=1,\n",
    "            yref='paper',\n",
    "            line=dict(\n",
    "                color=\"Black\",\n",
    "                width=1,\n",
    "                dash=\"dash\"\n",
    "            ),\n",
    "            opacity=0.6\n",
    "        )\n",
    "    )    \n",
    "\n",
    "    \n",
    "def add_difference(f, fit_ref = -1, fit=1, pos_x =  7, color=\"Black\", width = 1., layer=\"above\", text_color=\"Black\", opacity=0.75):\n",
    "    n_a = len(f.data)\n",
    "    margin =timedelta(days=1)\n",
    "    y_ref = max(f.data[fit_ref].y)\n",
    "    ind_ref = sp.argmax(f.data[fit_ref].y)\n",
    "    x_ref = f.data[fit_ref].x[ind_ref] - margin\n",
    "    i = fit\n",
    "    y = max(f.data[i].y)\n",
    "    ind = sp.argmax(f.data[i].y)\n",
    "    x = f.data[i].x[ind] - margin\n",
    "    text = \"Todo\"+str(y_ref/y)\n",
    "    x_arr = max(x, x_ref) + timedelta(days=pos_x) \n",
    "    x1 = x_arr + margin\n",
    "    f.add_shape(\n",
    "        type = \"line\",\n",
    "        xref=\"x\",\n",
    "        x0=x,\n",
    "        x1=x1,\n",
    "        y0=y,\n",
    "        y1=y,\n",
    "        yref=\"y\",\n",
    "        layer=layer,\n",
    "        line=dict(\n",
    "            color=color,\n",
    "            width=width\n",
    "        ),\n",
    "        opacity = opacity        \n",
    "    )\n",
    "    f.add_shape(\n",
    "        type = \"line\",\n",
    "        xref=\"x\",\n",
    "        x0=x_ref,\n",
    "        x1=x1,\n",
    "        y0=y_ref,\n",
    "        y1=y_ref,\n",
    "        yref=\"y\",\n",
    "        layer=layer,\n",
    "        line=dict(\n",
    "            color=color,\n",
    "            width=width\n",
    "        ),\n",
    "        opacity = opacity        \n",
    "    )\n",
    "    f.add_shape(\n",
    "        type = \"line\",\n",
    "        xref=\"x\",\n",
    "        x0=x_arr,\n",
    "        x1=x_arr,\n",
    "        y0=y,\n",
    "        y1=y_ref,\n",
    "        yref=\"y\",\n",
    "        layer=layer,\n",
    "        line=dict(\n",
    "            color=color,\n",
    "            width=width\n",
    "        ),\n",
    "        opacity = opacity        \n",
    "    )\n",
    "    y_mid =(y + y_ref)/2.\n",
    "    y_diff = abs(y - y_ref)\n",
    "    if y > y_ref:\n",
    "        text = \"Pike is increased<br>by %4.2f %%\" % ((y/y_ref - 1.)*100.)\n",
    "        y_max = y\n",
    "        y_min = y_ref\n",
    "    else:\n",
    "        text = \"Pike is lowered<br>by %4.2f %%\" % ((1. - y/y_ref)*100.)\n",
    "        y_max = y_ref\n",
    "        y_min = y\n",
    "    x_text = x_arr + timedelta(days=pos_x)\n",
    "    f.add_annotation(x = x_arr,\n",
    "                    y = y_min,\n",
    "                    xref = \"x\", yref = \"y\",\n",
    "                    axref = \"x\", ayref = \"y\",\n",
    "                    text = \"\",\n",
    "                    showarrow = True,\n",
    "                    arrowhead=1,\n",
    "                    arrowsize=2,\n",
    "                    arrowwidth=width,\n",
    "                    arrowcolor=color,\n",
    "                    ax = x_arr,\n",
    "                    ay = y_mid)\n",
    "    f.add_annotation(x = x_arr,\n",
    "                    y = y_max,\n",
    "                    xref = \"x\", yref = \"y\",\n",
    "                    axref = \"x\", ayref = \"y\",\n",
    "                    text = \"\",\n",
    "                    showarrow = True,\n",
    "                    arrowhead=1,\n",
    "                    arrowsize=2,\n",
    "                    arrowwidth=width,\n",
    "                    arrowcolor=color,\n",
    "                    ax = x_arr,\n",
    "                    ay = y_mid)\n",
    "    f.add_annotation(\n",
    "                    x = x_text,\n",
    "                    y = y_mid,\n",
    "                    ax = x_text,\n",
    "                    ay = y_mid,\n",
    "                    xref = \"x\", yref = \"y\",\n",
    "                    axref = \"x\", ayref = \"y\",\n",
    "                    text=text,\n",
    "                    font=dict(\n",
    "                              family=\"Courier New, monospace\",\n",
    "                              size=12,\n",
    "                              color=text_color\n",
    "                             ),\n",
    "                    align=\"left\",\n",
    "                    bordercolor=color,\n",
    "                    borderwidth=width,\n",
    "                    borderpad=4,\n",
    "                    bgcolor=\"LightGreen\",\n",
    "                    opacity=opacity\n",
    "    )\n",
    "\n",
    "\n",
    "class image_writer:\n",
    "    def __init__(self, fig, name, ext, mode=True, scale=1.):\n",
    "        # delete if not anaconda\n",
    "        plotly.io.orca.config.executable = '/home/egorim/anaconda3/bin/orca'\n",
    "        # images saved in ./images/name\n",
    "        if not os.path.exists(\"images\"):\n",
    "            os.mkdir(\"images\")\n",
    "        self.fig = fig\n",
    "        self.name = name\n",
    "        self.ext = ext\n",
    "        self.i = 0\n",
    "        self.scale=scale\n",
    "        self.mode=mode\n",
    "    \n",
    "    def write(self):\n",
    "        if self.mode:\n",
    "            if not os.path.exists(\"images/\"+self.name):\n",
    "                os.mkdir(\"images/\"+self.name)\n",
    "            self.fig.write_image(\"./images/\"+self.name+\"/\"+self.name+\"_\"+str(self.i)+\".\"+self.ext, scale=self.scale)\n",
    "            self.i += 1\n",
    "    def clear_temp_files(self):\n",
    "        if self.mode:\n",
    "            if os.path.exists(\"images/\"+self.name):\n",
    "                os.system(\"rm -rf images/\"+self.name)\n",
    "                      \n",
    "    def merge_pdfs(self):\n",
    "        if self.mode:\n",
    "            if ext == \"pdf\":\n",
    "                os.system(\"pdftk images/\"+self.name+\"/* output images/\"+self.name+\".pdf\")\n",
    "                self.clear_temp_files()\n",
    "            else:\n",
    "                #raise Exception(\"Only pdf's can be merged\")\n",
    "                sys.stderr.write(\"Only pdf's can be merged\")"
   ]
  },
  {
   "cell_type": "markdown",
   "metadata": {},
   "source": [
    "## South Korea"
   ]
  },
  {
   "cell_type": "code",
   "execution_count": 60,
   "metadata": {},
   "outputs": [],
   "source": [
    "# load data\n",
    "df = load_data(\"KOR\")\n",
    "df_mobility = load_mobility_data(\"KR\") "
   ]
  },
  {
   "cell_type": "code",
   "execution_count": null,
   "metadata": {
    "scrolled": false
   },
   "outputs": [
    {
     "data": {
      "text/html": [
       "<div>\n",
       "<style scoped>\n",
       "    .dataframe tbody tr th:only-of-type {\n",
       "        vertical-align: middle;\n",
       "    }\n",
       "\n",
       "    .dataframe tbody tr th {\n",
       "        vertical-align: top;\n",
       "    }\n",
       "\n",
       "    .dataframe thead th {\n",
       "        text-align: right;\n",
       "    }\n",
       "</style>\n",
       "<table border=\"1\" class=\"dataframe\">\n",
       "  <thead>\n",
       "    <tr style=\"text-align: right;\">\n",
       "      <th></th>\n",
       "      <th>date</th>\n",
       "      <th>description</th>\n",
       "      <th>A</th>\n",
       "      <th>\\sigma_A</th>\n",
       "      <th>x_0</th>\n",
       "      <th>\\sigma_x_0</th>\n",
       "      <th>k</th>\n",
       "      <th>\\sigma_k</th>\n",
       "    </tr>\n",
       "  </thead>\n",
       "  <tbody>\n",
       "    <tr>\n",
       "      <td>0</td>\n",
       "      <td>2020-03-09</td>\n",
       "      <td>Before 09.03</td>\n",
       "      <td>7858.428405</td>\n",
       "      <td>82.681852</td>\n",
       "      <td>42.757435</td>\n",
       "      <td>0.089387</td>\n",
       "      <td>0.349544</td>\n",
       "      <td>0.006774</td>\n",
       "    </tr>\n",
       "    <tr>\n",
       "      <td>1</td>\n",
       "      <td>2020-05-07</td>\n",
       "      <td>Before the second wave</td>\n",
       "      <td>10321.838373</td>\n",
       "      <td>75.021662</td>\n",
       "      <td>46.422966</td>\n",
       "      <td>0.304445</td>\n",
       "      <td>0.172967</td>\n",
       "      <td>0.007863</td>\n",
       "    </tr>\n",
       "  </tbody>\n",
       "</table>\n",
       "</div>"
      ],
      "text/plain": [
       "        date             description             A   \\sigma_A        x_0  \\\n",
       "0 2020-03-09            Before 09.03   7858.428405  82.681852  42.757435   \n",
       "1 2020-05-07  Before the second wave  10321.838373  75.021662  46.422966   \n",
       "\n",
       "   \\sigma_x_0         k  \\sigma_k  \n",
       "0    0.089387  0.349544  0.006774  \n",
       "1    0.304445  0.172967  0.007863  "
      ]
     },
     "metadata": {},
     "output_type": "display_data"
    },
    {
     "name": "stderr",
     "output_type": "stream",
     "text": [
      "Only pdf's can be merged"
     ]
    },
    {
     "data": {
      "application/vnd.plotly.v1+json": {
       "config": {
        "plotlyServerURL": "https://plot.ly"
       },
       "data": [
        {
         "name": "Average index",
         "type": "scatter",
         "x": [
          "2020-02-15T00:00:00",
          "2020-02-16T00:00:00",
          "2020-02-17T00:00:00",
          "2020-02-18T00:00:00",
          "2020-02-19T00:00:00",
          "2020-02-20T00:00:00",
          "2020-02-21T00:00:00",
          "2020-02-22T00:00:00",
          "2020-02-23T00:00:00",
          "2020-02-24T00:00:00",
          "2020-02-25T00:00:00",
          "2020-02-26T00:00:00",
          "2020-02-27T00:00:00",
          "2020-02-28T00:00:00",
          "2020-02-29T00:00:00",
          "2020-03-01T00:00:00",
          "2020-03-02T00:00:00",
          "2020-03-03T00:00:00",
          "2020-03-04T00:00:00",
          "2020-03-05T00:00:00",
          "2020-03-06T00:00:00",
          "2020-03-07T00:00:00",
          "2020-03-08T00:00:00",
          "2020-03-09T00:00:00",
          "2020-03-10T00:00:00",
          "2020-03-11T00:00:00",
          "2020-03-12T00:00:00",
          "2020-03-13T00:00:00",
          "2020-03-14T00:00:00",
          "2020-03-15T00:00:00",
          "2020-03-16T00:00:00",
          "2020-03-17T00:00:00",
          "2020-03-18T00:00:00",
          "2020-03-19T00:00:00",
          "2020-03-20T00:00:00",
          "2020-03-21T00:00:00",
          "2020-03-22T00:00:00",
          "2020-03-23T00:00:00",
          "2020-03-24T00:00:00",
          "2020-03-25T00:00:00",
          "2020-03-26T00:00:00",
          "2020-03-27T00:00:00",
          "2020-03-28T00:00:00",
          "2020-03-29T00:00:00",
          "2020-03-30T00:00:00",
          "2020-03-31T00:00:00",
          "2020-04-01T00:00:00",
          "2020-04-02T00:00:00",
          "2020-04-03T00:00:00",
          "2020-04-04T00:00:00",
          "2020-04-05T00:00:00",
          "2020-04-06T00:00:00",
          "2020-04-07T00:00:00",
          "2020-04-08T00:00:00",
          "2020-04-09T00:00:00",
          "2020-04-10T00:00:00",
          "2020-04-11T00:00:00",
          "2020-04-12T00:00:00",
          "2020-04-13T00:00:00",
          "2020-04-14T00:00:00",
          "2020-04-15T00:00:00",
          "2020-04-16T00:00:00",
          "2020-04-17T00:00:00",
          "2020-04-18T00:00:00",
          "2020-04-19T00:00:00",
          "2020-04-20T00:00:00",
          "2020-04-21T00:00:00",
          "2020-04-22T00:00:00",
          "2020-04-23T00:00:00",
          "2020-04-24T00:00:00",
          "2020-04-25T00:00:00",
          "2020-04-26T00:00:00",
          "2020-04-27T00:00:00",
          "2020-04-28T00:00:00",
          "2020-04-29T00:00:00",
          "2020-04-30T00:00:00",
          "2020-05-01T00:00:00",
          "2020-05-02T00:00:00",
          "2020-05-03T00:00:00",
          "2020-05-04T00:00:00",
          "2020-05-05T00:00:00",
          "2020-05-06T00:00:00",
          "2020-05-07T00:00:00",
          "2020-05-08T00:00:00",
          "2020-05-09T00:00:00",
          "2020-05-10T00:00:00",
          "2020-05-11T00:00:00",
          "2020-05-12T00:00:00",
          "2020-05-13T00:00:00",
          "2020-05-14T00:00:00",
          "2020-05-15T00:00:00",
          "2020-05-16T00:00:00",
          "2020-05-17T00:00:00",
          "2020-05-18T00:00:00",
          "2020-05-19T00:00:00",
          "2020-05-20T00:00:00",
          "2020-05-21T00:00:00",
          "2020-05-22T00:00:00",
          "2020-05-23T00:00:00",
          "2020-05-24T00:00:00",
          "2020-05-25T00:00:00"
         ],
         "y": [
          -2.25,
          -7.25,
          -4.75,
          -1.25,
          -2.25,
          -3.75,
          -7.25,
          -15,
          -20.75,
          -9,
          -20.5,
          -17.25,
          -18.5,
          -24,
          -22.5,
          -25.25,
          -13,
          -15.25,
          -19,
          -18.25,
          -16.5,
          -19,
          -19.75,
          -10.25,
          -18,
          -12.75,
          -13.75,
          -14,
          -12.75,
          -17,
          -9.5,
          -11.75,
          -10.75,
          -18.25,
          -11.25,
          -10,
          -14.25,
          -6.75,
          -8.75,
          -9.75,
          -15.25,
          -13.75,
          -12,
          -9.25,
          -6.75,
          -6,
          -10.25,
          -10.25,
          -9,
          -9.5,
          -7.5,
          -4.5,
          -6,
          -8.75,
          -9.5,
          -7.75,
          -6.5,
          -15.75,
          -2.75,
          -0.5,
          -11.5,
          -9,
          -14,
          -4.75,
          -14.75,
          -5,
          -6.75,
          -10,
          -8.5,
          -6,
          -4.25,
          -4.5,
          -0.5,
          -0.25,
          3.5,
          -6.25,
          -8.5,
          -4.5,
          0.75,
          7,
          -8.5,
          -1.5,
          -1.25,
          0.25,
          -11.75,
          -3.5,
          2.25,
          -0.25,
          -1.25,
          -2.25,
          -10,
          -2,
          4.5,
          -4,
          -2.25,
          0.5,
          -1.25,
          -1.25,
          1.75,
          -2.5,
          4.25
         ]
        }
       ],
       "layout": {
        "annotations": [
         {
          "align": "left",
          "arrowcolor": "#606060",
          "arrowhead": 2,
          "arrowsize": 1,
          "arrowwidth": 1,
          "ax": -50,
          "ay": -20,
          "bgcolor": "Pink",
          "bordercolor": "Grey",
          "borderpad": 4,
          "borderwidth": 1,
          "font": {
           "color": "Black",
           "family": "Courier New, monospace",
           "size": 12
          },
          "opacity": 0.7,
          "showarrow": true,
          "text": "Patient 31",
          "x": "2020-02-18T00:00:00",
          "xref": "x",
          "y": 1,
          "yref": "paper"
         },
         {
          "align": "left",
          "arrowcolor": "#606060",
          "arrowhead": 2,
          "arrowsize": 1,
          "arrowwidth": 1,
          "ax": 10,
          "ay": -50,
          "bgcolor": "Pink",
          "bordercolor": "Grey",
          "borderpad": 4,
          "borderwidth": 1,
          "font": {
           "color": "Black",
           "family": "Courier New, monospace",
           "size": 12
          },
          "opacity": 0.7,
          "showarrow": true,
          "text": "Shincheonji Church incident",
          "x": "2020-02-20T12:00:00",
          "xref": "x",
          "y": 1,
          "yref": "paper"
         },
         {
          "align": "left",
          "arrowcolor": "#606060",
          "arrowhead": 2,
          "arrowsize": 1,
          "arrowwidth": 1,
          "ax": -120,
          "ay": 30,
          "bgcolor": "LightGreen",
          "bordercolor": "Grey",
          "borderpad": 4,
          "borderwidth": 1,
          "font": {
           "color": "Black",
           "family": "Courier New, monospace",
           "size": 12
          },
          "opacity": 0.7,
          "showarrow": true,
          "text": "Additional measures imposed<br>Tracking of church members",
          "x": "2020-02-20T00:00:00",
          "xref": "x",
          "y": 1,
          "yref": "paper"
         },
         {
          "align": "left",
          "arrowcolor": "#606060",
          "arrowhead": 2,
          "arrowsize": 1,
          "arrowwidth": 1,
          "ax": 50,
          "ay": -20,
          "bgcolor": "LightGreen",
          "bordercolor": "Grey",
          "borderpad": 4,
          "borderwidth": 1,
          "font": {
           "color": "Black",
           "family": "Courier New, monospace",
           "size": 12
          },
          "opacity": 0.7,
          "showarrow": true,
          "text": "Drop in mobility",
          "x": "2020-02-23T00:00:00",
          "xref": "x",
          "y": 1,
          "yref": "paper"
         },
         {
          "align": "left",
          "arrowcolor": "#606060",
          "arrowhead": 2,
          "arrowsize": 1,
          "arrowwidth": 1,
          "ax": 190,
          "ay": 60,
          "bgcolor": "LightGreen",
          "bordercolor": "Grey",
          "borderpad": 4,
          "borderwidth": 1,
          "font": {
           "color": "Black",
           "family": "Courier New, monospace",
           "size": 12
          },
          "opacity": 0.7,
          "showarrow": true,
          "text": "Mobility index reaches minimum",
          "x": "2020-02-28T00:00:00",
          "xref": "x",
          "y": 1,
          "yref": "paper"
         },
         {
          "align": "left",
          "arrowcolor": "#606060",
          "arrowhead": 2,
          "arrowsize": 1,
          "arrowwidth": 1,
          "ax": 160,
          "ay": -30,
          "bgcolor": "LightGreen",
          "bordercolor": "Grey",
          "borderpad": 4,
          "borderwidth": 1,
          "font": {
           "color": "Black",
           "family": "Courier New, monospace",
           "size": 12
          },
          "opacity": 0.7,
          "showarrow": true,
          "text": "Tracking of church memebers<br>is completed",
          "x": "2020-03-08T00:00:00",
          "xref": "x",
          "y": 1,
          "yref": "paper"
         }
        ],
        "font": {
         "color": "#7f7f7f",
         "family": "Courier New, monospace",
         "size": 12
        },
        "height": 600,
        "legend": {
         "orientation": "h",
         "y": -0.2
        },
        "shapes": [
         {
          "layer": "above",
          "line": {
           "color": "Grey",
           "dash": "solid",
           "width": 1
          },
          "opacity": 1,
          "type": "line",
          "x0": "2020-02-18T00:00:00",
          "x1": "2020-02-18T00:00:00",
          "xref": "x",
          "y0": 0,
          "y1": 1,
          "yref": "paper"
         },
         {
          "fillcolor": "Red",
          "layer": "above",
          "line": {
           "width": 0
          },
          "opacity": 0.3,
          "type": "rect",
          "x0": "2020-02-18T00:00:00",
          "x1": "2020-02-23T00:00:00",
          "xref": "x",
          "y0": 0,
          "y1": 1,
          "yref": "paper"
         },
         {
          "layer": "above",
          "line": {
           "color": "Grey",
           "dash": "solid",
           "width": 1
          },
          "opacity": 1,
          "type": "line",
          "x0": "2020-02-20T00:00:00",
          "x1": "2020-02-20T00:00:00",
          "xref": "x",
          "y0": 0,
          "y1": 1,
          "yref": "paper"
         },
         {
          "fillcolor": "Green",
          "layer": "above",
          "line": {
           "width": 0
          },
          "opacity": 0.3,
          "type": "rect",
          "x0": "2020-02-20T00:00:00",
          "x1": "2020-03-08T00:00:00",
          "xref": "x",
          "y0": 0,
          "y1": 1,
          "yref": "paper"
         },
         {
          "layer": "above",
          "line": {
           "color": "Grey",
           "dash": "solid",
           "width": 1
          },
          "opacity": 1,
          "type": "line",
          "x0": "2020-02-23T00:00:00",
          "x1": "2020-02-23T00:00:00",
          "xref": "x",
          "y0": 0,
          "y1": 1,
          "yref": "paper"
         },
         {
          "layer": "above",
          "line": {
           "color": "Grey",
           "dash": "solid",
           "width": 1
          },
          "opacity": 1,
          "type": "line",
          "x0": "2020-02-28T00:00:00",
          "x1": "2020-02-28T00:00:00",
          "xref": "x",
          "y0": 0,
          "y1": 1,
          "yref": "paper"
         },
         {
          "layer": "above",
          "line": {
           "color": "Grey",
           "dash": "solid",
           "width": 1
          },
          "opacity": 1,
          "type": "line",
          "x0": "2020-03-08T00:00:00",
          "x1": "2020-03-08T00:00:00",
          "xref": "x",
          "y0": 0,
          "y1": 1,
          "yref": "paper"
         }
        ],
        "showlegend": true,
        "template": {
         "data": {
          "bar": [
           {
            "error_x": {
             "color": "rgb(51,51,51)"
            },
            "error_y": {
             "color": "rgb(51,51,51)"
            },
            "marker": {
             "line": {
              "color": "rgb(237,237,237)",
              "width": 0.5
             }
            },
            "type": "bar"
           }
          ],
          "barpolar": [
           {
            "marker": {
             "line": {
              "color": "rgb(237,237,237)",
              "width": 0.5
             }
            },
            "type": "barpolar"
           }
          ],
          "carpet": [
           {
            "aaxis": {
             "endlinecolor": "rgb(51,51,51)",
             "gridcolor": "white",
             "linecolor": "white",
             "minorgridcolor": "white",
             "startlinecolor": "rgb(51,51,51)"
            },
            "baxis": {
             "endlinecolor": "rgb(51,51,51)",
             "gridcolor": "white",
             "linecolor": "white",
             "minorgridcolor": "white",
             "startlinecolor": "rgb(51,51,51)"
            },
            "type": "carpet"
           }
          ],
          "choropleth": [
           {
            "colorbar": {
             "outlinewidth": 0,
             "tickcolor": "rgb(237,237,237)",
             "ticklen": 6,
             "ticks": "inside"
            },
            "type": "choropleth"
           }
          ],
          "contour": [
           {
            "colorbar": {
             "outlinewidth": 0,
             "tickcolor": "rgb(237,237,237)",
             "ticklen": 6,
             "ticks": "inside"
            },
            "colorscale": [
             [
              0,
              "rgb(20,44,66)"
             ],
             [
              1,
              "rgb(90,179,244)"
             ]
            ],
            "type": "contour"
           }
          ],
          "contourcarpet": [
           {
            "colorbar": {
             "outlinewidth": 0,
             "tickcolor": "rgb(237,237,237)",
             "ticklen": 6,
             "ticks": "inside"
            },
            "type": "contourcarpet"
           }
          ],
          "heatmap": [
           {
            "colorbar": {
             "outlinewidth": 0,
             "tickcolor": "rgb(237,237,237)",
             "ticklen": 6,
             "ticks": "inside"
            },
            "colorscale": [
             [
              0,
              "rgb(20,44,66)"
             ],
             [
              1,
              "rgb(90,179,244)"
             ]
            ],
            "type": "heatmap"
           }
          ],
          "heatmapgl": [
           {
            "colorbar": {
             "outlinewidth": 0,
             "tickcolor": "rgb(237,237,237)",
             "ticklen": 6,
             "ticks": "inside"
            },
            "colorscale": [
             [
              0,
              "rgb(20,44,66)"
             ],
             [
              1,
              "rgb(90,179,244)"
             ]
            ],
            "type": "heatmapgl"
           }
          ],
          "histogram": [
           {
            "marker": {
             "colorbar": {
              "outlinewidth": 0,
              "tickcolor": "rgb(237,237,237)",
              "ticklen": 6,
              "ticks": "inside"
             }
            },
            "type": "histogram"
           }
          ],
          "histogram2d": [
           {
            "colorbar": {
             "outlinewidth": 0,
             "tickcolor": "rgb(237,237,237)",
             "ticklen": 6,
             "ticks": "inside"
            },
            "colorscale": [
             [
              0,
              "rgb(20,44,66)"
             ],
             [
              1,
              "rgb(90,179,244)"
             ]
            ],
            "type": "histogram2d"
           }
          ],
          "histogram2dcontour": [
           {
            "colorbar": {
             "outlinewidth": 0,
             "tickcolor": "rgb(237,237,237)",
             "ticklen": 6,
             "ticks": "inside"
            },
            "colorscale": [
             [
              0,
              "rgb(20,44,66)"
             ],
             [
              1,
              "rgb(90,179,244)"
             ]
            ],
            "type": "histogram2dcontour"
           }
          ],
          "mesh3d": [
           {
            "colorbar": {
             "outlinewidth": 0,
             "tickcolor": "rgb(237,237,237)",
             "ticklen": 6,
             "ticks": "inside"
            },
            "type": "mesh3d"
           }
          ],
          "parcoords": [
           {
            "line": {
             "colorbar": {
              "outlinewidth": 0,
              "tickcolor": "rgb(237,237,237)",
              "ticklen": 6,
              "ticks": "inside"
             }
            },
            "type": "parcoords"
           }
          ],
          "pie": [
           {
            "automargin": true,
            "type": "pie"
           }
          ],
          "scatter": [
           {
            "marker": {
             "colorbar": {
              "outlinewidth": 0,
              "tickcolor": "rgb(237,237,237)",
              "ticklen": 6,
              "ticks": "inside"
             }
            },
            "type": "scatter"
           }
          ],
          "scatter3d": [
           {
            "line": {
             "colorbar": {
              "outlinewidth": 0,
              "tickcolor": "rgb(237,237,237)",
              "ticklen": 6,
              "ticks": "inside"
             }
            },
            "marker": {
             "colorbar": {
              "outlinewidth": 0,
              "tickcolor": "rgb(237,237,237)",
              "ticklen": 6,
              "ticks": "inside"
             }
            },
            "type": "scatter3d"
           }
          ],
          "scattercarpet": [
           {
            "marker": {
             "colorbar": {
              "outlinewidth": 0,
              "tickcolor": "rgb(237,237,237)",
              "ticklen": 6,
              "ticks": "inside"
             }
            },
            "type": "scattercarpet"
           }
          ],
          "scattergeo": [
           {
            "marker": {
             "colorbar": {
              "outlinewidth": 0,
              "tickcolor": "rgb(237,237,237)",
              "ticklen": 6,
              "ticks": "inside"
             }
            },
            "type": "scattergeo"
           }
          ],
          "scattergl": [
           {
            "marker": {
             "colorbar": {
              "outlinewidth": 0,
              "tickcolor": "rgb(237,237,237)",
              "ticklen": 6,
              "ticks": "inside"
             }
            },
            "type": "scattergl"
           }
          ],
          "scattermapbox": [
           {
            "marker": {
             "colorbar": {
              "outlinewidth": 0,
              "tickcolor": "rgb(237,237,237)",
              "ticklen": 6,
              "ticks": "inside"
             }
            },
            "type": "scattermapbox"
           }
          ],
          "scatterpolar": [
           {
            "marker": {
             "colorbar": {
              "outlinewidth": 0,
              "tickcolor": "rgb(237,237,237)",
              "ticklen": 6,
              "ticks": "inside"
             }
            },
            "type": "scatterpolar"
           }
          ],
          "scatterpolargl": [
           {
            "marker": {
             "colorbar": {
              "outlinewidth": 0,
              "tickcolor": "rgb(237,237,237)",
              "ticklen": 6,
              "ticks": "inside"
             }
            },
            "type": "scatterpolargl"
           }
          ],
          "scatterternary": [
           {
            "marker": {
             "colorbar": {
              "outlinewidth": 0,
              "tickcolor": "rgb(237,237,237)",
              "ticklen": 6,
              "ticks": "inside"
             }
            },
            "type": "scatterternary"
           }
          ],
          "surface": [
           {
            "colorbar": {
             "outlinewidth": 0,
             "tickcolor": "rgb(237,237,237)",
             "ticklen": 6,
             "ticks": "inside"
            },
            "colorscale": [
             [
              0,
              "rgb(20,44,66)"
             ],
             [
              1,
              "rgb(90,179,244)"
             ]
            ],
            "type": "surface"
           }
          ],
          "table": [
           {
            "cells": {
             "fill": {
              "color": "rgb(237,237,237)"
             },
             "line": {
              "color": "white"
             }
            },
            "header": {
             "fill": {
              "color": "rgb(217,217,217)"
             },
             "line": {
              "color": "white"
             }
            },
            "type": "table"
           }
          ]
         },
         "layout": {
          "annotationdefaults": {
           "arrowhead": 0,
           "arrowwidth": 1
          },
          "coloraxis": {
           "colorbar": {
            "outlinewidth": 0,
            "tickcolor": "rgb(237,237,237)",
            "ticklen": 6,
            "ticks": "inside"
           }
          },
          "colorscale": {
           "sequential": [
            [
             0,
             "rgb(20,44,66)"
            ],
            [
             1,
             "rgb(90,179,244)"
            ]
           ],
           "sequentialminus": [
            [
             0,
             "rgb(20,44,66)"
            ],
            [
             1,
             "rgb(90,179,244)"
            ]
           ]
          },
          "colorway": [
           "#F8766D",
           "#A3A500",
           "#00BF7D",
           "#00B0F6",
           "#E76BF3"
          ],
          "font": {
           "color": "rgb(51,51,51)"
          },
          "geo": {
           "bgcolor": "white",
           "lakecolor": "white",
           "landcolor": "rgb(237,237,237)",
           "showlakes": true,
           "showland": true,
           "subunitcolor": "white"
          },
          "hoverlabel": {
           "align": "left"
          },
          "hovermode": "closest",
          "paper_bgcolor": "white",
          "plot_bgcolor": "rgb(237,237,237)",
          "polar": {
           "angularaxis": {
            "gridcolor": "white",
            "linecolor": "white",
            "showgrid": true,
            "tickcolor": "rgb(51,51,51)",
            "ticks": "outside"
           },
           "bgcolor": "rgb(237,237,237)",
           "radialaxis": {
            "gridcolor": "white",
            "linecolor": "white",
            "showgrid": true,
            "tickcolor": "rgb(51,51,51)",
            "ticks": "outside"
           }
          },
          "scene": {
           "xaxis": {
            "backgroundcolor": "rgb(237,237,237)",
            "gridcolor": "white",
            "gridwidth": 2,
            "linecolor": "white",
            "showbackground": true,
            "showgrid": true,
            "tickcolor": "rgb(51,51,51)",
            "ticks": "outside",
            "zerolinecolor": "white"
           },
           "yaxis": {
            "backgroundcolor": "rgb(237,237,237)",
            "gridcolor": "white",
            "gridwidth": 2,
            "linecolor": "white",
            "showbackground": true,
            "showgrid": true,
            "tickcolor": "rgb(51,51,51)",
            "ticks": "outside",
            "zerolinecolor": "white"
           },
           "zaxis": {
            "backgroundcolor": "rgb(237,237,237)",
            "gridcolor": "white",
            "gridwidth": 2,
            "linecolor": "white",
            "showbackground": true,
            "showgrid": true,
            "tickcolor": "rgb(51,51,51)",
            "ticks": "outside",
            "zerolinecolor": "white"
           }
          },
          "shapedefaults": {
           "fillcolor": "black",
           "line": {
            "width": 0
           },
           "opacity": 0.3
          },
          "ternary": {
           "aaxis": {
            "gridcolor": "white",
            "linecolor": "white",
            "showgrid": true,
            "tickcolor": "rgb(51,51,51)",
            "ticks": "outside"
           },
           "baxis": {
            "gridcolor": "white",
            "linecolor": "white",
            "showgrid": true,
            "tickcolor": "rgb(51,51,51)",
            "ticks": "outside"
           },
           "bgcolor": "rgb(237,237,237)",
           "caxis": {
            "gridcolor": "white",
            "linecolor": "white",
            "showgrid": true,
            "tickcolor": "rgb(51,51,51)",
            "ticks": "outside"
           }
          },
          "xaxis": {
           "automargin": true,
           "gridcolor": "white",
           "linecolor": "white",
           "showgrid": true,
           "tickcolor": "rgb(51,51,51)",
           "ticks": "outside",
           "title": {
            "standoff": 15
           },
           "zerolinecolor": "white"
          },
          "yaxis": {
           "automargin": true,
           "gridcolor": "white",
           "linecolor": "white",
           "showgrid": true,
           "tickcolor": "rgb(51,51,51)",
           "ticks": "outside",
           "title": {
            "standoff": 15
           },
           "zerolinecolor": "white"
          }
         }
        },
        "title": {
         "text": ""
        },
        "width": 900,
        "xaxis": {
         "range": [
          "2020-02-01T00:00:00",
          "2020-04-23T00:00:00"
         ],
         "title": {
          "text": "Date"
         }
        },
        "yaxis": {
         "title": {
          "text": "Deviation from the baseline, %"
         }
        }
       }
      },
      "text/html": [
       "<div>\n",
       "        \n",
       "        \n",
       "            <div id=\"3c6428ed-4aa1-4c16-bf47-efa7b6085afe\" class=\"plotly-graph-div\" style=\"height:600px; width:900px;\"></div>\n",
       "            <script type=\"text/javascript\">\n",
       "                require([\"plotly\"], function(Plotly) {\n",
       "                    window.PLOTLYENV=window.PLOTLYENV || {};\n",
       "                    \n",
       "                if (document.getElementById(\"3c6428ed-4aa1-4c16-bf47-efa7b6085afe\")) {\n",
       "                    Plotly.newPlot(\n",
       "                        '3c6428ed-4aa1-4c16-bf47-efa7b6085afe',\n",
       "                        [{\"name\": \"Average index\", \"type\": \"scatter\", \"x\": [\"2020-02-15T00:00:00\", \"2020-02-16T00:00:00\", \"2020-02-17T00:00:00\", \"2020-02-18T00:00:00\", \"2020-02-19T00:00:00\", \"2020-02-20T00:00:00\", \"2020-02-21T00:00:00\", \"2020-02-22T00:00:00\", \"2020-02-23T00:00:00\", \"2020-02-24T00:00:00\", \"2020-02-25T00:00:00\", \"2020-02-26T00:00:00\", \"2020-02-27T00:00:00\", \"2020-02-28T00:00:00\", \"2020-02-29T00:00:00\", \"2020-03-01T00:00:00\", \"2020-03-02T00:00:00\", \"2020-03-03T00:00:00\", \"2020-03-04T00:00:00\", \"2020-03-05T00:00:00\", \"2020-03-06T00:00:00\", \"2020-03-07T00:00:00\", \"2020-03-08T00:00:00\", \"2020-03-09T00:00:00\", \"2020-03-10T00:00:00\", \"2020-03-11T00:00:00\", \"2020-03-12T00:00:00\", \"2020-03-13T00:00:00\", \"2020-03-14T00:00:00\", \"2020-03-15T00:00:00\", \"2020-03-16T00:00:00\", \"2020-03-17T00:00:00\", \"2020-03-18T00:00:00\", \"2020-03-19T00:00:00\", \"2020-03-20T00:00:00\", \"2020-03-21T00:00:00\", \"2020-03-22T00:00:00\", \"2020-03-23T00:00:00\", \"2020-03-24T00:00:00\", \"2020-03-25T00:00:00\", \"2020-03-26T00:00:00\", \"2020-03-27T00:00:00\", \"2020-03-28T00:00:00\", \"2020-03-29T00:00:00\", \"2020-03-30T00:00:00\", \"2020-03-31T00:00:00\", \"2020-04-01T00:00:00\", \"2020-04-02T00:00:00\", \"2020-04-03T00:00:00\", \"2020-04-04T00:00:00\", \"2020-04-05T00:00:00\", \"2020-04-06T00:00:00\", \"2020-04-07T00:00:00\", \"2020-04-08T00:00:00\", \"2020-04-09T00:00:00\", \"2020-04-10T00:00:00\", \"2020-04-11T00:00:00\", \"2020-04-12T00:00:00\", \"2020-04-13T00:00:00\", \"2020-04-14T00:00:00\", \"2020-04-15T00:00:00\", \"2020-04-16T00:00:00\", \"2020-04-17T00:00:00\", \"2020-04-18T00:00:00\", \"2020-04-19T00:00:00\", \"2020-04-20T00:00:00\", \"2020-04-21T00:00:00\", \"2020-04-22T00:00:00\", \"2020-04-23T00:00:00\", \"2020-04-24T00:00:00\", \"2020-04-25T00:00:00\", \"2020-04-26T00:00:00\", \"2020-04-27T00:00:00\", \"2020-04-28T00:00:00\", \"2020-04-29T00:00:00\", \"2020-04-30T00:00:00\", \"2020-05-01T00:00:00\", \"2020-05-02T00:00:00\", \"2020-05-03T00:00:00\", \"2020-05-04T00:00:00\", \"2020-05-05T00:00:00\", \"2020-05-06T00:00:00\", \"2020-05-07T00:00:00\", \"2020-05-08T00:00:00\", \"2020-05-09T00:00:00\", \"2020-05-10T00:00:00\", \"2020-05-11T00:00:00\", \"2020-05-12T00:00:00\", \"2020-05-13T00:00:00\", \"2020-05-14T00:00:00\", \"2020-05-15T00:00:00\", \"2020-05-16T00:00:00\", \"2020-05-17T00:00:00\", \"2020-05-18T00:00:00\", \"2020-05-19T00:00:00\", \"2020-05-20T00:00:00\", \"2020-05-21T00:00:00\", \"2020-05-22T00:00:00\", \"2020-05-23T00:00:00\", \"2020-05-24T00:00:00\", \"2020-05-25T00:00:00\"], \"y\": [-2.25, -7.25, -4.75, -1.25, -2.25, -3.75, -7.25, -15.0, -20.75, -9.0, -20.5, -17.25, -18.5, -24.0, -22.5, -25.25, -13.0, -15.25, -19.0, -18.25, -16.5, -19.0, -19.75, -10.25, -18.0, -12.75, -13.75, -14.0, -12.75, -17.0, -9.5, -11.75, -10.75, -18.25, -11.25, -10.0, -14.25, -6.75, -8.75, -9.75, -15.25, -13.75, -12.0, -9.25, -6.75, -6.0, -10.25, -10.25, -9.0, -9.5, -7.5, -4.5, -6.0, -8.75, -9.5, -7.75, -6.5, -15.75, -2.75, -0.5, -11.5, -9.0, -14.0, -4.75, -14.75, -5.0, -6.75, -10.0, -8.5, -6.0, -4.25, -4.5, -0.5, -0.25, 3.5, -6.25, -8.5, -4.5, 0.75, 7.0, -8.5, -1.5, -1.25, 0.25, -11.75, -3.5, 2.25, -0.25, -1.25, -2.25, -10.0, -2.0, 4.5, -4.0, -2.25, 0.5, -1.25, -1.25, 1.75, -2.5, 4.25]}],\n",
       "                        {\"annotations\": [{\"align\": \"left\", \"arrowcolor\": \"#606060\", \"arrowhead\": 2, \"arrowsize\": 1, \"arrowwidth\": 1, \"ax\": -50, \"ay\": -20, \"bgcolor\": \"Pink\", \"bordercolor\": \"Grey\", \"borderpad\": 4, \"borderwidth\": 1, \"font\": {\"color\": \"Black\", \"family\": \"Courier New, monospace\", \"size\": 12}, \"opacity\": 0.7, \"showarrow\": true, \"text\": \"Patient 31\", \"x\": \"2020-02-18T00:00:00\", \"xref\": \"x\", \"y\": 1, \"yref\": \"paper\"}, {\"align\": \"left\", \"arrowcolor\": \"#606060\", \"arrowhead\": 2, \"arrowsize\": 1, \"arrowwidth\": 1, \"ax\": 10, \"ay\": -50, \"bgcolor\": \"Pink\", \"bordercolor\": \"Grey\", \"borderpad\": 4, \"borderwidth\": 1, \"font\": {\"color\": \"Black\", \"family\": \"Courier New, monospace\", \"size\": 12}, \"opacity\": 0.7, \"showarrow\": true, \"text\": \"Shincheonji Church incident\", \"x\": \"2020-02-20T12:00:00\", \"xref\": \"x\", \"y\": 1, \"yref\": \"paper\"}, {\"align\": \"left\", \"arrowcolor\": \"#606060\", \"arrowhead\": 2, \"arrowsize\": 1, \"arrowwidth\": 1, \"ax\": -120, \"ay\": 30, \"bgcolor\": \"LightGreen\", \"bordercolor\": \"Grey\", \"borderpad\": 4, \"borderwidth\": 1, \"font\": {\"color\": \"Black\", \"family\": \"Courier New, monospace\", \"size\": 12}, \"opacity\": 0.7, \"showarrow\": true, \"text\": \"Additional measures imposed<br>Tracking of church members\", \"x\": \"2020-02-20T00:00:00\", \"xref\": \"x\", \"y\": 1, \"yref\": \"paper\"}, {\"align\": \"left\", \"arrowcolor\": \"#606060\", \"arrowhead\": 2, \"arrowsize\": 1, \"arrowwidth\": 1, \"ax\": 50, \"ay\": -20, \"bgcolor\": \"LightGreen\", \"bordercolor\": \"Grey\", \"borderpad\": 4, \"borderwidth\": 1, \"font\": {\"color\": \"Black\", \"family\": \"Courier New, monospace\", \"size\": 12}, \"opacity\": 0.7, \"showarrow\": true, \"text\": \"Drop in mobility\", \"x\": \"2020-02-23T00:00:00\", \"xref\": \"x\", \"y\": 1, \"yref\": \"paper\"}, {\"align\": \"left\", \"arrowcolor\": \"#606060\", \"arrowhead\": 2, \"arrowsize\": 1, \"arrowwidth\": 1, \"ax\": 190, \"ay\": 60, \"bgcolor\": \"LightGreen\", \"bordercolor\": \"Grey\", \"borderpad\": 4, \"borderwidth\": 1, \"font\": {\"color\": \"Black\", \"family\": \"Courier New, monospace\", \"size\": 12}, \"opacity\": 0.7, \"showarrow\": true, \"text\": \"Mobility index reaches minimum\", \"x\": \"2020-02-28T00:00:00\", \"xref\": \"x\", \"y\": 1, \"yref\": \"paper\"}, {\"align\": \"left\", \"arrowcolor\": \"#606060\", \"arrowhead\": 2, \"arrowsize\": 1, \"arrowwidth\": 1, \"ax\": 160, \"ay\": -30, \"bgcolor\": \"LightGreen\", \"bordercolor\": \"Grey\", \"borderpad\": 4, \"borderwidth\": 1, \"font\": {\"color\": \"Black\", \"family\": \"Courier New, monospace\", \"size\": 12}, \"opacity\": 0.7, \"showarrow\": true, \"text\": \"Tracking of church memebers<br>is completed\", \"x\": \"2020-03-08T00:00:00\", \"xref\": \"x\", \"y\": 1, \"yref\": \"paper\"}], \"font\": {\"color\": \"#7f7f7f\", \"family\": \"Courier New, monospace\", \"size\": 12}, \"height\": 600, \"legend\": {\"orientation\": \"h\", \"y\": -0.2}, \"shapes\": [{\"layer\": \"above\", \"line\": {\"color\": \"Grey\", \"dash\": \"solid\", \"width\": 1}, \"opacity\": 1, \"type\": \"line\", \"x0\": \"2020-02-18T00:00:00\", \"x1\": \"2020-02-18T00:00:00\", \"xref\": \"x\", \"y0\": 0, \"y1\": 1, \"yref\": \"paper\"}, {\"fillcolor\": \"Red\", \"layer\": \"above\", \"line\": {\"width\": 0}, \"opacity\": 0.3, \"type\": \"rect\", \"x0\": \"2020-02-18T00:00:00\", \"x1\": \"2020-02-23T00:00:00\", \"xref\": \"x\", \"y0\": 0, \"y1\": 1, \"yref\": \"paper\"}, {\"layer\": \"above\", \"line\": {\"color\": \"Grey\", \"dash\": \"solid\", \"width\": 1}, \"opacity\": 1, \"type\": \"line\", \"x0\": \"2020-02-20T00:00:00\", \"x1\": \"2020-02-20T00:00:00\", \"xref\": \"x\", \"y0\": 0, \"y1\": 1, \"yref\": \"paper\"}, {\"fillcolor\": \"Green\", \"layer\": \"above\", \"line\": {\"width\": 0}, \"opacity\": 0.3, \"type\": \"rect\", \"x0\": \"2020-02-20T00:00:00\", \"x1\": \"2020-03-08T00:00:00\", \"xref\": \"x\", \"y0\": 0, \"y1\": 1, \"yref\": \"paper\"}, {\"layer\": \"above\", \"line\": {\"color\": \"Grey\", \"dash\": \"solid\", \"width\": 1}, \"opacity\": 1, \"type\": \"line\", \"x0\": \"2020-02-23T00:00:00\", \"x1\": \"2020-02-23T00:00:00\", \"xref\": \"x\", \"y0\": 0, \"y1\": 1, \"yref\": \"paper\"}, {\"layer\": \"above\", \"line\": {\"color\": \"Grey\", \"dash\": \"solid\", \"width\": 1}, \"opacity\": 1, \"type\": \"line\", \"x0\": \"2020-02-28T00:00:00\", \"x1\": \"2020-02-28T00:00:00\", \"xref\": \"x\", \"y0\": 0, \"y1\": 1, \"yref\": \"paper\"}, {\"layer\": \"above\", \"line\": {\"color\": \"Grey\", \"dash\": \"solid\", \"width\": 1}, \"opacity\": 1, \"type\": \"line\", \"x0\": \"2020-03-08T00:00:00\", \"x1\": \"2020-03-08T00:00:00\", \"xref\": \"x\", \"y0\": 0, \"y1\": 1, \"yref\": \"paper\"}], \"showlegend\": true, \"template\": {\"data\": {\"bar\": [{\"error_x\": {\"color\": \"rgb(51,51,51)\"}, \"error_y\": {\"color\": \"rgb(51,51,51)\"}, \"marker\": {\"line\": {\"color\": \"rgb(237,237,237)\", \"width\": 0.5}}, \"type\": \"bar\"}], \"barpolar\": [{\"marker\": {\"line\": {\"color\": \"rgb(237,237,237)\", \"width\": 0.5}}, \"type\": \"barpolar\"}], \"carpet\": [{\"aaxis\": {\"endlinecolor\": \"rgb(51,51,51)\", \"gridcolor\": \"white\", \"linecolor\": \"white\", \"minorgridcolor\": \"white\", \"startlinecolor\": \"rgb(51,51,51)\"}, \"baxis\": {\"endlinecolor\": \"rgb(51,51,51)\", \"gridcolor\": \"white\", \"linecolor\": \"white\", \"minorgridcolor\": \"white\", \"startlinecolor\": \"rgb(51,51,51)\"}, \"type\": \"carpet\"}], \"choropleth\": [{\"colorbar\": {\"outlinewidth\": 0, \"tickcolor\": \"rgb(237,237,237)\", \"ticklen\": 6, \"ticks\": \"inside\"}, \"type\": \"choropleth\"}], \"contour\": [{\"colorbar\": {\"outlinewidth\": 0, \"tickcolor\": \"rgb(237,237,237)\", \"ticklen\": 6, \"ticks\": \"inside\"}, \"colorscale\": [[0, \"rgb(20,44,66)\"], [1, \"rgb(90,179,244)\"]], \"type\": \"contour\"}], \"contourcarpet\": [{\"colorbar\": {\"outlinewidth\": 0, \"tickcolor\": \"rgb(237,237,237)\", \"ticklen\": 6, \"ticks\": \"inside\"}, \"type\": \"contourcarpet\"}], \"heatmap\": [{\"colorbar\": {\"outlinewidth\": 0, \"tickcolor\": \"rgb(237,237,237)\", \"ticklen\": 6, \"ticks\": \"inside\"}, \"colorscale\": [[0, \"rgb(20,44,66)\"], [1, \"rgb(90,179,244)\"]], \"type\": \"heatmap\"}], \"heatmapgl\": [{\"colorbar\": {\"outlinewidth\": 0, \"tickcolor\": \"rgb(237,237,237)\", \"ticklen\": 6, \"ticks\": \"inside\"}, \"colorscale\": [[0, \"rgb(20,44,66)\"], [1, \"rgb(90,179,244)\"]], \"type\": \"heatmapgl\"}], \"histogram\": [{\"marker\": {\"colorbar\": {\"outlinewidth\": 0, \"tickcolor\": \"rgb(237,237,237)\", \"ticklen\": 6, \"ticks\": \"inside\"}}, \"type\": \"histogram\"}], \"histogram2d\": [{\"colorbar\": {\"outlinewidth\": 0, \"tickcolor\": \"rgb(237,237,237)\", \"ticklen\": 6, \"ticks\": \"inside\"}, \"colorscale\": [[0, \"rgb(20,44,66)\"], [1, \"rgb(90,179,244)\"]], \"type\": \"histogram2d\"}], \"histogram2dcontour\": [{\"colorbar\": {\"outlinewidth\": 0, \"tickcolor\": \"rgb(237,237,237)\", \"ticklen\": 6, \"ticks\": \"inside\"}, \"colorscale\": [[0, \"rgb(20,44,66)\"], [1, \"rgb(90,179,244)\"]], \"type\": \"histogram2dcontour\"}], \"mesh3d\": [{\"colorbar\": {\"outlinewidth\": 0, \"tickcolor\": \"rgb(237,237,237)\", \"ticklen\": 6, \"ticks\": \"inside\"}, \"type\": \"mesh3d\"}], \"parcoords\": [{\"line\": {\"colorbar\": {\"outlinewidth\": 0, \"tickcolor\": \"rgb(237,237,237)\", \"ticklen\": 6, \"ticks\": \"inside\"}}, \"type\": \"parcoords\"}], \"pie\": [{\"automargin\": true, \"type\": \"pie\"}], \"scatter\": [{\"marker\": {\"colorbar\": {\"outlinewidth\": 0, \"tickcolor\": \"rgb(237,237,237)\", \"ticklen\": 6, \"ticks\": \"inside\"}}, \"type\": \"scatter\"}], \"scatter3d\": [{\"line\": {\"colorbar\": {\"outlinewidth\": 0, \"tickcolor\": \"rgb(237,237,237)\", \"ticklen\": 6, \"ticks\": \"inside\"}}, \"marker\": {\"colorbar\": {\"outlinewidth\": 0, \"tickcolor\": \"rgb(237,237,237)\", \"ticklen\": 6, \"ticks\": \"inside\"}}, \"type\": \"scatter3d\"}], \"scattercarpet\": [{\"marker\": {\"colorbar\": {\"outlinewidth\": 0, \"tickcolor\": \"rgb(237,237,237)\", \"ticklen\": 6, \"ticks\": \"inside\"}}, \"type\": \"scattercarpet\"}], \"scattergeo\": [{\"marker\": {\"colorbar\": {\"outlinewidth\": 0, \"tickcolor\": \"rgb(237,237,237)\", \"ticklen\": 6, \"ticks\": \"inside\"}}, \"type\": \"scattergeo\"}], \"scattergl\": [{\"marker\": {\"colorbar\": {\"outlinewidth\": 0, \"tickcolor\": \"rgb(237,237,237)\", \"ticklen\": 6, \"ticks\": \"inside\"}}, \"type\": \"scattergl\"}], \"scattermapbox\": [{\"marker\": {\"colorbar\": {\"outlinewidth\": 0, \"tickcolor\": \"rgb(237,237,237)\", \"ticklen\": 6, \"ticks\": \"inside\"}}, \"type\": \"scattermapbox\"}], \"scatterpolar\": [{\"marker\": {\"colorbar\": {\"outlinewidth\": 0, \"tickcolor\": \"rgb(237,237,237)\", \"ticklen\": 6, \"ticks\": \"inside\"}}, \"type\": \"scatterpolar\"}], \"scatterpolargl\": [{\"marker\": {\"colorbar\": {\"outlinewidth\": 0, \"tickcolor\": \"rgb(237,237,237)\", \"ticklen\": 6, \"ticks\": \"inside\"}}, \"type\": \"scatterpolargl\"}], \"scatterternary\": [{\"marker\": {\"colorbar\": {\"outlinewidth\": 0, \"tickcolor\": \"rgb(237,237,237)\", \"ticklen\": 6, \"ticks\": \"inside\"}}, \"type\": \"scatterternary\"}], \"surface\": [{\"colorbar\": {\"outlinewidth\": 0, \"tickcolor\": \"rgb(237,237,237)\", \"ticklen\": 6, \"ticks\": \"inside\"}, \"colorscale\": [[0, \"rgb(20,44,66)\"], [1, \"rgb(90,179,244)\"]], \"type\": \"surface\"}], \"table\": [{\"cells\": {\"fill\": {\"color\": \"rgb(237,237,237)\"}, \"line\": {\"color\": \"white\"}}, \"header\": {\"fill\": {\"color\": \"rgb(217,217,217)\"}, \"line\": {\"color\": \"white\"}}, \"type\": \"table\"}]}, \"layout\": {\"annotationdefaults\": {\"arrowhead\": 0, \"arrowwidth\": 1}, \"coloraxis\": {\"colorbar\": {\"outlinewidth\": 0, \"tickcolor\": \"rgb(237,237,237)\", \"ticklen\": 6, \"ticks\": \"inside\"}}, \"colorscale\": {\"sequential\": [[0, \"rgb(20,44,66)\"], [1, \"rgb(90,179,244)\"]], \"sequentialminus\": [[0, \"rgb(20,44,66)\"], [1, \"rgb(90,179,244)\"]]}, \"colorway\": [\"#F8766D\", \"#A3A500\", \"#00BF7D\", \"#00B0F6\", \"#E76BF3\"], \"font\": {\"color\": \"rgb(51,51,51)\"}, \"geo\": {\"bgcolor\": \"white\", \"lakecolor\": \"white\", \"landcolor\": \"rgb(237,237,237)\", \"showlakes\": true, \"showland\": true, \"subunitcolor\": \"white\"}, \"hoverlabel\": {\"align\": \"left\"}, \"hovermode\": \"closest\", \"paper_bgcolor\": \"white\", \"plot_bgcolor\": \"rgb(237,237,237)\", \"polar\": {\"angularaxis\": {\"gridcolor\": \"white\", \"linecolor\": \"white\", \"showgrid\": true, \"tickcolor\": \"rgb(51,51,51)\", \"ticks\": \"outside\"}, \"bgcolor\": \"rgb(237,237,237)\", \"radialaxis\": {\"gridcolor\": \"white\", \"linecolor\": \"white\", \"showgrid\": true, \"tickcolor\": \"rgb(51,51,51)\", \"ticks\": \"outside\"}}, \"scene\": {\"xaxis\": {\"backgroundcolor\": \"rgb(237,237,237)\", \"gridcolor\": \"white\", \"gridwidth\": 2, \"linecolor\": \"white\", \"showbackground\": true, \"showgrid\": true, \"tickcolor\": \"rgb(51,51,51)\", \"ticks\": \"outside\", \"zerolinecolor\": \"white\"}, \"yaxis\": {\"backgroundcolor\": \"rgb(237,237,237)\", \"gridcolor\": \"white\", \"gridwidth\": 2, \"linecolor\": \"white\", \"showbackground\": true, \"showgrid\": true, \"tickcolor\": \"rgb(51,51,51)\", \"ticks\": \"outside\", \"zerolinecolor\": \"white\"}, \"zaxis\": {\"backgroundcolor\": \"rgb(237,237,237)\", \"gridcolor\": \"white\", \"gridwidth\": 2, \"linecolor\": \"white\", \"showbackground\": true, \"showgrid\": true, \"tickcolor\": \"rgb(51,51,51)\", \"ticks\": \"outside\", \"zerolinecolor\": \"white\"}}, \"shapedefaults\": {\"fillcolor\": \"black\", \"line\": {\"width\": 0}, \"opacity\": 0.3}, \"ternary\": {\"aaxis\": {\"gridcolor\": \"white\", \"linecolor\": \"white\", \"showgrid\": true, \"tickcolor\": \"rgb(51,51,51)\", \"ticks\": \"outside\"}, \"baxis\": {\"gridcolor\": \"white\", \"linecolor\": \"white\", \"showgrid\": true, \"tickcolor\": \"rgb(51,51,51)\", \"ticks\": \"outside\"}, \"bgcolor\": \"rgb(237,237,237)\", \"caxis\": {\"gridcolor\": \"white\", \"linecolor\": \"white\", \"showgrid\": true, \"tickcolor\": \"rgb(51,51,51)\", \"ticks\": \"outside\"}}, \"xaxis\": {\"automargin\": true, \"gridcolor\": \"white\", \"linecolor\": \"white\", \"showgrid\": true, \"tickcolor\": \"rgb(51,51,51)\", \"ticks\": \"outside\", \"title\": {\"standoff\": 15}, \"zerolinecolor\": \"white\"}, \"yaxis\": {\"automargin\": true, \"gridcolor\": \"white\", \"linecolor\": \"white\", \"showgrid\": true, \"tickcolor\": \"rgb(51,51,51)\", \"ticks\": \"outside\", \"title\": {\"standoff\": 15}, \"zerolinecolor\": \"white\"}}}, \"title\": {\"text\": \"\"}, \"width\": 900, \"xaxis\": {\"range\": [\"2020-02-01T00:00:00\", \"2020-04-23T00:00:00\"], \"title\": {\"text\": \"Date\"}}, \"yaxis\": {\"title\": {\"text\": \"Deviation from the baseline, %\"}}},\n",
       "                        {\"responsive\": true}\n",
       "                    ).then(function(){\n",
       "                            \n",
       "var gd = document.getElementById('3c6428ed-4aa1-4c16-bf47-efa7b6085afe');\n",
       "var x = new MutationObserver(function (mutations, observer) {{\n",
       "        var display = window.getComputedStyle(gd).display;\n",
       "        if (!display || display === 'none') {{\n",
       "            console.log([gd, 'removed!']);\n",
       "            Plotly.purge(gd);\n",
       "            observer.disconnect();\n",
       "        }}\n",
       "}});\n",
       "\n",
       "// Listen for the removal of the full notebook cells\n",
       "var notebookContainer = gd.closest('#notebook-container');\n",
       "if (notebookContainer) {{\n",
       "    x.observe(notebookContainer, {childList: true});\n",
       "}}\n",
       "\n",
       "// Listen for the clearing of the current output cell\n",
       "var outputEl = gd.closest('.output');\n",
       "if (outputEl) {{\n",
       "    x.observe(outputEl, {childList: true});\n",
       "}}\n",
       "\n",
       "                        })\n",
       "                };\n",
       "                });\n",
       "            </script>\n",
       "        </div>"
      ]
     },
     "metadata": {},
     "output_type": "display_data"
    }
   ],
   "source": [
    "# set cutoffs for approximations\n",
    "cutoffs = pd.DataFrame({\n",
    "    \"date\": [date(\"2020-03-09\"), date(\"2020-05-07\")],\n",
    "    \"description\": [\"Before 09.03\", \"Before the second wave\"]\n",
    "})\n",
    "params = get_fit_of_cutoffs(df, cutoffs)\n",
    "# plot figures\n",
    "template = \"ggplot2\"\n",
    "figs = plotter(df, params=None, df_mobility=df_mobility, template=template, correlation=14)\n",
    "# show coeffs\n",
    "display(unfold(params))\n",
    "\n",
    "# set extension of output files\n",
    "ext = \"png\"\n",
    "scale = 2.\n",
    "# set mode of image_writer (if mode: write images)\n",
    "mode = True\n",
    "# plot of mobility\n",
    "f = figs[-1]\n",
    "iw = image_writer(f, \"SK_mobility\"+\"_\"+ext, ext, mode=mode,scale=scale)\n",
    "# next add elements on bare plot and write image if needed\n",
    "f.update_layout(xaxis_range = [date(\"2020-02-01\"), date(\"2020-04-23\")])\n",
    "iw.write()\n",
    "add_caption(f, date(\"2020-02-18\"), text=\"Patient 31\", pos_x=-50)\n",
    "iw.write()\n",
    "add_filling(f, x0=date(\"2020-02-18\"), x1=date(\"2020-02-23\"))\n",
    "add_caption(f, date(\"2020-02-20-12\", format=\"%Y-%m-%d-%H\"), \"Shincheonji Church incident\",pos_x= 10, pos_y = -50, wline=False )\n",
    "iw.write()\n",
    "add_caption(f, date(\"2020-02-20\"), \"Additional measures imposed<br>Tracking of church members\", bg_color=\"LightGreen\",pos_x=-120, pos_y=30)\n",
    "add_filling(f, date(\"2020-02-20\"), date(\"2020-03-08\"), fill_color=\"Green\")\n",
    "iw.write()\n",
    "add_caption(f, date(\"2020-02-23\"), \"Drop in mobility\", bg_color=\"LightGreen\",pos_x= 50 )\n",
    "iw.write()\n",
    "add_caption(f, date(\"2020-02-28\"), \"Mobility index reaches minimum\", bg_color=\"LightGreen\", pos_x = 190, pos_y=60 )\n",
    "iw.write()\n",
    "add_caption(f, date(\"2020-03-08\"), \"Tracking of church memebers<br>is completed\", bg_color=\"LightGreen\", pos_x = 160, pos_y=-30 )\n",
    "iw.write()\n",
    "iw.merge_pdfs()\n",
    "\n",
    "f.show()\n",
    "\n",
    "#plot of new cases\n",
    "f = figs[1]\n",
    "iw = image_writer(f, \"SK_plot_\"+ext, ext, mode=mode,scale=scale)\n",
    "f.update_layout(xaxis_range = [date(\"2020-02-01\"), date(\"2020-04-23\")])\n",
    "add_caption(f, date(\"2020-02-18\"), text=\"Patient 31\", pos_x=-50)\n",
    "add_filling(f, x0=date(\"2020-02-18\"), x1=date(\"2020-02-23\"))\n",
    "add_caption(f, date(\"2020-02-20-12\", format=\"%Y-%m-%d-%H\"), \"Shincheonji Church incident\", pos_x= 10, pos_y = -50, wline=False )\n",
    "add_caption(f, date(\"2020-02-20\"), \"Additional measures imposed<br>Tracking of church members\", bg_color=\"LightGreen\",pos_x=-120, pos_y=30)\n",
    "add_filling(f, date(\"2020-02-20\"), date(\"2020-03-08\"), fill_color=\"Green\")\n",
    "add_caption(f, date(\"2020-02-23\"), \"Drop in mobility\", bg_color=\"LightGreen\",pos_x= 50)\n",
    "add_caption(f, date(\"2020-02-28\"), \"Mobility index reaches minimum\", bg_color=\"LightGreen\", pos_x = 190, pos_y=60)\n",
    "add_caption(f, date(\"2020-03-08\"), \"Tracking of church memebers<br>is completed\", bg_color=\"LightGreen\", pos_x = 160, pos_y=-30)\n",
    "iw.write()\n",
    "add_approximant(f, params, 1)\n",
    "iw.write()\n",
    "add_filling(f, date(\"2020-02-28\"), date(\"2020-03-09\"), fill_color=\"Blue\")\n",
    "add_caption(f, date(\"2020-03-04\"), \"10-days <i>incubation</i> period\", bg_color=\"LightBlue\", pos_x = 160, pos_y=30, wline=False)\n",
    "iw.write()\n",
    "add_approximant(f, params, 0)\n",
    "iw.write()\n",
    "add_difference(f, fit_ref=-1, fit=-2, pos_x=8)\n",
    "iw.write()\n",
    "iw.merge_pdfs()\n",
    "f.show()"
   ]
  },
  {
   "cell_type": "markdown",
   "metadata": {},
   "source": [
    "## Italy\n"
   ]
  },
  {
   "cell_type": "code",
   "execution_count": 55,
   "metadata": {},
   "outputs": [],
   "source": [
    "df = load_data(\"ITA\")\n",
    "df_mobility = load_mobility_data(\"IT\")"
   ]
  },
  {
   "cell_type": "code",
   "execution_count": 59,
   "metadata": {},
   "outputs": [
    {
     "data": {
      "text/html": [
       "<div>\n",
       "<style scoped>\n",
       "    .dataframe tbody tr th:only-of-type {\n",
       "        vertical-align: middle;\n",
       "    }\n",
       "\n",
       "    .dataframe tbody tr th {\n",
       "        vertical-align: top;\n",
       "    }\n",
       "\n",
       "    .dataframe thead th {\n",
       "        text-align: right;\n",
       "    }\n",
       "</style>\n",
       "<table border=\"1\" class=\"dataframe\">\n",
       "  <thead>\n",
       "    <tr style=\"text-align: right;\">\n",
       "      <th></th>\n",
       "      <th>date</th>\n",
       "      <th>description</th>\n",
       "      <th>A</th>\n",
       "      <th>\\sigma_A</th>\n",
       "      <th>x_0</th>\n",
       "      <th>\\sigma_x_0</th>\n",
       "      <th>k</th>\n",
       "      <th>\\sigma_k</th>\n",
       "    </tr>\n",
       "  </thead>\n",
       "  <tbody>\n",
       "    <tr>\n",
       "      <td>0</td>\n",
       "      <td>2020-04-02</td>\n",
       "      <td>Before 02.04</td>\n",
       "      <td>132173.662632</td>\n",
       "      <td>1069.373994</td>\n",
       "      <td>54.362351</td>\n",
       "      <td>0.110998</td>\n",
       "      <td>0.182169</td>\n",
       "      <td>0.001666</td>\n",
       "    </tr>\n",
       "    <tr>\n",
       "      <td>1</td>\n",
       "      <td>2020-06-02</td>\n",
       "      <td>Last available data</td>\n",
       "      <td>226831.174139</td>\n",
       "      <td>1226.993989</td>\n",
       "      <td>65.175249</td>\n",
       "      <td>0.264471</td>\n",
       "      <td>0.094536</td>\n",
       "      <td>0.001955</td>\n",
       "    </tr>\n",
       "  </tbody>\n",
       "</table>\n",
       "</div>"
      ],
      "text/plain": [
       "        date          description              A     \\sigma_A        x_0  \\\n",
       "0 2020-04-02         Before 02.04  132173.662632  1069.373994  54.362351   \n",
       "1 2020-06-02  Last available data  226831.174139  1226.993989  65.175249   \n",
       "\n",
       "   \\sigma_x_0         k  \\sigma_k  \n",
       "0    0.110998  0.182169  0.001666  \n",
       "1    0.264471  0.094536  0.001955  "
      ]
     },
     "metadata": {},
     "output_type": "display_data"
    },
    {
     "name": "stderr",
     "output_type": "stream",
     "text": [
      "Only pdf's can be merged"
     ]
    },
    {
     "data": {
      "application/vnd.plotly.v1+json": {
       "config": {
        "plotlyServerURL": "https://plot.ly"
       },
       "data": [
        {
         "name": "Average index",
         "type": "scatter",
         "x": [
          "2020-02-15T00:00:00",
          "2020-02-16T00:00:00",
          "2020-02-17T00:00:00",
          "2020-02-18T00:00:00",
          "2020-02-19T00:00:00",
          "2020-02-20T00:00:00",
          "2020-02-21T00:00:00",
          "2020-02-22T00:00:00",
          "2020-02-23T00:00:00",
          "2020-02-24T00:00:00",
          "2020-02-25T00:00:00",
          "2020-02-26T00:00:00",
          "2020-02-27T00:00:00",
          "2020-02-28T00:00:00",
          "2020-02-29T00:00:00",
          "2020-03-01T00:00:00",
          "2020-03-02T00:00:00",
          "2020-03-03T00:00:00",
          "2020-03-04T00:00:00",
          "2020-03-05T00:00:00",
          "2020-03-06T00:00:00",
          "2020-03-07T00:00:00",
          "2020-03-08T00:00:00",
          "2020-03-09T00:00:00",
          "2020-03-10T00:00:00",
          "2020-03-11T00:00:00",
          "2020-03-12T00:00:00",
          "2020-03-13T00:00:00",
          "2020-03-14T00:00:00",
          "2020-03-15T00:00:00",
          "2020-03-16T00:00:00",
          "2020-03-17T00:00:00",
          "2020-03-18T00:00:00",
          "2020-03-19T00:00:00",
          "2020-03-20T00:00:00",
          "2020-03-21T00:00:00",
          "2020-03-22T00:00:00",
          "2020-03-23T00:00:00",
          "2020-03-24T00:00:00",
          "2020-03-25T00:00:00",
          "2020-03-26T00:00:00",
          "2020-03-27T00:00:00",
          "2020-03-28T00:00:00",
          "2020-03-29T00:00:00",
          "2020-03-30T00:00:00",
          "2020-03-31T00:00:00",
          "2020-04-01T00:00:00",
          "2020-04-02T00:00:00",
          "2020-04-03T00:00:00",
          "2020-04-04T00:00:00",
          "2020-04-05T00:00:00",
          "2020-04-06T00:00:00",
          "2020-04-07T00:00:00",
          "2020-04-08T00:00:00",
          "2020-04-09T00:00:00",
          "2020-04-10T00:00:00",
          "2020-04-11T00:00:00",
          "2020-04-12T00:00:00",
          "2020-04-13T00:00:00",
          "2020-04-14T00:00:00",
          "2020-04-15T00:00:00",
          "2020-04-16T00:00:00",
          "2020-04-17T00:00:00",
          "2020-04-18T00:00:00",
          "2020-04-19T00:00:00",
          "2020-04-20T00:00:00",
          "2020-04-21T00:00:00",
          "2020-04-22T00:00:00",
          "2020-04-23T00:00:00",
          "2020-04-24T00:00:00",
          "2020-04-25T00:00:00",
          "2020-04-26T00:00:00",
          "2020-04-27T00:00:00",
          "2020-04-28T00:00:00",
          "2020-04-29T00:00:00",
          "2020-04-30T00:00:00",
          "2020-05-01T00:00:00",
          "2020-05-02T00:00:00",
          "2020-05-03T00:00:00",
          "2020-05-04T00:00:00",
          "2020-05-05T00:00:00",
          "2020-05-06T00:00:00",
          "2020-05-07T00:00:00",
          "2020-05-08T00:00:00",
          "2020-05-09T00:00:00",
          "2020-05-10T00:00:00",
          "2020-05-11T00:00:00",
          "2020-05-12T00:00:00",
          "2020-05-13T00:00:00",
          "2020-05-14T00:00:00",
          "2020-05-15T00:00:00",
          "2020-05-16T00:00:00",
          "2020-05-17T00:00:00",
          "2020-05-18T00:00:00",
          "2020-05-19T00:00:00",
          "2020-05-20T00:00:00",
          "2020-05-21T00:00:00",
          "2020-05-22T00:00:00",
          "2020-05-23T00:00:00",
          "2020-05-24T00:00:00",
          "2020-05-25T00:00:00"
         ],
         "y": [
          2.75,
          4.25,
          1.25,
          2.25,
          0.75,
          2.25,
          1.75,
          2.5,
          4.5,
          -2.5,
          -8.5,
          -13.25,
          -11.75,
          -10.5,
          -9.25,
          -13.75,
          -13.5,
          -9.25,
          -8.25,
          -14,
          -15.25,
          -14.25,
          -16.5,
          -24.25,
          -31.75,
          -40,
          -51.75,
          -56.75,
          -65,
          -71.25,
          -61,
          -63.75,
          -65,
          -66,
          -65.25,
          -70,
          -82.5,
          -68.5,
          -69.75,
          -71.5,
          -72.75,
          -70.5,
          -72,
          -82.25,
          -69.5,
          -70.25,
          -70,
          -69.75,
          -67.5,
          -70,
          -81.25,
          -66.5,
          -66,
          -66,
          -64.5,
          -63.25,
          -67,
          -86,
          -92.5,
          -66,
          -64.5,
          -63.75,
          -63,
          -67,
          -79.5,
          -66.75,
          -65.5,
          -65.25,
          -63.25,
          -58.75,
          -83.5,
          -75.25,
          -58.75,
          -61.5,
          -60,
          -55.5,
          -88.5,
          -59.25,
          -70.5,
          -46.25,
          -47.75,
          -48.25,
          -47.5,
          -46.5,
          -45.5,
          -55,
          -48.25,
          -44.5,
          -46.75,
          -44.5,
          -45,
          -43.5,
          -49.25,
          -35.25,
          -36.25,
          -35.75,
          -33.75,
          -33.25,
          -28.5,
          -31.25,
          -32
         ]
        }
       ],
       "layout": {
        "annotations": [
         {
          "align": "left",
          "arrowcolor": "#606060",
          "arrowhead": 2,
          "arrowsize": 1,
          "arrowwidth": 1,
          "ax": -80,
          "ay": 25,
          "bgcolor": "LightGreen",
          "bordercolor": "Grey",
          "borderpad": 4,
          "borderwidth": 1,
          "font": {
           "color": "Black",
           "family": "Courier New, monospace",
           "size": 12
          },
          "opacity": 0.7,
          "showarrow": true,
          "text": "Measures imposed in<br>northern regions",
          "x": "2020-02-22T00:00:00",
          "xref": "x",
          "y": 1,
          "yref": "paper"
         },
         {
          "align": "left",
          "arrowcolor": "#606060",
          "arrowhead": 2,
          "arrowsize": 1,
          "arrowwidth": 1,
          "ax": -90,
          "ay": 70,
          "bgcolor": "LightGreen",
          "bordercolor": "Grey",
          "borderpad": 4,
          "borderwidth": 1,
          "font": {
           "color": "Black",
           "family": "Courier New, monospace",
           "size": 12
          },
          "opacity": 0.7,
          "showarrow": true,
          "text": "Drop in mobilitly<br>in northern regions",
          "x": "2020-02-26T00:00:00",
          "xref": "x",
          "y": 1,
          "yref": "paper"
         },
         {
          "align": "left",
          "arrowcolor": "#606060",
          "arrowhead": 2,
          "arrowsize": 1,
          "arrowwidth": 1,
          "ax": -50,
          "ay": -20,
          "bgcolor": "LightGreen",
          "bordercolor": "Grey",
          "borderpad": 4,
          "borderwidth": 1,
          "font": {
           "color": "Black",
           "family": "Courier New, monospace",
           "size": 12
          },
          "opacity": 0.7,
          "showarrow": true,
          "text": "Nationwide measures",
          "x": "2020-03-01T00:00:00",
          "xref": "x",
          "y": 1,
          "yref": "paper"
         },
         {
          "align": "left",
          "arrowcolor": "#606060",
          "arrowhead": 2,
          "arrowsize": 1,
          "arrowwidth": 1,
          "ax": 150,
          "ay": -60,
          "bgcolor": "Pink",
          "bordercolor": "Grey",
          "borderpad": 4,
          "borderwidth": 1,
          "font": {
           "color": "Black",
           "family": "Courier New, monospace",
           "size": 12
          },
          "opacity": 0.7,
          "showarrow": true,
          "text": "15-days delay betwwen nationwide measures<br>and significant drop in mobility",
          "x": "2020-03-15T00:00:00",
          "xref": "x",
          "y": 1,
          "yref": "paper"
         },
         {
          "align": "left",
          "arrowcolor": "#606060",
          "arrowhead": 2,
          "arrowsize": 1,
          "arrowwidth": 1,
          "ax": -60,
          "ay": -60,
          "bgcolor": "LightGreen",
          "bordercolor": "Grey",
          "borderpad": 4,
          "borderwidth": 1,
          "font": {
           "color": "Black",
           "family": "Courier New, monospace",
           "size": 12
          },
          "opacity": 0.7,
          "showarrow": true,
          "text": "Penalties for violation<br>measures introduced",
          "x": "2020-03-08T00:00:00",
          "xref": "x",
          "y": 1,
          "yref": "paper"
         },
         {
          "align": "left",
          "arrowcolor": "#606060",
          "arrowhead": 2,
          "arrowsize": 1,
          "arrowwidth": 1,
          "ax": 50,
          "ay": -20,
          "bgcolor": "LightGreen",
          "bordercolor": "Grey",
          "borderpad": 4,
          "borderwidth": 1,
          "font": {
           "color": "Black",
           "family": "Courier New, monospace",
           "size": 12
          },
          "opacity": 0.7,
          "showarrow": true,
          "text": "Mobility index reaches minimum",
          "x": "2020-03-22T00:00:00",
          "xref": "x",
          "y": 1,
          "yref": "paper"
         }
        ],
        "font": {
         "color": "#7f7f7f",
         "family": "Courier New, monospace",
         "size": 12
        },
        "height": 600,
        "legend": {
         "orientation": "h",
         "y": -0.2
        },
        "shapes": [
         {
          "layer": "above",
          "line": {
           "color": "Grey",
           "dash": "solid",
           "width": 1
          },
          "opacity": 1,
          "type": "line",
          "x0": "2020-02-22T00:00:00",
          "x1": "2020-02-22T00:00:00",
          "xref": "x",
          "y0": 0,
          "y1": 1,
          "yref": "paper"
         },
         {
          "layer": "above",
          "line": {
           "color": "Grey",
           "dash": "solid",
           "width": 1
          },
          "opacity": 1,
          "type": "line",
          "x0": "2020-02-26T00:00:00",
          "x1": "2020-02-26T00:00:00",
          "xref": "x",
          "y0": 0,
          "y1": 1,
          "yref": "paper"
         },
         {
          "layer": "above",
          "line": {
           "color": "Grey",
           "dash": "solid",
           "width": 1
          },
          "opacity": 1,
          "type": "line",
          "x0": "2020-03-01T00:00:00",
          "x1": "2020-03-01T00:00:00",
          "xref": "x",
          "y0": 0,
          "y1": 1,
          "yref": "paper"
         },
         {
          "fillcolor": "Red",
          "layer": "above",
          "line": {
           "width": 0
          },
          "opacity": 0.3,
          "type": "rect",
          "x0": "2020-03-01T00:00:00",
          "x1": "2020-03-15T00:00:00",
          "xref": "x",
          "y0": 0,
          "y1": 1,
          "yref": "paper"
         },
         {
          "layer": "above",
          "line": {
           "color": "Grey",
           "dash": "solid",
           "width": 1
          },
          "opacity": 1,
          "type": "line",
          "x0": "2020-03-15T00:00:00",
          "x1": "2020-03-15T00:00:00",
          "xref": "x",
          "y0": 0,
          "y1": 1,
          "yref": "paper"
         },
         {
          "layer": "above",
          "line": {
           "color": "Grey",
           "dash": "solid",
           "width": 1
          },
          "opacity": 1,
          "type": "line",
          "x0": "2020-03-08T00:00:00",
          "x1": "2020-03-08T00:00:00",
          "xref": "x",
          "y0": 0,
          "y1": 1,
          "yref": "paper"
         },
         {
          "layer": "above",
          "line": {
           "color": "Grey",
           "dash": "solid",
           "width": 1
          },
          "opacity": 1,
          "type": "line",
          "x0": "2020-03-22T00:00:00",
          "x1": "2020-03-22T00:00:00",
          "xref": "x",
          "y0": 0,
          "y1": 1,
          "yref": "paper"
         }
        ],
        "showlegend": true,
        "template": {
         "data": {
          "bar": [
           {
            "error_x": {
             "color": "rgb(51,51,51)"
            },
            "error_y": {
             "color": "rgb(51,51,51)"
            },
            "marker": {
             "line": {
              "color": "rgb(237,237,237)",
              "width": 0.5
             }
            },
            "type": "bar"
           }
          ],
          "barpolar": [
           {
            "marker": {
             "line": {
              "color": "rgb(237,237,237)",
              "width": 0.5
             }
            },
            "type": "barpolar"
           }
          ],
          "carpet": [
           {
            "aaxis": {
             "endlinecolor": "rgb(51,51,51)",
             "gridcolor": "white",
             "linecolor": "white",
             "minorgridcolor": "white",
             "startlinecolor": "rgb(51,51,51)"
            },
            "baxis": {
             "endlinecolor": "rgb(51,51,51)",
             "gridcolor": "white",
             "linecolor": "white",
             "minorgridcolor": "white",
             "startlinecolor": "rgb(51,51,51)"
            },
            "type": "carpet"
           }
          ],
          "choropleth": [
           {
            "colorbar": {
             "outlinewidth": 0,
             "tickcolor": "rgb(237,237,237)",
             "ticklen": 6,
             "ticks": "inside"
            },
            "type": "choropleth"
           }
          ],
          "contour": [
           {
            "colorbar": {
             "outlinewidth": 0,
             "tickcolor": "rgb(237,237,237)",
             "ticklen": 6,
             "ticks": "inside"
            },
            "colorscale": [
             [
              0,
              "rgb(20,44,66)"
             ],
             [
              1,
              "rgb(90,179,244)"
             ]
            ],
            "type": "contour"
           }
          ],
          "contourcarpet": [
           {
            "colorbar": {
             "outlinewidth": 0,
             "tickcolor": "rgb(237,237,237)",
             "ticklen": 6,
             "ticks": "inside"
            },
            "type": "contourcarpet"
           }
          ],
          "heatmap": [
           {
            "colorbar": {
             "outlinewidth": 0,
             "tickcolor": "rgb(237,237,237)",
             "ticklen": 6,
             "ticks": "inside"
            },
            "colorscale": [
             [
              0,
              "rgb(20,44,66)"
             ],
             [
              1,
              "rgb(90,179,244)"
             ]
            ],
            "type": "heatmap"
           }
          ],
          "heatmapgl": [
           {
            "colorbar": {
             "outlinewidth": 0,
             "tickcolor": "rgb(237,237,237)",
             "ticklen": 6,
             "ticks": "inside"
            },
            "colorscale": [
             [
              0,
              "rgb(20,44,66)"
             ],
             [
              1,
              "rgb(90,179,244)"
             ]
            ],
            "type": "heatmapgl"
           }
          ],
          "histogram": [
           {
            "marker": {
             "colorbar": {
              "outlinewidth": 0,
              "tickcolor": "rgb(237,237,237)",
              "ticklen": 6,
              "ticks": "inside"
             }
            },
            "type": "histogram"
           }
          ],
          "histogram2d": [
           {
            "colorbar": {
             "outlinewidth": 0,
             "tickcolor": "rgb(237,237,237)",
             "ticklen": 6,
             "ticks": "inside"
            },
            "colorscale": [
             [
              0,
              "rgb(20,44,66)"
             ],
             [
              1,
              "rgb(90,179,244)"
             ]
            ],
            "type": "histogram2d"
           }
          ],
          "histogram2dcontour": [
           {
            "colorbar": {
             "outlinewidth": 0,
             "tickcolor": "rgb(237,237,237)",
             "ticklen": 6,
             "ticks": "inside"
            },
            "colorscale": [
             [
              0,
              "rgb(20,44,66)"
             ],
             [
              1,
              "rgb(90,179,244)"
             ]
            ],
            "type": "histogram2dcontour"
           }
          ],
          "mesh3d": [
           {
            "colorbar": {
             "outlinewidth": 0,
             "tickcolor": "rgb(237,237,237)",
             "ticklen": 6,
             "ticks": "inside"
            },
            "type": "mesh3d"
           }
          ],
          "parcoords": [
           {
            "line": {
             "colorbar": {
              "outlinewidth": 0,
              "tickcolor": "rgb(237,237,237)",
              "ticklen": 6,
              "ticks": "inside"
             }
            },
            "type": "parcoords"
           }
          ],
          "pie": [
           {
            "automargin": true,
            "type": "pie"
           }
          ],
          "scatter": [
           {
            "marker": {
             "colorbar": {
              "outlinewidth": 0,
              "tickcolor": "rgb(237,237,237)",
              "ticklen": 6,
              "ticks": "inside"
             }
            },
            "type": "scatter"
           }
          ],
          "scatter3d": [
           {
            "line": {
             "colorbar": {
              "outlinewidth": 0,
              "tickcolor": "rgb(237,237,237)",
              "ticklen": 6,
              "ticks": "inside"
             }
            },
            "marker": {
             "colorbar": {
              "outlinewidth": 0,
              "tickcolor": "rgb(237,237,237)",
              "ticklen": 6,
              "ticks": "inside"
             }
            },
            "type": "scatter3d"
           }
          ],
          "scattercarpet": [
           {
            "marker": {
             "colorbar": {
              "outlinewidth": 0,
              "tickcolor": "rgb(237,237,237)",
              "ticklen": 6,
              "ticks": "inside"
             }
            },
            "type": "scattercarpet"
           }
          ],
          "scattergeo": [
           {
            "marker": {
             "colorbar": {
              "outlinewidth": 0,
              "tickcolor": "rgb(237,237,237)",
              "ticklen": 6,
              "ticks": "inside"
             }
            },
            "type": "scattergeo"
           }
          ],
          "scattergl": [
           {
            "marker": {
             "colorbar": {
              "outlinewidth": 0,
              "tickcolor": "rgb(237,237,237)",
              "ticklen": 6,
              "ticks": "inside"
             }
            },
            "type": "scattergl"
           }
          ],
          "scattermapbox": [
           {
            "marker": {
             "colorbar": {
              "outlinewidth": 0,
              "tickcolor": "rgb(237,237,237)",
              "ticklen": 6,
              "ticks": "inside"
             }
            },
            "type": "scattermapbox"
           }
          ],
          "scatterpolar": [
           {
            "marker": {
             "colorbar": {
              "outlinewidth": 0,
              "tickcolor": "rgb(237,237,237)",
              "ticklen": 6,
              "ticks": "inside"
             }
            },
            "type": "scatterpolar"
           }
          ],
          "scatterpolargl": [
           {
            "marker": {
             "colorbar": {
              "outlinewidth": 0,
              "tickcolor": "rgb(237,237,237)",
              "ticklen": 6,
              "ticks": "inside"
             }
            },
            "type": "scatterpolargl"
           }
          ],
          "scatterternary": [
           {
            "marker": {
             "colorbar": {
              "outlinewidth": 0,
              "tickcolor": "rgb(237,237,237)",
              "ticklen": 6,
              "ticks": "inside"
             }
            },
            "type": "scatterternary"
           }
          ],
          "surface": [
           {
            "colorbar": {
             "outlinewidth": 0,
             "tickcolor": "rgb(237,237,237)",
             "ticklen": 6,
             "ticks": "inside"
            },
            "colorscale": [
             [
              0,
              "rgb(20,44,66)"
             ],
             [
              1,
              "rgb(90,179,244)"
             ]
            ],
            "type": "surface"
           }
          ],
          "table": [
           {
            "cells": {
             "fill": {
              "color": "rgb(237,237,237)"
             },
             "line": {
              "color": "white"
             }
            },
            "header": {
             "fill": {
              "color": "rgb(217,217,217)"
             },
             "line": {
              "color": "white"
             }
            },
            "type": "table"
           }
          ]
         },
         "layout": {
          "annotationdefaults": {
           "arrowhead": 0,
           "arrowwidth": 1
          },
          "coloraxis": {
           "colorbar": {
            "outlinewidth": 0,
            "tickcolor": "rgb(237,237,237)",
            "ticklen": 6,
            "ticks": "inside"
           }
          },
          "colorscale": {
           "sequential": [
            [
             0,
             "rgb(20,44,66)"
            ],
            [
             1,
             "rgb(90,179,244)"
            ]
           ],
           "sequentialminus": [
            [
             0,
             "rgb(20,44,66)"
            ],
            [
             1,
             "rgb(90,179,244)"
            ]
           ]
          },
          "colorway": [
           "#F8766D",
           "#A3A500",
           "#00BF7D",
           "#00B0F6",
           "#E76BF3"
          ],
          "font": {
           "color": "rgb(51,51,51)"
          },
          "geo": {
           "bgcolor": "white",
           "lakecolor": "white",
           "landcolor": "rgb(237,237,237)",
           "showlakes": true,
           "showland": true,
           "subunitcolor": "white"
          },
          "hoverlabel": {
           "align": "left"
          },
          "hovermode": "closest",
          "paper_bgcolor": "white",
          "plot_bgcolor": "rgb(237,237,237)",
          "polar": {
           "angularaxis": {
            "gridcolor": "white",
            "linecolor": "white",
            "showgrid": true,
            "tickcolor": "rgb(51,51,51)",
            "ticks": "outside"
           },
           "bgcolor": "rgb(237,237,237)",
           "radialaxis": {
            "gridcolor": "white",
            "linecolor": "white",
            "showgrid": true,
            "tickcolor": "rgb(51,51,51)",
            "ticks": "outside"
           }
          },
          "scene": {
           "xaxis": {
            "backgroundcolor": "rgb(237,237,237)",
            "gridcolor": "white",
            "gridwidth": 2,
            "linecolor": "white",
            "showbackground": true,
            "showgrid": true,
            "tickcolor": "rgb(51,51,51)",
            "ticks": "outside",
            "zerolinecolor": "white"
           },
           "yaxis": {
            "backgroundcolor": "rgb(237,237,237)",
            "gridcolor": "white",
            "gridwidth": 2,
            "linecolor": "white",
            "showbackground": true,
            "showgrid": true,
            "tickcolor": "rgb(51,51,51)",
            "ticks": "outside",
            "zerolinecolor": "white"
           },
           "zaxis": {
            "backgroundcolor": "rgb(237,237,237)",
            "gridcolor": "white",
            "gridwidth": 2,
            "linecolor": "white",
            "showbackground": true,
            "showgrid": true,
            "tickcolor": "rgb(51,51,51)",
            "ticks": "outside",
            "zerolinecolor": "white"
           }
          },
          "shapedefaults": {
           "fillcolor": "black",
           "line": {
            "width": 0
           },
           "opacity": 0.3
          },
          "ternary": {
           "aaxis": {
            "gridcolor": "white",
            "linecolor": "white",
            "showgrid": true,
            "tickcolor": "rgb(51,51,51)",
            "ticks": "outside"
           },
           "baxis": {
            "gridcolor": "white",
            "linecolor": "white",
            "showgrid": true,
            "tickcolor": "rgb(51,51,51)",
            "ticks": "outside"
           },
           "bgcolor": "rgb(237,237,237)",
           "caxis": {
            "gridcolor": "white",
            "linecolor": "white",
            "showgrid": true,
            "tickcolor": "rgb(51,51,51)",
            "ticks": "outside"
           }
          },
          "xaxis": {
           "automargin": true,
           "gridcolor": "white",
           "linecolor": "white",
           "showgrid": true,
           "tickcolor": "rgb(51,51,51)",
           "ticks": "outside",
           "title": {
            "standoff": 15
           },
           "zerolinecolor": "white"
          },
          "yaxis": {
           "automargin": true,
           "gridcolor": "white",
           "linecolor": "white",
           "showgrid": true,
           "tickcolor": "rgb(51,51,51)",
           "ticks": "outside",
           "title": {
            "standoff": 15
           },
           "zerolinecolor": "white"
          }
         }
        },
        "title": {
         "text": ""
        },
        "width": 900,
        "xaxis": {
         "range": [
          "2020-01-23T19:12:00",
          "2020-06-08T04:48:00"
         ],
         "title": {
          "text": "Date"
         }
        },
        "yaxis": {
         "title": {
          "text": "Deviation from the baseline, %"
         }
        }
       }
      },
      "text/html": [
       "<div>\n",
       "        \n",
       "        \n",
       "            <div id=\"76491451-678b-4973-a753-762d11b21c3b\" class=\"plotly-graph-div\" style=\"height:600px; width:900px;\"></div>\n",
       "            <script type=\"text/javascript\">\n",
       "                require([\"plotly\"], function(Plotly) {\n",
       "                    window.PLOTLYENV=window.PLOTLYENV || {};\n",
       "                    \n",
       "                if (document.getElementById(\"76491451-678b-4973-a753-762d11b21c3b\")) {\n",
       "                    Plotly.newPlot(\n",
       "                        '76491451-678b-4973-a753-762d11b21c3b',\n",
       "                        [{\"name\": \"Average index\", \"type\": \"scatter\", \"x\": [\"2020-02-15T00:00:00\", \"2020-02-16T00:00:00\", \"2020-02-17T00:00:00\", \"2020-02-18T00:00:00\", \"2020-02-19T00:00:00\", \"2020-02-20T00:00:00\", \"2020-02-21T00:00:00\", \"2020-02-22T00:00:00\", \"2020-02-23T00:00:00\", \"2020-02-24T00:00:00\", \"2020-02-25T00:00:00\", \"2020-02-26T00:00:00\", \"2020-02-27T00:00:00\", \"2020-02-28T00:00:00\", \"2020-02-29T00:00:00\", \"2020-03-01T00:00:00\", \"2020-03-02T00:00:00\", \"2020-03-03T00:00:00\", \"2020-03-04T00:00:00\", \"2020-03-05T00:00:00\", \"2020-03-06T00:00:00\", \"2020-03-07T00:00:00\", \"2020-03-08T00:00:00\", \"2020-03-09T00:00:00\", \"2020-03-10T00:00:00\", \"2020-03-11T00:00:00\", \"2020-03-12T00:00:00\", \"2020-03-13T00:00:00\", \"2020-03-14T00:00:00\", \"2020-03-15T00:00:00\", \"2020-03-16T00:00:00\", \"2020-03-17T00:00:00\", \"2020-03-18T00:00:00\", \"2020-03-19T00:00:00\", \"2020-03-20T00:00:00\", \"2020-03-21T00:00:00\", \"2020-03-22T00:00:00\", \"2020-03-23T00:00:00\", \"2020-03-24T00:00:00\", \"2020-03-25T00:00:00\", \"2020-03-26T00:00:00\", \"2020-03-27T00:00:00\", \"2020-03-28T00:00:00\", \"2020-03-29T00:00:00\", \"2020-03-30T00:00:00\", \"2020-03-31T00:00:00\", \"2020-04-01T00:00:00\", \"2020-04-02T00:00:00\", \"2020-04-03T00:00:00\", \"2020-04-04T00:00:00\", \"2020-04-05T00:00:00\", \"2020-04-06T00:00:00\", \"2020-04-07T00:00:00\", \"2020-04-08T00:00:00\", \"2020-04-09T00:00:00\", \"2020-04-10T00:00:00\", \"2020-04-11T00:00:00\", \"2020-04-12T00:00:00\", \"2020-04-13T00:00:00\", \"2020-04-14T00:00:00\", \"2020-04-15T00:00:00\", \"2020-04-16T00:00:00\", \"2020-04-17T00:00:00\", \"2020-04-18T00:00:00\", \"2020-04-19T00:00:00\", \"2020-04-20T00:00:00\", \"2020-04-21T00:00:00\", \"2020-04-22T00:00:00\", \"2020-04-23T00:00:00\", \"2020-04-24T00:00:00\", \"2020-04-25T00:00:00\", \"2020-04-26T00:00:00\", \"2020-04-27T00:00:00\", \"2020-04-28T00:00:00\", \"2020-04-29T00:00:00\", \"2020-04-30T00:00:00\", \"2020-05-01T00:00:00\", \"2020-05-02T00:00:00\", \"2020-05-03T00:00:00\", \"2020-05-04T00:00:00\", \"2020-05-05T00:00:00\", \"2020-05-06T00:00:00\", \"2020-05-07T00:00:00\", \"2020-05-08T00:00:00\", \"2020-05-09T00:00:00\", \"2020-05-10T00:00:00\", \"2020-05-11T00:00:00\", \"2020-05-12T00:00:00\", \"2020-05-13T00:00:00\", \"2020-05-14T00:00:00\", \"2020-05-15T00:00:00\", \"2020-05-16T00:00:00\", \"2020-05-17T00:00:00\", \"2020-05-18T00:00:00\", \"2020-05-19T00:00:00\", \"2020-05-20T00:00:00\", \"2020-05-21T00:00:00\", \"2020-05-22T00:00:00\", \"2020-05-23T00:00:00\", \"2020-05-24T00:00:00\", \"2020-05-25T00:00:00\"], \"y\": [2.75, 4.25, 1.25, 2.25, 0.75, 2.25, 1.75, 2.5, 4.5, -2.5, -8.5, -13.25, -11.75, -10.5, -9.25, -13.75, -13.5, -9.25, -8.25, -14.0, -15.25, -14.25, -16.5, -24.25, -31.75, -40.0, -51.75, -56.75, -65.0, -71.25, -61.0, -63.75, -65.0, -66.0, -65.25, -70.0, -82.5, -68.5, -69.75, -71.5, -72.75, -70.5, -72.0, -82.25, -69.5, -70.25, -70.0, -69.75, -67.5, -70.0, -81.25, -66.5, -66.0, -66.0, -64.5, -63.25, -67.0, -86.0, -92.5, -66.0, -64.5, -63.75, -63.0, -67.0, -79.5, -66.75, -65.5, -65.25, -63.25, -58.75, -83.5, -75.25, -58.75, -61.5, -60.0, -55.5, -88.5, -59.25, -70.5, -46.25, -47.75, -48.25, -47.5, -46.5, -45.5, -55.0, -48.25, -44.5, -46.75, -44.5, -45.0, -43.5, -49.25, -35.25, -36.25, -35.75, -33.75, -33.25, -28.5, -31.25, -32.0]}],\n",
       "                        {\"annotations\": [{\"align\": \"left\", \"arrowcolor\": \"#606060\", \"arrowhead\": 2, \"arrowsize\": 1, \"arrowwidth\": 1, \"ax\": -80, \"ay\": 25, \"bgcolor\": \"LightGreen\", \"bordercolor\": \"Grey\", \"borderpad\": 4, \"borderwidth\": 1, \"font\": {\"color\": \"Black\", \"family\": \"Courier New, monospace\", \"size\": 12}, \"opacity\": 0.7, \"showarrow\": true, \"text\": \"Measures imposed in<br>northern regions\", \"x\": \"2020-02-22T00:00:00\", \"xref\": \"x\", \"y\": 1, \"yref\": \"paper\"}, {\"align\": \"left\", \"arrowcolor\": \"#606060\", \"arrowhead\": 2, \"arrowsize\": 1, \"arrowwidth\": 1, \"ax\": -90, \"ay\": 70, \"bgcolor\": \"LightGreen\", \"bordercolor\": \"Grey\", \"borderpad\": 4, \"borderwidth\": 1, \"font\": {\"color\": \"Black\", \"family\": \"Courier New, monospace\", \"size\": 12}, \"opacity\": 0.7, \"showarrow\": true, \"text\": \"Drop in mobilitly<br>in northern regions\", \"x\": \"2020-02-26T00:00:00\", \"xref\": \"x\", \"y\": 1, \"yref\": \"paper\"}, {\"align\": \"left\", \"arrowcolor\": \"#606060\", \"arrowhead\": 2, \"arrowsize\": 1, \"arrowwidth\": 1, \"ax\": -50, \"ay\": -20, \"bgcolor\": \"LightGreen\", \"bordercolor\": \"Grey\", \"borderpad\": 4, \"borderwidth\": 1, \"font\": {\"color\": \"Black\", \"family\": \"Courier New, monospace\", \"size\": 12}, \"opacity\": 0.7, \"showarrow\": true, \"text\": \"Nationwide measures\", \"x\": \"2020-03-01T00:00:00\", \"xref\": \"x\", \"y\": 1, \"yref\": \"paper\"}, {\"align\": \"left\", \"arrowcolor\": \"#606060\", \"arrowhead\": 2, \"arrowsize\": 1, \"arrowwidth\": 1, \"ax\": 150, \"ay\": -60, \"bgcolor\": \"Pink\", \"bordercolor\": \"Grey\", \"borderpad\": 4, \"borderwidth\": 1, \"font\": {\"color\": \"Black\", \"family\": \"Courier New, monospace\", \"size\": 12}, \"opacity\": 0.7, \"showarrow\": true, \"text\": \"15-days delay betwwen nationwide measures<br>and significant drop in mobility\", \"x\": \"2020-03-15T00:00:00\", \"xref\": \"x\", \"y\": 1, \"yref\": \"paper\"}, {\"align\": \"left\", \"arrowcolor\": \"#606060\", \"arrowhead\": 2, \"arrowsize\": 1, \"arrowwidth\": 1, \"ax\": -60, \"ay\": -60, \"bgcolor\": \"LightGreen\", \"bordercolor\": \"Grey\", \"borderpad\": 4, \"borderwidth\": 1, \"font\": {\"color\": \"Black\", \"family\": \"Courier New, monospace\", \"size\": 12}, \"opacity\": 0.7, \"showarrow\": true, \"text\": \"Penalties for violation<br>measures introduced\", \"x\": \"2020-03-08T00:00:00\", \"xref\": \"x\", \"y\": 1, \"yref\": \"paper\"}, {\"align\": \"left\", \"arrowcolor\": \"#606060\", \"arrowhead\": 2, \"arrowsize\": 1, \"arrowwidth\": 1, \"ax\": 50, \"ay\": -20, \"bgcolor\": \"LightGreen\", \"bordercolor\": \"Grey\", \"borderpad\": 4, \"borderwidth\": 1, \"font\": {\"color\": \"Black\", \"family\": \"Courier New, monospace\", \"size\": 12}, \"opacity\": 0.7, \"showarrow\": true, \"text\": \"Mobility index reaches minimum\", \"x\": \"2020-03-22T00:00:00\", \"xref\": \"x\", \"y\": 1, \"yref\": \"paper\"}], \"font\": {\"color\": \"#7f7f7f\", \"family\": \"Courier New, monospace\", \"size\": 12}, \"height\": 600, \"legend\": {\"orientation\": \"h\", \"y\": -0.2}, \"shapes\": [{\"layer\": \"above\", \"line\": {\"color\": \"Grey\", \"dash\": \"solid\", \"width\": 1}, \"opacity\": 1, \"type\": \"line\", \"x0\": \"2020-02-22T00:00:00\", \"x1\": \"2020-02-22T00:00:00\", \"xref\": \"x\", \"y0\": 0, \"y1\": 1, \"yref\": \"paper\"}, {\"layer\": \"above\", \"line\": {\"color\": \"Grey\", \"dash\": \"solid\", \"width\": 1}, \"opacity\": 1, \"type\": \"line\", \"x0\": \"2020-02-26T00:00:00\", \"x1\": \"2020-02-26T00:00:00\", \"xref\": \"x\", \"y0\": 0, \"y1\": 1, \"yref\": \"paper\"}, {\"layer\": \"above\", \"line\": {\"color\": \"Grey\", \"dash\": \"solid\", \"width\": 1}, \"opacity\": 1, \"type\": \"line\", \"x0\": \"2020-03-01T00:00:00\", \"x1\": \"2020-03-01T00:00:00\", \"xref\": \"x\", \"y0\": 0, \"y1\": 1, \"yref\": \"paper\"}, {\"fillcolor\": \"Red\", \"layer\": \"above\", \"line\": {\"width\": 0}, \"opacity\": 0.3, \"type\": \"rect\", \"x0\": \"2020-03-01T00:00:00\", \"x1\": \"2020-03-15T00:00:00\", \"xref\": \"x\", \"y0\": 0, \"y1\": 1, \"yref\": \"paper\"}, {\"layer\": \"above\", \"line\": {\"color\": \"Grey\", \"dash\": \"solid\", \"width\": 1}, \"opacity\": 1, \"type\": \"line\", \"x0\": \"2020-03-15T00:00:00\", \"x1\": \"2020-03-15T00:00:00\", \"xref\": \"x\", \"y0\": 0, \"y1\": 1, \"yref\": \"paper\"}, {\"layer\": \"above\", \"line\": {\"color\": \"Grey\", \"dash\": \"solid\", \"width\": 1}, \"opacity\": 1, \"type\": \"line\", \"x0\": \"2020-03-08T00:00:00\", \"x1\": \"2020-03-08T00:00:00\", \"xref\": \"x\", \"y0\": 0, \"y1\": 1, \"yref\": \"paper\"}, {\"layer\": \"above\", \"line\": {\"color\": \"Grey\", \"dash\": \"solid\", \"width\": 1}, \"opacity\": 1, \"type\": \"line\", \"x0\": \"2020-03-22T00:00:00\", \"x1\": \"2020-03-22T00:00:00\", \"xref\": \"x\", \"y0\": 0, \"y1\": 1, \"yref\": \"paper\"}], \"showlegend\": true, \"template\": {\"data\": {\"bar\": [{\"error_x\": {\"color\": \"rgb(51,51,51)\"}, \"error_y\": {\"color\": \"rgb(51,51,51)\"}, \"marker\": {\"line\": {\"color\": \"rgb(237,237,237)\", \"width\": 0.5}}, \"type\": \"bar\"}], \"barpolar\": [{\"marker\": {\"line\": {\"color\": \"rgb(237,237,237)\", \"width\": 0.5}}, \"type\": \"barpolar\"}], \"carpet\": [{\"aaxis\": {\"endlinecolor\": \"rgb(51,51,51)\", \"gridcolor\": \"white\", \"linecolor\": \"white\", \"minorgridcolor\": \"white\", \"startlinecolor\": \"rgb(51,51,51)\"}, \"baxis\": {\"endlinecolor\": \"rgb(51,51,51)\", \"gridcolor\": \"white\", \"linecolor\": \"white\", \"minorgridcolor\": \"white\", \"startlinecolor\": \"rgb(51,51,51)\"}, \"type\": \"carpet\"}], \"choropleth\": [{\"colorbar\": {\"outlinewidth\": 0, \"tickcolor\": \"rgb(237,237,237)\", \"ticklen\": 6, \"ticks\": \"inside\"}, \"type\": \"choropleth\"}], \"contour\": [{\"colorbar\": {\"outlinewidth\": 0, \"tickcolor\": \"rgb(237,237,237)\", \"ticklen\": 6, \"ticks\": \"inside\"}, \"colorscale\": [[0, \"rgb(20,44,66)\"], [1, \"rgb(90,179,244)\"]], \"type\": \"contour\"}], \"contourcarpet\": [{\"colorbar\": {\"outlinewidth\": 0, \"tickcolor\": \"rgb(237,237,237)\", \"ticklen\": 6, \"ticks\": \"inside\"}, \"type\": \"contourcarpet\"}], \"heatmap\": [{\"colorbar\": {\"outlinewidth\": 0, \"tickcolor\": \"rgb(237,237,237)\", \"ticklen\": 6, \"ticks\": \"inside\"}, \"colorscale\": [[0, \"rgb(20,44,66)\"], [1, \"rgb(90,179,244)\"]], \"type\": \"heatmap\"}], \"heatmapgl\": [{\"colorbar\": {\"outlinewidth\": 0, \"tickcolor\": \"rgb(237,237,237)\", \"ticklen\": 6, \"ticks\": \"inside\"}, \"colorscale\": [[0, \"rgb(20,44,66)\"], [1, \"rgb(90,179,244)\"]], \"type\": \"heatmapgl\"}], \"histogram\": [{\"marker\": {\"colorbar\": {\"outlinewidth\": 0, \"tickcolor\": \"rgb(237,237,237)\", \"ticklen\": 6, \"ticks\": \"inside\"}}, \"type\": \"histogram\"}], \"histogram2d\": [{\"colorbar\": {\"outlinewidth\": 0, \"tickcolor\": \"rgb(237,237,237)\", \"ticklen\": 6, \"ticks\": \"inside\"}, \"colorscale\": [[0, \"rgb(20,44,66)\"], [1, \"rgb(90,179,244)\"]], \"type\": \"histogram2d\"}], \"histogram2dcontour\": [{\"colorbar\": {\"outlinewidth\": 0, \"tickcolor\": \"rgb(237,237,237)\", \"ticklen\": 6, \"ticks\": \"inside\"}, \"colorscale\": [[0, \"rgb(20,44,66)\"], [1, \"rgb(90,179,244)\"]], \"type\": \"histogram2dcontour\"}], \"mesh3d\": [{\"colorbar\": {\"outlinewidth\": 0, \"tickcolor\": \"rgb(237,237,237)\", \"ticklen\": 6, \"ticks\": \"inside\"}, \"type\": \"mesh3d\"}], \"parcoords\": [{\"line\": {\"colorbar\": {\"outlinewidth\": 0, \"tickcolor\": \"rgb(237,237,237)\", \"ticklen\": 6, \"ticks\": \"inside\"}}, \"type\": \"parcoords\"}], \"pie\": [{\"automargin\": true, \"type\": \"pie\"}], \"scatter\": [{\"marker\": {\"colorbar\": {\"outlinewidth\": 0, \"tickcolor\": \"rgb(237,237,237)\", \"ticklen\": 6, \"ticks\": \"inside\"}}, \"type\": \"scatter\"}], \"scatter3d\": [{\"line\": {\"colorbar\": {\"outlinewidth\": 0, \"tickcolor\": \"rgb(237,237,237)\", \"ticklen\": 6, \"ticks\": \"inside\"}}, \"marker\": {\"colorbar\": {\"outlinewidth\": 0, \"tickcolor\": \"rgb(237,237,237)\", \"ticklen\": 6, \"ticks\": \"inside\"}}, \"type\": \"scatter3d\"}], \"scattercarpet\": [{\"marker\": {\"colorbar\": {\"outlinewidth\": 0, \"tickcolor\": \"rgb(237,237,237)\", \"ticklen\": 6, \"ticks\": \"inside\"}}, \"type\": \"scattercarpet\"}], \"scattergeo\": [{\"marker\": {\"colorbar\": {\"outlinewidth\": 0, \"tickcolor\": \"rgb(237,237,237)\", \"ticklen\": 6, \"ticks\": \"inside\"}}, \"type\": \"scattergeo\"}], \"scattergl\": [{\"marker\": {\"colorbar\": {\"outlinewidth\": 0, \"tickcolor\": \"rgb(237,237,237)\", \"ticklen\": 6, \"ticks\": \"inside\"}}, \"type\": \"scattergl\"}], \"scattermapbox\": [{\"marker\": {\"colorbar\": {\"outlinewidth\": 0, \"tickcolor\": \"rgb(237,237,237)\", \"ticklen\": 6, \"ticks\": \"inside\"}}, \"type\": \"scattermapbox\"}], \"scatterpolar\": [{\"marker\": {\"colorbar\": {\"outlinewidth\": 0, \"tickcolor\": \"rgb(237,237,237)\", \"ticklen\": 6, \"ticks\": \"inside\"}}, \"type\": \"scatterpolar\"}], \"scatterpolargl\": [{\"marker\": {\"colorbar\": {\"outlinewidth\": 0, \"tickcolor\": \"rgb(237,237,237)\", \"ticklen\": 6, \"ticks\": \"inside\"}}, \"type\": \"scatterpolargl\"}], \"scatterternary\": [{\"marker\": {\"colorbar\": {\"outlinewidth\": 0, \"tickcolor\": \"rgb(237,237,237)\", \"ticklen\": 6, \"ticks\": \"inside\"}}, \"type\": \"scatterternary\"}], \"surface\": [{\"colorbar\": {\"outlinewidth\": 0, \"tickcolor\": \"rgb(237,237,237)\", \"ticklen\": 6, \"ticks\": \"inside\"}, \"colorscale\": [[0, \"rgb(20,44,66)\"], [1, \"rgb(90,179,244)\"]], \"type\": \"surface\"}], \"table\": [{\"cells\": {\"fill\": {\"color\": \"rgb(237,237,237)\"}, \"line\": {\"color\": \"white\"}}, \"header\": {\"fill\": {\"color\": \"rgb(217,217,217)\"}, \"line\": {\"color\": \"white\"}}, \"type\": \"table\"}]}, \"layout\": {\"annotationdefaults\": {\"arrowhead\": 0, \"arrowwidth\": 1}, \"coloraxis\": {\"colorbar\": {\"outlinewidth\": 0, \"tickcolor\": \"rgb(237,237,237)\", \"ticklen\": 6, \"ticks\": \"inside\"}}, \"colorscale\": {\"sequential\": [[0, \"rgb(20,44,66)\"], [1, \"rgb(90,179,244)\"]], \"sequentialminus\": [[0, \"rgb(20,44,66)\"], [1, \"rgb(90,179,244)\"]]}, \"colorway\": [\"#F8766D\", \"#A3A500\", \"#00BF7D\", \"#00B0F6\", \"#E76BF3\"], \"font\": {\"color\": \"rgb(51,51,51)\"}, \"geo\": {\"bgcolor\": \"white\", \"lakecolor\": \"white\", \"landcolor\": \"rgb(237,237,237)\", \"showlakes\": true, \"showland\": true, \"subunitcolor\": \"white\"}, \"hoverlabel\": {\"align\": \"left\"}, \"hovermode\": \"closest\", \"paper_bgcolor\": \"white\", \"plot_bgcolor\": \"rgb(237,237,237)\", \"polar\": {\"angularaxis\": {\"gridcolor\": \"white\", \"linecolor\": \"white\", \"showgrid\": true, \"tickcolor\": \"rgb(51,51,51)\", \"ticks\": \"outside\"}, \"bgcolor\": \"rgb(237,237,237)\", \"radialaxis\": {\"gridcolor\": \"white\", \"linecolor\": \"white\", \"showgrid\": true, \"tickcolor\": \"rgb(51,51,51)\", \"ticks\": \"outside\"}}, \"scene\": {\"xaxis\": {\"backgroundcolor\": \"rgb(237,237,237)\", \"gridcolor\": \"white\", \"gridwidth\": 2, \"linecolor\": \"white\", \"showbackground\": true, \"showgrid\": true, \"tickcolor\": \"rgb(51,51,51)\", \"ticks\": \"outside\", \"zerolinecolor\": \"white\"}, \"yaxis\": {\"backgroundcolor\": \"rgb(237,237,237)\", \"gridcolor\": \"white\", \"gridwidth\": 2, \"linecolor\": \"white\", \"showbackground\": true, \"showgrid\": true, \"tickcolor\": \"rgb(51,51,51)\", \"ticks\": \"outside\", \"zerolinecolor\": \"white\"}, \"zaxis\": {\"backgroundcolor\": \"rgb(237,237,237)\", \"gridcolor\": \"white\", \"gridwidth\": 2, \"linecolor\": \"white\", \"showbackground\": true, \"showgrid\": true, \"tickcolor\": \"rgb(51,51,51)\", \"ticks\": \"outside\", \"zerolinecolor\": \"white\"}}, \"shapedefaults\": {\"fillcolor\": \"black\", \"line\": {\"width\": 0}, \"opacity\": 0.3}, \"ternary\": {\"aaxis\": {\"gridcolor\": \"white\", \"linecolor\": \"white\", \"showgrid\": true, \"tickcolor\": \"rgb(51,51,51)\", \"ticks\": \"outside\"}, \"baxis\": {\"gridcolor\": \"white\", \"linecolor\": \"white\", \"showgrid\": true, \"tickcolor\": \"rgb(51,51,51)\", \"ticks\": \"outside\"}, \"bgcolor\": \"rgb(237,237,237)\", \"caxis\": {\"gridcolor\": \"white\", \"linecolor\": \"white\", \"showgrid\": true, \"tickcolor\": \"rgb(51,51,51)\", \"ticks\": \"outside\"}}, \"xaxis\": {\"automargin\": true, \"gridcolor\": \"white\", \"linecolor\": \"white\", \"showgrid\": true, \"tickcolor\": \"rgb(51,51,51)\", \"ticks\": \"outside\", \"title\": {\"standoff\": 15}, \"zerolinecolor\": \"white\"}, \"yaxis\": {\"automargin\": true, \"gridcolor\": \"white\", \"linecolor\": \"white\", \"showgrid\": true, \"tickcolor\": \"rgb(51,51,51)\", \"ticks\": \"outside\", \"title\": {\"standoff\": 15}, \"zerolinecolor\": \"white\"}}}, \"title\": {\"text\": \"\"}, \"width\": 900, \"xaxis\": {\"range\": [\"2020-01-23T19:12:00\", \"2020-06-08T04:48:00\"], \"title\": {\"text\": \"Date\"}}, \"yaxis\": {\"title\": {\"text\": \"Deviation from the baseline, %\"}}},\n",
       "                        {\"responsive\": true}\n",
       "                    ).then(function(){\n",
       "                            \n",
       "var gd = document.getElementById('76491451-678b-4973-a753-762d11b21c3b');\n",
       "var x = new MutationObserver(function (mutations, observer) {{\n",
       "        var display = window.getComputedStyle(gd).display;\n",
       "        if (!display || display === 'none') {{\n",
       "            console.log([gd, 'removed!']);\n",
       "            Plotly.purge(gd);\n",
       "            observer.disconnect();\n",
       "        }}\n",
       "}});\n",
       "\n",
       "// Listen for the removal of the full notebook cells\n",
       "var notebookContainer = gd.closest('#notebook-container');\n",
       "if (notebookContainer) {{\n",
       "    x.observe(notebookContainer, {childList: true});\n",
       "}}\n",
       "\n",
       "// Listen for the clearing of the current output cell\n",
       "var outputEl = gd.closest('.output');\n",
       "if (outputEl) {{\n",
       "    x.observe(outputEl, {childList: true});\n",
       "}}\n",
       "\n",
       "                        })\n",
       "                };\n",
       "                });\n",
       "            </script>\n",
       "        </div>"
      ]
     },
     "metadata": {},
     "output_type": "display_data"
    },
    {
     "name": "stderr",
     "output_type": "stream",
     "text": [
      "Only pdf's can be merged"
     ]
    },
    {
     "data": {
      "application/vnd.plotly.v1+json": {
       "config": {
        "plotlyServerURL": "https://plot.ly"
       },
       "data": [
        {
         "mode": "markers",
         "name": "Data",
         "type": "scatter",
         "x": [
          "2020-01-30T00:00:00",
          "2020-01-31T00:00:00",
          "2020-02-01T00:00:00",
          "2020-02-02T00:00:00",
          "2020-02-03T00:00:00",
          "2020-02-04T00:00:00",
          "2020-02-05T00:00:00",
          "2020-02-06T00:00:00",
          "2020-02-07T00:00:00",
          "2020-02-08T00:00:00",
          "2020-02-09T00:00:00",
          "2020-02-10T00:00:00",
          "2020-02-11T00:00:00",
          "2020-02-12T00:00:00",
          "2020-02-13T00:00:00",
          "2020-02-14T00:00:00",
          "2020-02-15T00:00:00",
          "2020-02-16T00:00:00",
          "2020-02-17T00:00:00",
          "2020-02-18T00:00:00",
          "2020-02-19T00:00:00",
          "2020-02-20T00:00:00",
          "2020-02-21T00:00:00",
          "2020-02-22T00:00:00",
          "2020-02-23T00:00:00",
          "2020-02-24T00:00:00",
          "2020-02-25T00:00:00",
          "2020-02-26T00:00:00",
          "2020-02-27T00:00:00",
          "2020-02-28T00:00:00",
          "2020-02-29T00:00:00",
          "2020-03-01T00:00:00",
          "2020-03-02T00:00:00",
          "2020-03-03T00:00:00",
          "2020-03-04T00:00:00",
          "2020-03-05T00:00:00",
          "2020-03-06T00:00:00",
          "2020-03-07T00:00:00",
          "2020-03-08T00:00:00",
          "2020-03-09T00:00:00",
          "2020-03-10T00:00:00",
          "2020-03-11T00:00:00",
          "2020-03-12T00:00:00",
          "2020-03-13T00:00:00",
          "2020-03-14T00:00:00",
          "2020-03-15T00:00:00",
          "2020-03-16T00:00:00",
          "2020-03-17T00:00:00",
          "2020-03-18T00:00:00",
          "2020-03-19T00:00:00",
          "2020-03-20T00:00:00",
          "2020-03-21T00:00:00",
          "2020-03-22T00:00:00",
          "2020-03-23T00:00:00",
          "2020-03-24T00:00:00",
          "2020-03-25T00:00:00",
          "2020-03-26T00:00:00",
          "2020-03-27T00:00:00",
          "2020-03-28T00:00:00",
          "2020-03-29T00:00:00",
          "2020-03-30T00:00:00",
          "2020-03-31T00:00:00",
          "2020-04-01T00:00:00",
          "2020-04-02T00:00:00",
          "2020-04-03T00:00:00",
          "2020-04-04T00:00:00",
          "2020-04-05T00:00:00",
          "2020-04-06T00:00:00",
          "2020-04-07T00:00:00",
          "2020-04-08T00:00:00",
          "2020-04-09T00:00:00",
          "2020-04-10T00:00:00",
          "2020-04-11T00:00:00",
          "2020-04-12T00:00:00",
          "2020-04-13T00:00:00",
          "2020-04-14T00:00:00",
          "2020-04-15T00:00:00",
          "2020-04-16T00:00:00",
          "2020-04-17T00:00:00",
          "2020-04-18T00:00:00",
          "2020-04-19T00:00:00",
          "2020-04-20T00:00:00",
          "2020-04-21T00:00:00",
          "2020-04-22T00:00:00",
          "2020-04-23T00:00:00",
          "2020-04-24T00:00:00",
          "2020-04-25T00:00:00",
          "2020-04-26T00:00:00",
          "2020-04-27T00:00:00",
          "2020-04-28T00:00:00",
          "2020-04-29T00:00:00",
          "2020-04-30T00:00:00",
          "2020-05-01T00:00:00",
          "2020-05-02T00:00:00",
          "2020-05-03T00:00:00",
          "2020-05-04T00:00:00",
          "2020-05-05T00:00:00",
          "2020-05-06T00:00:00",
          "2020-05-07T00:00:00",
          "2020-05-08T00:00:00",
          "2020-05-09T00:00:00",
          "2020-05-10T00:00:00",
          "2020-05-11T00:00:00",
          "2020-05-12T00:00:00",
          "2020-05-13T00:00:00",
          "2020-05-14T00:00:00",
          "2020-05-15T00:00:00",
          "2020-05-16T00:00:00",
          "2020-05-17T00:00:00",
          "2020-05-18T00:00:00",
          "2020-05-19T00:00:00",
          "2020-05-20T00:00:00",
          "2020-05-21T00:00:00",
          "2020-05-22T00:00:00",
          "2020-05-23T00:00:00",
          "2020-05-24T00:00:00",
          "2020-05-25T00:00:00",
          "2020-05-26T00:00:00",
          "2020-05-27T00:00:00",
          "2020-05-28T00:00:00",
          "2020-05-29T00:00:00",
          "2020-05-30T00:00:00",
          "2020-05-31T00:00:00",
          "2020-06-01T00:00:00",
          "2020-06-02T00:00:00"
         ],
         "y": [
          0,
          3,
          0,
          0,
          0,
          0,
          0,
          0,
          0,
          0,
          0,
          0,
          0,
          0,
          0,
          0,
          0,
          0,
          0,
          0,
          0,
          0,
          0,
          14,
          62,
          53,
          97,
          93,
          78,
          250,
          238,
          240,
          561,
          347,
          466,
          587,
          769,
          778,
          1247,
          1492,
          1797,
          977,
          2313,
          2651,
          2547,
          3497,
          2823,
          4000,
          3526,
          4207,
          5322,
          5986,
          6557,
          5560,
          4789,
          5249,
          5210,
          6153,
          5959,
          5974,
          5217,
          4050,
          4053,
          4782,
          4668,
          4585,
          4805,
          4316,
          3599,
          3039,
          3836,
          4204,
          3951,
          4694,
          4092,
          3153,
          2972,
          2667,
          3786,
          3493,
          3491,
          3047,
          2256,
          2729,
          3370,
          2646,
          3021,
          2357,
          2324,
          1739,
          2091,
          2086,
          1872,
          1965,
          1900,
          1389,
          1221,
          1075,
          1444,
          1401,
          1327,
          1083,
          802,
          744,
          1402,
          888,
          992,
          789,
          875,
          675,
          451,
          813,
          665,
          642,
          652,
          669,
          531,
          300,
          397,
          584,
          593,
          516,
          416,
          355,
          178
         ]
        },
        {
         "line": {
          "dash": "dash",
          "width": 1
         },
         "name": "14-days correlation",
         "type": "scatter",
         "x": [
          "2020-02-12T00:00:00",
          "2020-02-13T00:00:00",
          "2020-02-14T00:00:00",
          "2020-02-15T00:00:00",
          "2020-02-16T00:00:00",
          "2020-02-17T00:00:00",
          "2020-02-18T00:00:00",
          "2020-02-19T00:00:00",
          "2020-02-20T00:00:00",
          "2020-02-21T00:00:00",
          "2020-02-22T00:00:00",
          "2020-02-23T00:00:00",
          "2020-02-24T00:00:00",
          "2020-02-25T00:00:00",
          "2020-02-26T00:00:00",
          "2020-02-27T00:00:00",
          "2020-02-28T00:00:00",
          "2020-02-29T00:00:00",
          "2020-03-01T00:00:00",
          "2020-03-02T00:00:00",
          "2020-03-03T00:00:00",
          "2020-03-04T00:00:00",
          "2020-03-05T00:00:00",
          "2020-03-06T00:00:00",
          "2020-03-07T00:00:00",
          "2020-03-08T00:00:00",
          "2020-03-09T00:00:00",
          "2020-03-10T00:00:00",
          "2020-03-11T00:00:00",
          "2020-03-12T00:00:00",
          "2020-03-13T00:00:00",
          "2020-03-14T00:00:00",
          "2020-03-15T00:00:00",
          "2020-03-16T00:00:00",
          "2020-03-17T00:00:00",
          "2020-03-18T00:00:00",
          "2020-03-19T00:00:00",
          "2020-03-20T00:00:00",
          "2020-03-21T00:00:00",
          "2020-03-22T00:00:00",
          "2020-03-23T00:00:00",
          "2020-03-24T00:00:00",
          "2020-03-25T00:00:00",
          "2020-03-26T00:00:00",
          "2020-03-27T00:00:00",
          "2020-03-28T00:00:00",
          "2020-03-29T00:00:00",
          "2020-03-30T00:00:00",
          "2020-03-31T00:00:00",
          "2020-04-01T00:00:00",
          "2020-04-02T00:00:00",
          "2020-04-03T00:00:00",
          "2020-04-04T00:00:00",
          "2020-04-05T00:00:00",
          "2020-04-06T00:00:00",
          "2020-04-07T00:00:00",
          "2020-04-08T00:00:00",
          "2020-04-09T00:00:00",
          "2020-04-10T00:00:00",
          "2020-04-11T00:00:00",
          "2020-04-12T00:00:00",
          "2020-04-13T00:00:00",
          "2020-04-14T00:00:00",
          "2020-04-15T00:00:00",
          "2020-04-16T00:00:00",
          "2020-04-17T00:00:00",
          "2020-04-18T00:00:00",
          "2020-04-19T00:00:00",
          "2020-04-20T00:00:00",
          "2020-04-21T00:00:00",
          "2020-04-22T00:00:00",
          "2020-04-23T00:00:00",
          "2020-04-24T00:00:00",
          "2020-04-25T00:00:00",
          "2020-04-26T00:00:00",
          "2020-04-27T00:00:00",
          "2020-04-28T00:00:00",
          "2020-04-29T00:00:00",
          "2020-04-30T00:00:00",
          "2020-05-01T00:00:00",
          "2020-05-02T00:00:00",
          "2020-05-03T00:00:00",
          "2020-05-04T00:00:00",
          "2020-05-05T00:00:00",
          "2020-05-06T00:00:00",
          "2020-05-07T00:00:00",
          "2020-05-08T00:00:00",
          "2020-05-09T00:00:00",
          "2020-05-10T00:00:00",
          "2020-05-11T00:00:00",
          "2020-05-12T00:00:00",
          "2020-05-13T00:00:00",
          "2020-05-14T00:00:00",
          "2020-05-15T00:00:00",
          "2020-05-16T00:00:00",
          "2020-05-17T00:00:00",
          "2020-05-18T00:00:00",
          "2020-05-19T00:00:00",
          "2020-05-20T00:00:00",
          "2020-05-21T00:00:00",
          "2020-05-22T00:00:00",
          "2020-05-23T00:00:00",
          "2020-05-24T00:00:00",
          "2020-05-25T00:00:00",
          "2020-05-26T00:00:00",
          "2020-05-27T00:00:00",
          "2020-05-28T00:00:00",
          "2020-05-29T00:00:00",
          "2020-05-30T00:00:00",
          "2020-05-31T00:00:00",
          "2020-06-01T00:00:00",
          "2020-06-02T00:00:00"
         ],
         "xaxis": "x",
         "y": [
          null,
          null,
          null,
          null,
          null,
          null,
          null,
          null,
          null,
          null,
          null,
          null,
          null,
          null,
          null,
          null,
          null,
          0.354637033242203,
          0.2559605901337654,
          -0.06682916136503701,
          -0.08400228227175255,
          0.11932737537353605,
          0.04570338932026117,
          0.25860024484387967,
          0.4952832417043598,
          0.7587622360374344,
          0.614881443222588,
          0.7681255880572608,
          0.5716023983312121,
          0.726313919717738,
          0.7772282299560876,
          0.8011704123801606,
          0.8468807014329525,
          0.8525441282506924,
          0.7614899119266356,
          0.7728331277496,
          0.7804903883214518,
          0.8324933986245786,
          0.8714206581593897,
          0.8895814045241968,
          0.8537963753366913,
          0.8392497711114798,
          0.8485323500808845,
          0.7459174625989888,
          0.7515016421948448,
          0.7324563171586241,
          0.6999071707114649,
          0.6400589534838266,
          0.41916411601075326,
          0.06063440888498935,
          -0.22312808835861841,
          -0.2951110941229453,
          -0.3201359242032854,
          -0.2680005409060632,
          -0.15564659594510016,
          -0.2281208958027967,
          -0.5027151629254953,
          -0.5650599652557956,
          -0.5570731523113646,
          -0.612652268058418,
          -0.4565488291517258,
          -0.28610753085005164,
          -0.05464710604774864,
          -0.0946335423081809,
          -0.3173964066745309,
          -0.26830722262665,
          -0.25356572895578555,
          -0.15208459318367404,
          0.027027452980246072,
          -0.007382087849064575,
          -0.09765527541257923,
          -0.08412923073525534,
          -0.16377008921197175,
          -0.21842048940727626,
          -0.11804202213180695,
          0.27638750323338135,
          0.3251125884739506,
          0.2693180977910213,
          0.16255380377185963,
          -0.09303719002993865,
          -0.13072226305289653,
          0.03296418029808327,
          0.3764444378096952,
          0.3520510155208246,
          0.2130424264159138,
          0.014714578698509135,
          -0.06798483442180771,
          -0.3038712171242194,
          -0.18068318459469015,
          0.33719397854118555,
          0.2142977963255562,
          0.18277322163012458,
          -0.022259008134504484,
          -0.23935220893311526,
          -0.2921156973896371,
          -0.07369375184614059,
          0.3726162153972785,
          0.3260321944579497,
          0.29192371338931855,
          0.13664686798324593,
          0.03536041496355569,
          -0.10378188138432382,
          0.010084986320916483,
          0.20401691695173005,
          0.22865956407613489,
          0.2551255662078714,
          0.16148723323594197,
          0.10111347828138607,
          0.037839360739577575,
          0.13220023413447915,
          0.4706567469100514,
          0.4828434582150508
         ],
         "yaxis": "y2"
        },
        {
         "name": "Last available data",
         "type": "scatter",
         "x": [
          "2020-01-30T00:00:00",
          "2020-01-31T00:00:00",
          "2020-02-01T00:00:00",
          "2020-02-02T00:00:00",
          "2020-02-03T00:00:00",
          "2020-02-04T00:00:00",
          "2020-02-05T00:00:00",
          "2020-02-06T00:00:00",
          "2020-02-07T00:00:00",
          "2020-02-08T00:00:00",
          "2020-02-09T00:00:00",
          "2020-02-10T00:00:00",
          "2020-02-11T00:00:00",
          "2020-02-12T00:00:00",
          "2020-02-13T00:00:00",
          "2020-02-14T00:00:00",
          "2020-02-15T00:00:00",
          "2020-02-16T00:00:00",
          "2020-02-17T00:00:00",
          "2020-02-18T00:00:00",
          "2020-02-19T00:00:00",
          "2020-02-20T00:00:00",
          "2020-02-21T00:00:00",
          "2020-02-22T00:00:00",
          "2020-02-23T00:00:00",
          "2020-02-24T00:00:00",
          "2020-02-25T00:00:00",
          "2020-02-26T00:00:00",
          "2020-02-27T00:00:00",
          "2020-02-28T00:00:00",
          "2020-02-29T00:00:00",
          "2020-03-01T00:00:00",
          "2020-03-02T00:00:00",
          "2020-03-03T00:00:00",
          "2020-03-04T00:00:00",
          "2020-03-05T00:00:00",
          "2020-03-06T00:00:00",
          "2020-03-07T00:00:00",
          "2020-03-08T00:00:00",
          "2020-03-09T00:00:00",
          "2020-03-10T00:00:00",
          "2020-03-11T00:00:00",
          "2020-03-12T00:00:00",
          "2020-03-13T00:00:00",
          "2020-03-14T00:00:00",
          "2020-03-15T00:00:00",
          "2020-03-16T00:00:00",
          "2020-03-17T00:00:00",
          "2020-03-18T00:00:00",
          "2020-03-19T00:00:00",
          "2020-03-20T00:00:00",
          "2020-03-21T00:00:00",
          "2020-03-22T00:00:00",
          "2020-03-23T00:00:00",
          "2020-03-24T00:00:00",
          "2020-03-25T00:00:00",
          "2020-03-26T00:00:00",
          "2020-03-27T00:00:00",
          "2020-03-28T00:00:00",
          "2020-03-29T00:00:00",
          "2020-03-30T00:00:00",
          "2020-03-31T00:00:00",
          "2020-04-01T00:00:00",
          "2020-04-02T00:00:00",
          "2020-04-03T00:00:00",
          "2020-04-04T00:00:00",
          "2020-04-05T00:00:00",
          "2020-04-06T00:00:00",
          "2020-04-07T00:00:00",
          "2020-04-08T00:00:00",
          "2020-04-09T00:00:00",
          "2020-04-10T00:00:00",
          "2020-04-11T00:00:00",
          "2020-04-12T00:00:00",
          "2020-04-13T00:00:00",
          "2020-04-14T00:00:00",
          "2020-04-15T00:00:00",
          "2020-04-16T00:00:00",
          "2020-04-17T00:00:00",
          "2020-04-18T00:00:00",
          "2020-04-19T00:00:00",
          "2020-04-20T00:00:00",
          "2020-04-21T00:00:00",
          "2020-04-22T00:00:00",
          "2020-04-23T00:00:00",
          "2020-04-24T00:00:00",
          "2020-04-25T00:00:00",
          "2020-04-26T00:00:00",
          "2020-04-27T00:00:00",
          "2020-04-28T00:00:00",
          "2020-04-29T00:00:00",
          "2020-04-30T00:00:00",
          "2020-05-01T00:00:00",
          "2020-05-02T00:00:00",
          "2020-05-03T00:00:00",
          "2020-05-04T00:00:00",
          "2020-05-05T00:00:00",
          "2020-05-06T00:00:00",
          "2020-05-07T00:00:00",
          "2020-05-08T00:00:00",
          "2020-05-09T00:00:00",
          "2020-05-10T00:00:00",
          "2020-05-11T00:00:00",
          "2020-05-12T00:00:00",
          "2020-05-13T00:00:00",
          "2020-05-14T00:00:00",
          "2020-05-15T00:00:00",
          "2020-05-16T00:00:00",
          "2020-05-17T00:00:00",
          "2020-05-18T00:00:00",
          "2020-05-19T00:00:00",
          "2020-05-20T00:00:00",
          "2020-05-21T00:00:00",
          "2020-05-22T00:00:00",
          "2020-05-23T00:00:00",
          "2020-05-24T00:00:00",
          "2020-05-25T00:00:00",
          "2020-05-26T00:00:00",
          "2020-05-27T00:00:00",
          "2020-05-28T00:00:00",
          "2020-05-29T00:00:00",
          "2020-05-30T00:00:00",
          "2020-05-31T00:00:00",
          "2020-06-01T00:00:00",
          "2020-06-02T00:00:00",
          "2020-06-03T00:00:00"
         ],
         "y": [
          45.04011877173948,
          49.48514378722502,
          54.36660567619708,
          59.726890692399266,
          65.61240498519764,
          72.07393572035718,
          79.16704039615152,
          86.9524656262429,
          95.49659648877875,
          104.87193729618515,
          115.15762430522594,
          126.43997044198713,
          138.81304153792817,
          152.3792628334264,
          167.25005357233815,
          183.5464863481542,
          201.3999664273436,
          220.95292452104925,
          242.35951434959566,
          265.78630378736705,
          291.41294532609714,
          319.4328079870347,
          350.0535485803004,
          383.4975952887941,
          420.0025108868619,
          459.82119644641307,
          503.2218891130686,
          550.4878994631786,
          601.9170251379115,
          657.8205680177559,
          718.5218723624942,
          784.3542914251818,
          855.658480525721,
          932.7789060898173,
          1016.0594535843513,
          1105.8380137175336,
          1202.4399271007874,
          1306.170174454455,
          1417.3042143258174,
          1536.0773953600342,
          1662.6729077612454,
          1797.2082910491335,
          1939.7205846880702,
          2090.1502962481386,
          2248.324469124214,
          2413.9392577365948,
          2586.5425598182464,
          2765.5174075391237,
          2950.066973409966,
          3139.202191280854,
          3331.7331119531104,
          3526.2651885590917,
          3721.2016985563487,
          3914.7534363848117,
          4104.956635404725,
          4289.699787139554,
          4466.759616717346,
          4633.845954876329,
          4788.654643129848,
          4928.9269597095035,
          5052.513414199879,
          5157.439193067313,
          5241.968114646653,
          5304.661733049846,
          5344.430262966315,
          5360.572304199051,
          5352.800918297288,
          5321.254409690447,
          5266.491121009115,
          5189.468576505295,
          5091.508299251746,
          4974.248492135546,
          4839.587431756224,
          4689.620827218458,
          4526.576523358093,
          4352.749792746455,
          4170.442102342209,
          3981.9057170796236,
          3789.2958812018815,
          3594.631665578939,
          3399.7659442802774,
          3206.3644117027316,
          3015.89310230976,
          2829.613542706546,
          2648.5844510130273,
          2473.6687915767957,
          2305.5449774234844,
          2144.7210684399365,
          1991.5509194436465,
          1846.251369761232,
          1708.919718221489,
          1579.5508814610723,
          1458.0537795443342,
          1344.2666247608872,
          1237.9709035017354,
          1138.9039359414244,
          1046.7699741036884,
          961.2498570926424,
          882.0092848189162,
          808.7058007416375,
          740.9945923447468,
          678.5332275208227,
          620.9854477827081,
          568.0241370281615,
          519.3335789242643,
          474.61110805621416,
          433.5682507437227,
          395.9314415875734,
          361.4423918992053,
          329.8581765617513,
          300.9510968214202,
          274.50836816637417,
          250.33167489579395,
          228.2366262406034,
          208.0521429572681,
          189.61979813958283,
          172.79313152688184,
          157.43695276813665,
          143.4266458638557,
          130.64748428543456,
          118.99396400095432,
          108.36915975780863,
          98.684108431256,
          89.85722199476356,
          81.813731658922,
          74.48516392216777
         ]
        },
        {
         "name": "Before 02.04",
         "type": "scatter",
         "x": [
          "2020-01-30T00:00:00",
          "2020-01-31T00:00:00",
          "2020-02-01T00:00:00",
          "2020-02-02T00:00:00",
          "2020-02-03T00:00:00",
          "2020-02-04T00:00:00",
          "2020-02-05T00:00:00",
          "2020-02-06T00:00:00",
          "2020-02-07T00:00:00",
          "2020-02-08T00:00:00",
          "2020-02-09T00:00:00",
          "2020-02-10T00:00:00",
          "2020-02-11T00:00:00",
          "2020-02-12T00:00:00",
          "2020-02-13T00:00:00",
          "2020-02-14T00:00:00",
          "2020-02-15T00:00:00",
          "2020-02-16T00:00:00",
          "2020-02-17T00:00:00",
          "2020-02-18T00:00:00",
          "2020-02-19T00:00:00",
          "2020-02-20T00:00:00",
          "2020-02-21T00:00:00",
          "2020-02-22T00:00:00",
          "2020-02-23T00:00:00",
          "2020-02-24T00:00:00",
          "2020-02-25T00:00:00",
          "2020-02-26T00:00:00",
          "2020-02-27T00:00:00",
          "2020-02-28T00:00:00",
          "2020-02-29T00:00:00",
          "2020-03-01T00:00:00",
          "2020-03-02T00:00:00",
          "2020-03-03T00:00:00",
          "2020-03-04T00:00:00",
          "2020-03-05T00:00:00",
          "2020-03-06T00:00:00",
          "2020-03-07T00:00:00",
          "2020-03-08T00:00:00",
          "2020-03-09T00:00:00",
          "2020-03-10T00:00:00",
          "2020-03-11T00:00:00",
          "2020-03-12T00:00:00",
          "2020-03-13T00:00:00",
          "2020-03-14T00:00:00",
          "2020-03-15T00:00:00",
          "2020-03-16T00:00:00",
          "2020-03-17T00:00:00",
          "2020-03-18T00:00:00",
          "2020-03-19T00:00:00",
          "2020-03-20T00:00:00",
          "2020-03-21T00:00:00",
          "2020-03-22T00:00:00",
          "2020-03-23T00:00:00",
          "2020-03-24T00:00:00",
          "2020-03-25T00:00:00",
          "2020-03-26T00:00:00",
          "2020-03-27T00:00:00",
          "2020-03-28T00:00:00",
          "2020-03-29T00:00:00",
          "2020-03-30T00:00:00",
          "2020-03-31T00:00:00",
          "2020-04-01T00:00:00",
          "2020-04-02T00:00:00",
          "2020-04-03T00:00:00",
          "2020-04-04T00:00:00",
          "2020-04-05T00:00:00",
          "2020-04-06T00:00:00",
          "2020-04-07T00:00:00",
          "2020-04-08T00:00:00",
          "2020-04-09T00:00:00",
          "2020-04-10T00:00:00",
          "2020-04-11T00:00:00",
          "2020-04-12T00:00:00",
          "2020-04-13T00:00:00",
          "2020-04-14T00:00:00",
          "2020-04-15T00:00:00",
          "2020-04-16T00:00:00",
          "2020-04-17T00:00:00",
          "2020-04-18T00:00:00",
          "2020-04-19T00:00:00",
          "2020-04-20T00:00:00",
          "2020-04-21T00:00:00",
          "2020-04-22T00:00:00",
          "2020-04-23T00:00:00",
          "2020-04-24T00:00:00",
          "2020-04-25T00:00:00",
          "2020-04-26T00:00:00",
          "2020-04-27T00:00:00",
          "2020-04-28T00:00:00",
          "2020-04-29T00:00:00",
          "2020-04-30T00:00:00",
          "2020-05-01T00:00:00",
          "2020-05-02T00:00:00",
          "2020-05-03T00:00:00",
          "2020-05-04T00:00:00",
          "2020-05-05T00:00:00",
          "2020-05-06T00:00:00",
          "2020-05-07T00:00:00",
          "2020-05-08T00:00:00",
          "2020-05-09T00:00:00",
          "2020-05-10T00:00:00",
          "2020-05-11T00:00:00",
          "2020-05-12T00:00:00",
          "2020-05-13T00:00:00",
          "2020-05-14T00:00:00",
          "2020-05-15T00:00:00",
          "2020-05-16T00:00:00",
          "2020-05-17T00:00:00",
          "2020-05-18T00:00:00",
          "2020-05-19T00:00:00",
          "2020-05-20T00:00:00",
          "2020-05-21T00:00:00",
          "2020-05-22T00:00:00",
          "2020-05-23T00:00:00",
          "2020-05-24T00:00:00",
          "2020-05-25T00:00:00",
          "2020-05-26T00:00:00",
          "2020-05-27T00:00:00",
          "2020-05-28T00:00:00",
          "2020-05-29T00:00:00",
          "2020-05-30T00:00:00",
          "2020-05-31T00:00:00",
          "2020-06-01T00:00:00",
          "2020-06-02T00:00:00",
          "2020-06-03T00:00:00"
         ],
         "y": [
          1.2041966756915705,
          1.4447868069386398,
          1.733438252568808,
          2.0797489038805224,
          2.495232023190084,
          2.993697890680501,
          3.5917112378080875,
          4.309139403085184,
          5.169809039425919,
          6.202292633874346,
          7.440850160561403,
          8.926555976718742,
          10.708646699308769,
          12.846132382512105,
          15.409720971171279,
          18.48411484130492,
          22.17074834165001,
          26.591046658581632,
          31.890298996387784,
          38.242252814395044,
          45.85455029401145,
          54.975142592860365,
          65.89983055393569,
          78.98109042076392,
          94.63834675991335,
          113.36984771481879,
          135.766273338126,
          162.52615666318678,
          194.4731061758549,
          232.574669308742,
          277.9624452254479,
          331.95270995268925,
          396.06631847908443,
          472.045950322427,
          561.8678171990001,
          667.7437083903369,
          792.1076866946526,
          937.5798903061923,
          1106.8978629917153,
          1302.8039060435726,
          1527.8756446529999,
          1784.2871867459978,
          2073.491175660723,
          2395.8193029084828,
          2750.0121550308304,
          3132.709815513525,
          3537.962071934957,
          3956.848067615629,
          4377.322175852543,
          4784.413606575768,
          5160.8872255495835,
          5488.410865664905,
          5749.170015506292,
          5927.742935847465,
          6012.936154404851,
          5999.228601369271,
          5887.51649895257,
          5684.991022338287,
          5404.176720885068,
          5061.345159671716,
          4674.634062511168,
          4262.218016212386,
          3840.8038259362716,
          3424.601835057767,
          3024.800063312797,
          2649.4742561036014,
          2303.8169938545516,
          1990.5588566820245,
          1710.4712548602956,
          1462.869623294951,
          1246.066246268844,
          1057.7476913063983,
          895.2703310858818,
          755.878920445282,
          636.8590920008436,
          535.636656065059,
          449.8362590453828,
          377.3104108657407,
          316.147894188741,
          264.6685638526041,
          221.40976168147085,
          185.10809740849743,
          154.67918840450218,
          129.1970767375277,
          107.87440388509465,
          90.043971533111,
          75.142006624235,
          62.69324294614465,
          52.297800627759656,
          43.619766477205964,
          36.377335498765945,
          30.334355114297114,
          25.293110045661013,
          21.088191556732216,
          17.58130577345221,
          14.656889420718654,
          12.218415809705442,
          10.185288209182387,
          8.490231215370683,
          7.077103068355711,
          5.899062912141135,
          4.917036743125023,
          4.098434292741065,
          3.416076438258836,
          2.8472990437418972,
          2.373204518595326,
          1.9780369588400792,
          1.6486606136829407,
          1.3741246948621053,
          1.1453003058378781,
          0.9545775888327795,
          0.7956131366870609,
          0.6631193509987261,
          0.5526887973471817,
          0.46064775457327073,
          0.3839341137786638,
          0.31999558410071877,
          0.26670483189045935,
          0.22228873912372343,
          0.18526943374146213,
          0.15441513428033718,
          0.12869917630801211,
          0.10726585944582892,
          0.08940198003769195,
          0.07451310324454868,
          0.06210378572413811
         ]
        }
       ],
       "layout": {
        "annotations": [
         {
          "align": "left",
          "arrowcolor": "#606060",
          "arrowhead": 2,
          "arrowsize": 1,
          "arrowwidth": 1,
          "ax": -80,
          "ay": 25,
          "bgcolor": "LightGreen",
          "bordercolor": "Grey",
          "borderpad": 4,
          "borderwidth": 1,
          "font": {
           "color": "Black",
           "family": "Courier New, monospace",
           "size": 12
          },
          "opacity": 0.7,
          "showarrow": true,
          "text": "Measures imposed in<br>northern regions",
          "x": "2020-02-22T00:00:00",
          "xref": "x",
          "y": 1,
          "yref": "paper"
         },
         {
          "align": "left",
          "arrowcolor": "#606060",
          "arrowhead": 2,
          "arrowsize": 1,
          "arrowwidth": 1,
          "ax": -90,
          "ay": 70,
          "bgcolor": "LightGreen",
          "bordercolor": "Grey",
          "borderpad": 4,
          "borderwidth": 1,
          "font": {
           "color": "Black",
           "family": "Courier New, monospace",
           "size": 12
          },
          "opacity": 0.7,
          "showarrow": true,
          "text": "Drop in mobilitly<br>in northern regions",
          "x": "2020-02-26T00:00:00",
          "xref": "x",
          "y": 1,
          "yref": "paper"
         },
         {
          "align": "left",
          "arrowcolor": "#606060",
          "arrowhead": 2,
          "arrowsize": 1,
          "arrowwidth": 1,
          "ax": -50,
          "ay": -20,
          "bgcolor": "LightGreen",
          "bordercolor": "Grey",
          "borderpad": 4,
          "borderwidth": 1,
          "font": {
           "color": "Black",
           "family": "Courier New, monospace",
           "size": 12
          },
          "opacity": 0.7,
          "showarrow": true,
          "text": "Nationwide measures",
          "x": "2020-03-01T00:00:00",
          "xref": "x",
          "y": 1,
          "yref": "paper"
         },
         {
          "align": "left",
          "arrowcolor": "#606060",
          "arrowhead": 2,
          "arrowsize": 1,
          "arrowwidth": 1,
          "ax": -60,
          "ay": -60,
          "bgcolor": "LightGreen",
          "bordercolor": "Grey",
          "borderpad": 4,
          "borderwidth": 1,
          "font": {
           "color": "Black",
           "family": "Courier New, monospace",
           "size": 12
          },
          "opacity": 0.7,
          "showarrow": true,
          "text": "Penalties for violation<br>measures introduced",
          "x": "2020-03-08T00:00:00",
          "xref": "x",
          "y": 1,
          "yref": "paper"
         },
         {
          "align": "left",
          "arrowcolor": "#606060",
          "arrowhead": 2,
          "arrowsize": 1,
          "arrowwidth": 1,
          "ax": 150,
          "ay": -60,
          "bgcolor": "Pink",
          "bordercolor": "Grey",
          "borderpad": 4,
          "borderwidth": 1,
          "font": {
           "color": "Black",
           "family": "Courier New, monospace",
           "size": 12
          },
          "opacity": 0.7,
          "showarrow": true,
          "text": "15-days delay betwwen nationwide measures<br>and significant drop in mobility",
          "x": "2020-03-15T00:00:00",
          "xref": "x",
          "y": 1,
          "yref": "paper"
         },
         {
          "align": "left",
          "arrowcolor": "#606060",
          "arrowhead": 2,
          "arrowsize": 1,
          "arrowwidth": 1,
          "ax": 50,
          "ay": -20,
          "bgcolor": "LightGreen",
          "bordercolor": "Grey",
          "borderpad": 4,
          "borderwidth": 1,
          "font": {
           "color": "Black",
           "family": "Courier New, monospace",
           "size": 12
          },
          "opacity": 0.7,
          "showarrow": true,
          "text": "Mobility index reaches minimum",
          "x": "2020-03-22T00:00:00",
          "xref": "x",
          "y": 1,
          "yref": "paper"
         },
         {
          "align": "left",
          "arrowcolor": "#606060",
          "arrowhead": 2,
          "arrowsize": 1,
          "arrowwidth": 1,
          "ax": 130,
          "ay": 15,
          "bgcolor": "LightBlue",
          "bordercolor": "Grey",
          "borderpad": 4,
          "borderwidth": 1,
          "font": {
           "color": "Black",
           "family": "Courier New, monospace",
           "size": 12
          },
          "opacity": 0.7,
          "showarrow": true,
          "text": "10-days <i>incubation</i> period",
          "x": "2020-03-28T00:00:00",
          "xref": "x",
          "y": 1,
          "yref": "paper"
         },
         {
          "arrowcolor": "Black",
          "arrowhead": 1,
          "arrowsize": 2,
          "arrowwidth": 1,
          "ax": "2020-04-16T00:00:00",
          "axref": "x",
          "ay": 5686.7542293019505,
          "ayref": "y",
          "showarrow": true,
          "text": "",
          "x": "2020-04-16T00:00:00",
          "xref": "x",
          "y": 5360.572304199051,
          "yref": "y"
         },
         {
          "arrowcolor": "Black",
          "arrowhead": 1,
          "arrowsize": 2,
          "arrowwidth": 1,
          "ax": "2020-04-16T00:00:00",
          "axref": "x",
          "ay": 5686.7542293019505,
          "ayref": "y",
          "showarrow": true,
          "text": "",
          "x": "2020-04-16T00:00:00",
          "xref": "x",
          "y": 6012.936154404851,
          "yref": "y"
         },
         {
          "align": "left",
          "ax": "2020-04-29T00:00:00",
          "axref": "x",
          "ay": 5686.7542293019505,
          "ayref": "y",
          "bgcolor": "LightGreen",
          "bordercolor": "Black",
          "borderpad": 4,
          "borderwidth": 1,
          "font": {
           "color": "Black",
           "family": "Courier New, monospace",
           "size": 12
          },
          "opacity": 0.75,
          "text": "Pike is lowered<br>by 10.85 %",
          "x": "2020-04-29T00:00:00",
          "xref": "x",
          "y": 5686.7542293019505,
          "yref": "y"
         }
        ],
        "font": {
         "color": "#7f7f7f",
         "family": "Courier New, monospace",
         "size": 12
        },
        "height": 600,
        "legend": {
         "orientation": "h",
         "y": -0.2
        },
        "shapes": [
         {
          "layer": "above",
          "line": {
           "color": "Grey",
           "dash": "solid",
           "width": 1
          },
          "opacity": 1,
          "type": "line",
          "x0": "2020-02-22T00:00:00",
          "x1": "2020-02-22T00:00:00",
          "xref": "x",
          "y0": 0,
          "y1": 1,
          "yref": "paper"
         },
         {
          "layer": "above",
          "line": {
           "color": "Grey",
           "dash": "solid",
           "width": 1
          },
          "opacity": 1,
          "type": "line",
          "x0": "2020-02-26T00:00:00",
          "x1": "2020-02-26T00:00:00",
          "xref": "x",
          "y0": 0,
          "y1": 1,
          "yref": "paper"
         },
         {
          "layer": "above",
          "line": {
           "color": "Grey",
           "dash": "solid",
           "width": 1
          },
          "opacity": 1,
          "type": "line",
          "x0": "2020-03-01T00:00:00",
          "x1": "2020-03-01T00:00:00",
          "xref": "x",
          "y0": 0,
          "y1": 1,
          "yref": "paper"
         },
         {
          "layer": "above",
          "line": {
           "color": "Grey",
           "dash": "solid",
           "width": 1
          },
          "opacity": 1,
          "type": "line",
          "x0": "2020-03-08T00:00:00",
          "x1": "2020-03-08T00:00:00",
          "xref": "x",
          "y0": 0,
          "y1": 1,
          "yref": "paper"
         },
         {
          "layer": "above",
          "line": {
           "color": "Grey",
           "dash": "solid",
           "width": 1
          },
          "opacity": 1,
          "type": "line",
          "x0": "2020-03-15T00:00:00",
          "x1": "2020-03-15T00:00:00",
          "xref": "x",
          "y0": 0,
          "y1": 1,
          "yref": "paper"
         },
         {
          "layer": "above",
          "line": {
           "color": "Grey",
           "dash": "solid",
           "width": 1
          },
          "opacity": 1,
          "type": "line",
          "x0": "2020-03-22T00:00:00",
          "x1": "2020-03-22T00:00:00",
          "xref": "x",
          "y0": 0,
          "y1": 1,
          "yref": "paper"
         },
         {
          "fillcolor": "Red",
          "layer": "above",
          "line": {
           "width": 0
          },
          "opacity": 0.3,
          "type": "rect",
          "x0": "2020-03-01T00:00:00",
          "x1": "2020-03-15T00:00:00",
          "xref": "x",
          "y0": 0,
          "y1": 1,
          "yref": "paper"
         },
         {
          "line": {
           "color": "Black",
           "dash": "dash",
           "width": 1
          },
          "opacity": 0.6,
          "type": "line",
          "x0": "2020-06-02T00:00:00",
          "x1": "2020-06-02T00:00:00",
          "y0": 0,
          "y1": 1,
          "yref": "paper"
         },
         {
          "fillcolor": "Blue",
          "layer": "above",
          "line": {
           "width": 0
          },
          "opacity": 0.3,
          "type": "rect",
          "x0": "2020-03-22T00:00:00",
          "x1": "2020-04-02T00:00:00",
          "xref": "x",
          "y0": 0,
          "y1": 1,
          "yref": "paper"
         },
         {
          "line": {
           "color": "Black",
           "dash": "dash",
           "width": 1
          },
          "opacity": 0.6,
          "type": "line",
          "x0": "2020-04-02T00:00:00",
          "x1": "2020-04-02T00:00:00",
          "y0": 0,
          "y1": 1,
          "yref": "paper"
         },
         {
          "layer": "above",
          "line": {
           "color": "Black",
           "width": 1
          },
          "opacity": 0.75,
          "type": "line",
          "x0": "2020-04-03T00:00:00",
          "x1": "2020-04-17T00:00:00",
          "xref": "x",
          "y0": 5360.572304199051,
          "y1": 5360.572304199051,
          "yref": "y"
         },
         {
          "layer": "above",
          "line": {
           "color": "Black",
           "width": 1
          },
          "opacity": 0.75,
          "type": "line",
          "x0": "2020-03-23T00:00:00",
          "x1": "2020-04-17T00:00:00",
          "xref": "x",
          "y0": 6012.936154404851,
          "y1": 6012.936154404851,
          "yref": "y"
         },
         {
          "layer": "above",
          "line": {
           "color": "Black",
           "width": 1
          },
          "opacity": 0.75,
          "type": "line",
          "x0": "2020-04-16T00:00:00",
          "x1": "2020-04-16T00:00:00",
          "xref": "x",
          "y0": 5360.572304199051,
          "y1": 6012.936154404851,
          "yref": "y"
         }
        ],
        "showlegend": true,
        "template": {
         "data": {
          "bar": [
           {
            "error_x": {
             "color": "rgb(51,51,51)"
            },
            "error_y": {
             "color": "rgb(51,51,51)"
            },
            "marker": {
             "line": {
              "color": "rgb(237,237,237)",
              "width": 0.5
             }
            },
            "type": "bar"
           }
          ],
          "barpolar": [
           {
            "marker": {
             "line": {
              "color": "rgb(237,237,237)",
              "width": 0.5
             }
            },
            "type": "barpolar"
           }
          ],
          "carpet": [
           {
            "aaxis": {
             "endlinecolor": "rgb(51,51,51)",
             "gridcolor": "white",
             "linecolor": "white",
             "minorgridcolor": "white",
             "startlinecolor": "rgb(51,51,51)"
            },
            "baxis": {
             "endlinecolor": "rgb(51,51,51)",
             "gridcolor": "white",
             "linecolor": "white",
             "minorgridcolor": "white",
             "startlinecolor": "rgb(51,51,51)"
            },
            "type": "carpet"
           }
          ],
          "choropleth": [
           {
            "colorbar": {
             "outlinewidth": 0,
             "tickcolor": "rgb(237,237,237)",
             "ticklen": 6,
             "ticks": "inside"
            },
            "type": "choropleth"
           }
          ],
          "contour": [
           {
            "colorbar": {
             "outlinewidth": 0,
             "tickcolor": "rgb(237,237,237)",
             "ticklen": 6,
             "ticks": "inside"
            },
            "colorscale": [
             [
              0,
              "rgb(20,44,66)"
             ],
             [
              1,
              "rgb(90,179,244)"
             ]
            ],
            "type": "contour"
           }
          ],
          "contourcarpet": [
           {
            "colorbar": {
             "outlinewidth": 0,
             "tickcolor": "rgb(237,237,237)",
             "ticklen": 6,
             "ticks": "inside"
            },
            "type": "contourcarpet"
           }
          ],
          "heatmap": [
           {
            "colorbar": {
             "outlinewidth": 0,
             "tickcolor": "rgb(237,237,237)",
             "ticklen": 6,
             "ticks": "inside"
            },
            "colorscale": [
             [
              0,
              "rgb(20,44,66)"
             ],
             [
              1,
              "rgb(90,179,244)"
             ]
            ],
            "type": "heatmap"
           }
          ],
          "heatmapgl": [
           {
            "colorbar": {
             "outlinewidth": 0,
             "tickcolor": "rgb(237,237,237)",
             "ticklen": 6,
             "ticks": "inside"
            },
            "colorscale": [
             [
              0,
              "rgb(20,44,66)"
             ],
             [
              1,
              "rgb(90,179,244)"
             ]
            ],
            "type": "heatmapgl"
           }
          ],
          "histogram": [
           {
            "marker": {
             "colorbar": {
              "outlinewidth": 0,
              "tickcolor": "rgb(237,237,237)",
              "ticklen": 6,
              "ticks": "inside"
             }
            },
            "type": "histogram"
           }
          ],
          "histogram2d": [
           {
            "colorbar": {
             "outlinewidth": 0,
             "tickcolor": "rgb(237,237,237)",
             "ticklen": 6,
             "ticks": "inside"
            },
            "colorscale": [
             [
              0,
              "rgb(20,44,66)"
             ],
             [
              1,
              "rgb(90,179,244)"
             ]
            ],
            "type": "histogram2d"
           }
          ],
          "histogram2dcontour": [
           {
            "colorbar": {
             "outlinewidth": 0,
             "tickcolor": "rgb(237,237,237)",
             "ticklen": 6,
             "ticks": "inside"
            },
            "colorscale": [
             [
              0,
              "rgb(20,44,66)"
             ],
             [
              1,
              "rgb(90,179,244)"
             ]
            ],
            "type": "histogram2dcontour"
           }
          ],
          "mesh3d": [
           {
            "colorbar": {
             "outlinewidth": 0,
             "tickcolor": "rgb(237,237,237)",
             "ticklen": 6,
             "ticks": "inside"
            },
            "type": "mesh3d"
           }
          ],
          "parcoords": [
           {
            "line": {
             "colorbar": {
              "outlinewidth": 0,
              "tickcolor": "rgb(237,237,237)",
              "ticklen": 6,
              "ticks": "inside"
             }
            },
            "type": "parcoords"
           }
          ],
          "pie": [
           {
            "automargin": true,
            "type": "pie"
           }
          ],
          "scatter": [
           {
            "marker": {
             "colorbar": {
              "outlinewidth": 0,
              "tickcolor": "rgb(237,237,237)",
              "ticklen": 6,
              "ticks": "inside"
             }
            },
            "type": "scatter"
           }
          ],
          "scatter3d": [
           {
            "line": {
             "colorbar": {
              "outlinewidth": 0,
              "tickcolor": "rgb(237,237,237)",
              "ticklen": 6,
              "ticks": "inside"
             }
            },
            "marker": {
             "colorbar": {
              "outlinewidth": 0,
              "tickcolor": "rgb(237,237,237)",
              "ticklen": 6,
              "ticks": "inside"
             }
            },
            "type": "scatter3d"
           }
          ],
          "scattercarpet": [
           {
            "marker": {
             "colorbar": {
              "outlinewidth": 0,
              "tickcolor": "rgb(237,237,237)",
              "ticklen": 6,
              "ticks": "inside"
             }
            },
            "type": "scattercarpet"
           }
          ],
          "scattergeo": [
           {
            "marker": {
             "colorbar": {
              "outlinewidth": 0,
              "tickcolor": "rgb(237,237,237)",
              "ticklen": 6,
              "ticks": "inside"
             }
            },
            "type": "scattergeo"
           }
          ],
          "scattergl": [
           {
            "marker": {
             "colorbar": {
              "outlinewidth": 0,
              "tickcolor": "rgb(237,237,237)",
              "ticklen": 6,
              "ticks": "inside"
             }
            },
            "type": "scattergl"
           }
          ],
          "scattermapbox": [
           {
            "marker": {
             "colorbar": {
              "outlinewidth": 0,
              "tickcolor": "rgb(237,237,237)",
              "ticklen": 6,
              "ticks": "inside"
             }
            },
            "type": "scattermapbox"
           }
          ],
          "scatterpolar": [
           {
            "marker": {
             "colorbar": {
              "outlinewidth": 0,
              "tickcolor": "rgb(237,237,237)",
              "ticklen": 6,
              "ticks": "inside"
             }
            },
            "type": "scatterpolar"
           }
          ],
          "scatterpolargl": [
           {
            "marker": {
             "colorbar": {
              "outlinewidth": 0,
              "tickcolor": "rgb(237,237,237)",
              "ticklen": 6,
              "ticks": "inside"
             }
            },
            "type": "scatterpolargl"
           }
          ],
          "scatterternary": [
           {
            "marker": {
             "colorbar": {
              "outlinewidth": 0,
              "tickcolor": "rgb(237,237,237)",
              "ticklen": 6,
              "ticks": "inside"
             }
            },
            "type": "scatterternary"
           }
          ],
          "surface": [
           {
            "colorbar": {
             "outlinewidth": 0,
             "tickcolor": "rgb(237,237,237)",
             "ticklen": 6,
             "ticks": "inside"
            },
            "colorscale": [
             [
              0,
              "rgb(20,44,66)"
             ],
             [
              1,
              "rgb(90,179,244)"
             ]
            ],
            "type": "surface"
           }
          ],
          "table": [
           {
            "cells": {
             "fill": {
              "color": "rgb(237,237,237)"
             },
             "line": {
              "color": "white"
             }
            },
            "header": {
             "fill": {
              "color": "rgb(217,217,217)"
             },
             "line": {
              "color": "white"
             }
            },
            "type": "table"
           }
          ]
         },
         "layout": {
          "annotationdefaults": {
           "arrowhead": 0,
           "arrowwidth": 1
          },
          "coloraxis": {
           "colorbar": {
            "outlinewidth": 0,
            "tickcolor": "rgb(237,237,237)",
            "ticklen": 6,
            "ticks": "inside"
           }
          },
          "colorscale": {
           "sequential": [
            [
             0,
             "rgb(20,44,66)"
            ],
            [
             1,
             "rgb(90,179,244)"
            ]
           ],
           "sequentialminus": [
            [
             0,
             "rgb(20,44,66)"
            ],
            [
             1,
             "rgb(90,179,244)"
            ]
           ]
          },
          "colorway": [
           "#F8766D",
           "#A3A500",
           "#00BF7D",
           "#00B0F6",
           "#E76BF3"
          ],
          "font": {
           "color": "rgb(51,51,51)"
          },
          "geo": {
           "bgcolor": "white",
           "lakecolor": "white",
           "landcolor": "rgb(237,237,237)",
           "showlakes": true,
           "showland": true,
           "subunitcolor": "white"
          },
          "hoverlabel": {
           "align": "left"
          },
          "hovermode": "closest",
          "paper_bgcolor": "white",
          "plot_bgcolor": "rgb(237,237,237)",
          "polar": {
           "angularaxis": {
            "gridcolor": "white",
            "linecolor": "white",
            "showgrid": true,
            "tickcolor": "rgb(51,51,51)",
            "ticks": "outside"
           },
           "bgcolor": "rgb(237,237,237)",
           "radialaxis": {
            "gridcolor": "white",
            "linecolor": "white",
            "showgrid": true,
            "tickcolor": "rgb(51,51,51)",
            "ticks": "outside"
           }
          },
          "scene": {
           "xaxis": {
            "backgroundcolor": "rgb(237,237,237)",
            "gridcolor": "white",
            "gridwidth": 2,
            "linecolor": "white",
            "showbackground": true,
            "showgrid": true,
            "tickcolor": "rgb(51,51,51)",
            "ticks": "outside",
            "zerolinecolor": "white"
           },
           "yaxis": {
            "backgroundcolor": "rgb(237,237,237)",
            "gridcolor": "white",
            "gridwidth": 2,
            "linecolor": "white",
            "showbackground": true,
            "showgrid": true,
            "tickcolor": "rgb(51,51,51)",
            "ticks": "outside",
            "zerolinecolor": "white"
           },
           "zaxis": {
            "backgroundcolor": "rgb(237,237,237)",
            "gridcolor": "white",
            "gridwidth": 2,
            "linecolor": "white",
            "showbackground": true,
            "showgrid": true,
            "tickcolor": "rgb(51,51,51)",
            "ticks": "outside",
            "zerolinecolor": "white"
           }
          },
          "shapedefaults": {
           "fillcolor": "black",
           "line": {
            "width": 0
           },
           "opacity": 0.3
          },
          "ternary": {
           "aaxis": {
            "gridcolor": "white",
            "linecolor": "white",
            "showgrid": true,
            "tickcolor": "rgb(51,51,51)",
            "ticks": "outside"
           },
           "baxis": {
            "gridcolor": "white",
            "linecolor": "white",
            "showgrid": true,
            "tickcolor": "rgb(51,51,51)",
            "ticks": "outside"
           },
           "bgcolor": "rgb(237,237,237)",
           "caxis": {
            "gridcolor": "white",
            "linecolor": "white",
            "showgrid": true,
            "tickcolor": "rgb(51,51,51)",
            "ticks": "outside"
           }
          },
          "xaxis": {
           "automargin": true,
           "gridcolor": "white",
           "linecolor": "white",
           "showgrid": true,
           "tickcolor": "rgb(51,51,51)",
           "ticks": "outside",
           "title": {
            "standoff": 15
           },
           "zerolinecolor": "white"
          },
          "yaxis": {
           "automargin": true,
           "gridcolor": "white",
           "linecolor": "white",
           "showgrid": true,
           "tickcolor": "rgb(51,51,51)",
           "ticks": "outside",
           "title": {
            "standoff": 15
           },
           "zerolinecolor": "white"
          }
         }
        },
        "title": {
         "text": ""
        },
        "width": 900,
        "xaxis": {
         "anchor": "y",
         "domain": [
          0,
          0.94
         ],
         "range": [
          "2020-01-23T19:12:00",
          "2020-06-08T04:48:00"
         ],
         "title": {
          "text": "Date"
         }
        },
        "yaxis": {
         "anchor": "x",
         "domain": [
          0,
          1
         ],
         "title": {
          "text": "Number of new cases"
         }
        },
        "yaxis2": {
         "anchor": "x",
         "overlaying": "y",
         "side": "right",
         "title": {
          "text": "Correlation"
         }
        }
       }
      },
      "text/html": [
       "<div>\n",
       "        \n",
       "        \n",
       "            <div id=\"ccf7a342-9ea2-4463-980f-7b21731d3910\" class=\"plotly-graph-div\" style=\"height:600px; width:900px;\"></div>\n",
       "            <script type=\"text/javascript\">\n",
       "                require([\"plotly\"], function(Plotly) {\n",
       "                    window.PLOTLYENV=window.PLOTLYENV || {};\n",
       "                    \n",
       "                if (document.getElementById(\"ccf7a342-9ea2-4463-980f-7b21731d3910\")) {\n",
       "                    Plotly.newPlot(\n",
       "                        'ccf7a342-9ea2-4463-980f-7b21731d3910',\n",
       "                        [{\"mode\": \"markers\", \"name\": \"Data\", \"type\": \"scatter\", \"x\": [\"2020-01-30T00:00:00\", \"2020-01-31T00:00:00\", \"2020-02-01T00:00:00\", \"2020-02-02T00:00:00\", \"2020-02-03T00:00:00\", \"2020-02-04T00:00:00\", \"2020-02-05T00:00:00\", \"2020-02-06T00:00:00\", \"2020-02-07T00:00:00\", \"2020-02-08T00:00:00\", \"2020-02-09T00:00:00\", \"2020-02-10T00:00:00\", \"2020-02-11T00:00:00\", \"2020-02-12T00:00:00\", \"2020-02-13T00:00:00\", \"2020-02-14T00:00:00\", \"2020-02-15T00:00:00\", \"2020-02-16T00:00:00\", \"2020-02-17T00:00:00\", \"2020-02-18T00:00:00\", \"2020-02-19T00:00:00\", \"2020-02-20T00:00:00\", \"2020-02-21T00:00:00\", \"2020-02-22T00:00:00\", \"2020-02-23T00:00:00\", \"2020-02-24T00:00:00\", \"2020-02-25T00:00:00\", \"2020-02-26T00:00:00\", \"2020-02-27T00:00:00\", \"2020-02-28T00:00:00\", \"2020-02-29T00:00:00\", \"2020-03-01T00:00:00\", \"2020-03-02T00:00:00\", \"2020-03-03T00:00:00\", \"2020-03-04T00:00:00\", \"2020-03-05T00:00:00\", \"2020-03-06T00:00:00\", \"2020-03-07T00:00:00\", \"2020-03-08T00:00:00\", \"2020-03-09T00:00:00\", \"2020-03-10T00:00:00\", \"2020-03-11T00:00:00\", \"2020-03-12T00:00:00\", \"2020-03-13T00:00:00\", \"2020-03-14T00:00:00\", \"2020-03-15T00:00:00\", \"2020-03-16T00:00:00\", \"2020-03-17T00:00:00\", \"2020-03-18T00:00:00\", \"2020-03-19T00:00:00\", \"2020-03-20T00:00:00\", \"2020-03-21T00:00:00\", \"2020-03-22T00:00:00\", \"2020-03-23T00:00:00\", \"2020-03-24T00:00:00\", \"2020-03-25T00:00:00\", \"2020-03-26T00:00:00\", \"2020-03-27T00:00:00\", \"2020-03-28T00:00:00\", \"2020-03-29T00:00:00\", \"2020-03-30T00:00:00\", \"2020-03-31T00:00:00\", \"2020-04-01T00:00:00\", \"2020-04-02T00:00:00\", \"2020-04-03T00:00:00\", \"2020-04-04T00:00:00\", \"2020-04-05T00:00:00\", \"2020-04-06T00:00:00\", \"2020-04-07T00:00:00\", \"2020-04-08T00:00:00\", \"2020-04-09T00:00:00\", \"2020-04-10T00:00:00\", \"2020-04-11T00:00:00\", \"2020-04-12T00:00:00\", \"2020-04-13T00:00:00\", \"2020-04-14T00:00:00\", \"2020-04-15T00:00:00\", \"2020-04-16T00:00:00\", \"2020-04-17T00:00:00\", \"2020-04-18T00:00:00\", \"2020-04-19T00:00:00\", \"2020-04-20T00:00:00\", \"2020-04-21T00:00:00\", \"2020-04-22T00:00:00\", \"2020-04-23T00:00:00\", \"2020-04-24T00:00:00\", \"2020-04-25T00:00:00\", \"2020-04-26T00:00:00\", \"2020-04-27T00:00:00\", \"2020-04-28T00:00:00\", \"2020-04-29T00:00:00\", \"2020-04-30T00:00:00\", \"2020-05-01T00:00:00\", \"2020-05-02T00:00:00\", \"2020-05-03T00:00:00\", \"2020-05-04T00:00:00\", \"2020-05-05T00:00:00\", \"2020-05-06T00:00:00\", \"2020-05-07T00:00:00\", \"2020-05-08T00:00:00\", \"2020-05-09T00:00:00\", \"2020-05-10T00:00:00\", \"2020-05-11T00:00:00\", \"2020-05-12T00:00:00\", \"2020-05-13T00:00:00\", \"2020-05-14T00:00:00\", \"2020-05-15T00:00:00\", \"2020-05-16T00:00:00\", \"2020-05-17T00:00:00\", \"2020-05-18T00:00:00\", \"2020-05-19T00:00:00\", \"2020-05-20T00:00:00\", \"2020-05-21T00:00:00\", \"2020-05-22T00:00:00\", \"2020-05-23T00:00:00\", \"2020-05-24T00:00:00\", \"2020-05-25T00:00:00\", \"2020-05-26T00:00:00\", \"2020-05-27T00:00:00\", \"2020-05-28T00:00:00\", \"2020-05-29T00:00:00\", \"2020-05-30T00:00:00\", \"2020-05-31T00:00:00\", \"2020-06-01T00:00:00\", \"2020-06-02T00:00:00\"], \"y\": [0, 3, 0, 0, 0, 0, 0, 0, 0, 0, 0, 0, 0, 0, 0, 0, 0, 0, 0, 0, 0, 0, 0, 14, 62, 53, 97, 93, 78, 250, 238, 240, 561, 347, 466, 587, 769, 778, 1247, 1492, 1797, 977, 2313, 2651, 2547, 3497, 2823, 4000, 3526, 4207, 5322, 5986, 6557, 5560, 4789, 5249, 5210, 6153, 5959, 5974, 5217, 4050, 4053, 4782, 4668, 4585, 4805, 4316, 3599, 3039, 3836, 4204, 3951, 4694, 4092, 3153, 2972, 2667, 3786, 3493, 3491, 3047, 2256, 2729, 3370, 2646, 3021, 2357, 2324, 1739, 2091, 2086, 1872, 1965, 1900, 1389, 1221, 1075, 1444, 1401, 1327, 1083, 802, 744, 1402, 888, 992, 789, 875, 675, 451, 813, 665, 642, 652, 669, 531, 300, 397, 584, 593, 516, 416, 355, 178]}, {\"line\": {\"dash\": \"dash\", \"width\": 1}, \"name\": \"14-days correlation\", \"type\": \"scatter\", \"x\": [\"2020-02-12T00:00:00\", \"2020-02-13T00:00:00\", \"2020-02-14T00:00:00\", \"2020-02-15T00:00:00\", \"2020-02-16T00:00:00\", \"2020-02-17T00:00:00\", \"2020-02-18T00:00:00\", \"2020-02-19T00:00:00\", \"2020-02-20T00:00:00\", \"2020-02-21T00:00:00\", \"2020-02-22T00:00:00\", \"2020-02-23T00:00:00\", \"2020-02-24T00:00:00\", \"2020-02-25T00:00:00\", \"2020-02-26T00:00:00\", \"2020-02-27T00:00:00\", \"2020-02-28T00:00:00\", \"2020-02-29T00:00:00\", \"2020-03-01T00:00:00\", \"2020-03-02T00:00:00\", \"2020-03-03T00:00:00\", \"2020-03-04T00:00:00\", \"2020-03-05T00:00:00\", \"2020-03-06T00:00:00\", \"2020-03-07T00:00:00\", \"2020-03-08T00:00:00\", \"2020-03-09T00:00:00\", \"2020-03-10T00:00:00\", \"2020-03-11T00:00:00\", \"2020-03-12T00:00:00\", \"2020-03-13T00:00:00\", \"2020-03-14T00:00:00\", \"2020-03-15T00:00:00\", \"2020-03-16T00:00:00\", \"2020-03-17T00:00:00\", \"2020-03-18T00:00:00\", \"2020-03-19T00:00:00\", \"2020-03-20T00:00:00\", \"2020-03-21T00:00:00\", \"2020-03-22T00:00:00\", \"2020-03-23T00:00:00\", \"2020-03-24T00:00:00\", \"2020-03-25T00:00:00\", \"2020-03-26T00:00:00\", \"2020-03-27T00:00:00\", \"2020-03-28T00:00:00\", \"2020-03-29T00:00:00\", \"2020-03-30T00:00:00\", \"2020-03-31T00:00:00\", \"2020-04-01T00:00:00\", \"2020-04-02T00:00:00\", \"2020-04-03T00:00:00\", \"2020-04-04T00:00:00\", \"2020-04-05T00:00:00\", \"2020-04-06T00:00:00\", \"2020-04-07T00:00:00\", \"2020-04-08T00:00:00\", \"2020-04-09T00:00:00\", \"2020-04-10T00:00:00\", \"2020-04-11T00:00:00\", \"2020-04-12T00:00:00\", \"2020-04-13T00:00:00\", \"2020-04-14T00:00:00\", \"2020-04-15T00:00:00\", \"2020-04-16T00:00:00\", \"2020-04-17T00:00:00\", \"2020-04-18T00:00:00\", \"2020-04-19T00:00:00\", \"2020-04-20T00:00:00\", \"2020-04-21T00:00:00\", \"2020-04-22T00:00:00\", \"2020-04-23T00:00:00\", \"2020-04-24T00:00:00\", \"2020-04-25T00:00:00\", \"2020-04-26T00:00:00\", \"2020-04-27T00:00:00\", \"2020-04-28T00:00:00\", \"2020-04-29T00:00:00\", \"2020-04-30T00:00:00\", \"2020-05-01T00:00:00\", \"2020-05-02T00:00:00\", \"2020-05-03T00:00:00\", \"2020-05-04T00:00:00\", \"2020-05-05T00:00:00\", \"2020-05-06T00:00:00\", \"2020-05-07T00:00:00\", \"2020-05-08T00:00:00\", \"2020-05-09T00:00:00\", \"2020-05-10T00:00:00\", \"2020-05-11T00:00:00\", \"2020-05-12T00:00:00\", \"2020-05-13T00:00:00\", \"2020-05-14T00:00:00\", \"2020-05-15T00:00:00\", \"2020-05-16T00:00:00\", \"2020-05-17T00:00:00\", \"2020-05-18T00:00:00\", \"2020-05-19T00:00:00\", \"2020-05-20T00:00:00\", \"2020-05-21T00:00:00\", \"2020-05-22T00:00:00\", \"2020-05-23T00:00:00\", \"2020-05-24T00:00:00\", \"2020-05-25T00:00:00\", \"2020-05-26T00:00:00\", \"2020-05-27T00:00:00\", \"2020-05-28T00:00:00\", \"2020-05-29T00:00:00\", \"2020-05-30T00:00:00\", \"2020-05-31T00:00:00\", \"2020-06-01T00:00:00\", \"2020-06-02T00:00:00\"], \"xaxis\": \"x\", \"y\": [null, null, null, null, null, null, null, null, null, null, null, null, null, null, null, null, null, 0.354637033242203, 0.2559605901337654, -0.06682916136503701, -0.08400228227175255, 0.11932737537353605, 0.04570338932026117, 0.25860024484387967, 0.4952832417043598, 0.7587622360374344, 0.614881443222588, 0.7681255880572608, 0.5716023983312121, 0.726313919717738, 0.7772282299560876, 0.8011704123801606, 0.8468807014329525, 0.8525441282506924, 0.7614899119266356, 0.7728331277496, 0.7804903883214518, 0.8324933986245786, 0.8714206581593897, 0.8895814045241968, 0.8537963753366913, 0.8392497711114798, 0.8485323500808845, 0.7459174625989888, 0.7515016421948448, 0.7324563171586241, 0.6999071707114649, 0.6400589534838266, 0.41916411601075326, 0.06063440888498935, -0.22312808835861841, -0.2951110941229453, -0.3201359242032854, -0.2680005409060632, -0.15564659594510016, -0.2281208958027967, -0.5027151629254953, -0.5650599652557956, -0.5570731523113646, -0.612652268058418, -0.4565488291517258, -0.28610753085005164, -0.05464710604774864, -0.0946335423081809, -0.3173964066745309, -0.26830722262665, -0.25356572895578555, -0.15208459318367404, 0.027027452980246072, -0.007382087849064575, -0.09765527541257923, -0.08412923073525534, -0.16377008921197175, -0.21842048940727626, -0.11804202213180695, 0.27638750323338135, 0.3251125884739506, 0.2693180977910213, 0.16255380377185963, -0.09303719002993865, -0.13072226305289653, 0.03296418029808327, 0.3764444378096952, 0.3520510155208246, 0.2130424264159138, 0.014714578698509135, -0.06798483442180771, -0.3038712171242194, -0.18068318459469015, 0.33719397854118555, 0.2142977963255562, 0.18277322163012458, -0.022259008134504484, -0.23935220893311526, -0.2921156973896371, -0.07369375184614059, 0.3726162153972785, 0.3260321944579497, 0.29192371338931855, 0.13664686798324593, 0.03536041496355569, -0.10378188138432382, 0.010084986320916483, 0.20401691695173005, 0.22865956407613489, 0.2551255662078714, 0.16148723323594197, 0.10111347828138607, 0.037839360739577575, 0.13220023413447915, 0.4706567469100514, 0.4828434582150508], \"yaxis\": \"y2\"}, {\"name\": \"Last available data\", \"type\": \"scatter\", \"x\": [\"2020-01-30T00:00:00\", \"2020-01-31T00:00:00\", \"2020-02-01T00:00:00\", \"2020-02-02T00:00:00\", \"2020-02-03T00:00:00\", \"2020-02-04T00:00:00\", \"2020-02-05T00:00:00\", \"2020-02-06T00:00:00\", \"2020-02-07T00:00:00\", \"2020-02-08T00:00:00\", \"2020-02-09T00:00:00\", \"2020-02-10T00:00:00\", \"2020-02-11T00:00:00\", \"2020-02-12T00:00:00\", \"2020-02-13T00:00:00\", \"2020-02-14T00:00:00\", \"2020-02-15T00:00:00\", \"2020-02-16T00:00:00\", \"2020-02-17T00:00:00\", \"2020-02-18T00:00:00\", \"2020-02-19T00:00:00\", \"2020-02-20T00:00:00\", \"2020-02-21T00:00:00\", \"2020-02-22T00:00:00\", \"2020-02-23T00:00:00\", \"2020-02-24T00:00:00\", \"2020-02-25T00:00:00\", \"2020-02-26T00:00:00\", \"2020-02-27T00:00:00\", \"2020-02-28T00:00:00\", \"2020-02-29T00:00:00\", \"2020-03-01T00:00:00\", \"2020-03-02T00:00:00\", \"2020-03-03T00:00:00\", \"2020-03-04T00:00:00\", \"2020-03-05T00:00:00\", \"2020-03-06T00:00:00\", \"2020-03-07T00:00:00\", \"2020-03-08T00:00:00\", \"2020-03-09T00:00:00\", \"2020-03-10T00:00:00\", \"2020-03-11T00:00:00\", \"2020-03-12T00:00:00\", \"2020-03-13T00:00:00\", \"2020-03-14T00:00:00\", \"2020-03-15T00:00:00\", \"2020-03-16T00:00:00\", \"2020-03-17T00:00:00\", \"2020-03-18T00:00:00\", \"2020-03-19T00:00:00\", \"2020-03-20T00:00:00\", \"2020-03-21T00:00:00\", \"2020-03-22T00:00:00\", \"2020-03-23T00:00:00\", \"2020-03-24T00:00:00\", \"2020-03-25T00:00:00\", \"2020-03-26T00:00:00\", \"2020-03-27T00:00:00\", \"2020-03-28T00:00:00\", \"2020-03-29T00:00:00\", \"2020-03-30T00:00:00\", \"2020-03-31T00:00:00\", \"2020-04-01T00:00:00\", \"2020-04-02T00:00:00\", \"2020-04-03T00:00:00\", \"2020-04-04T00:00:00\", \"2020-04-05T00:00:00\", \"2020-04-06T00:00:00\", \"2020-04-07T00:00:00\", \"2020-04-08T00:00:00\", \"2020-04-09T00:00:00\", \"2020-04-10T00:00:00\", \"2020-04-11T00:00:00\", \"2020-04-12T00:00:00\", \"2020-04-13T00:00:00\", \"2020-04-14T00:00:00\", \"2020-04-15T00:00:00\", \"2020-04-16T00:00:00\", \"2020-04-17T00:00:00\", \"2020-04-18T00:00:00\", \"2020-04-19T00:00:00\", \"2020-04-20T00:00:00\", \"2020-04-21T00:00:00\", \"2020-04-22T00:00:00\", \"2020-04-23T00:00:00\", \"2020-04-24T00:00:00\", \"2020-04-25T00:00:00\", \"2020-04-26T00:00:00\", \"2020-04-27T00:00:00\", \"2020-04-28T00:00:00\", \"2020-04-29T00:00:00\", \"2020-04-30T00:00:00\", \"2020-05-01T00:00:00\", \"2020-05-02T00:00:00\", \"2020-05-03T00:00:00\", \"2020-05-04T00:00:00\", \"2020-05-05T00:00:00\", \"2020-05-06T00:00:00\", \"2020-05-07T00:00:00\", \"2020-05-08T00:00:00\", \"2020-05-09T00:00:00\", \"2020-05-10T00:00:00\", \"2020-05-11T00:00:00\", \"2020-05-12T00:00:00\", \"2020-05-13T00:00:00\", \"2020-05-14T00:00:00\", \"2020-05-15T00:00:00\", \"2020-05-16T00:00:00\", \"2020-05-17T00:00:00\", \"2020-05-18T00:00:00\", \"2020-05-19T00:00:00\", \"2020-05-20T00:00:00\", \"2020-05-21T00:00:00\", \"2020-05-22T00:00:00\", \"2020-05-23T00:00:00\", \"2020-05-24T00:00:00\", \"2020-05-25T00:00:00\", \"2020-05-26T00:00:00\", \"2020-05-27T00:00:00\", \"2020-05-28T00:00:00\", \"2020-05-29T00:00:00\", \"2020-05-30T00:00:00\", \"2020-05-31T00:00:00\", \"2020-06-01T00:00:00\", \"2020-06-02T00:00:00\", \"2020-06-03T00:00:00\"], \"y\": [45.04011877173948, 49.48514378722502, 54.36660567619708, 59.726890692399266, 65.61240498519764, 72.07393572035718, 79.16704039615152, 86.9524656262429, 95.49659648877875, 104.87193729618515, 115.15762430522594, 126.43997044198713, 138.81304153792817, 152.3792628334264, 167.25005357233815, 183.5464863481542, 201.3999664273436, 220.95292452104925, 242.35951434959566, 265.78630378736705, 291.41294532609714, 319.4328079870347, 350.0535485803004, 383.4975952887941, 420.0025108868619, 459.82119644641307, 503.2218891130686, 550.4878994631786, 601.9170251379115, 657.8205680177559, 718.5218723624942, 784.3542914251818, 855.658480525721, 932.7789060898173, 1016.0594535843513, 1105.8380137175336, 1202.4399271007874, 1306.170174454455, 1417.3042143258174, 1536.0773953600342, 1662.6729077612454, 1797.2082910491335, 1939.7205846880702, 2090.1502962481386, 2248.324469124214, 2413.9392577365948, 2586.5425598182464, 2765.5174075391237, 2950.066973409966, 3139.202191280854, 3331.7331119531104, 3526.2651885590917, 3721.2016985563487, 3914.7534363848117, 4104.956635404725, 4289.699787139554, 4466.759616717346, 4633.845954876329, 4788.654643129848, 4928.9269597095035, 5052.513414199879, 5157.439193067313, 5241.968114646653, 5304.661733049846, 5344.430262966315, 5360.572304199051, 5352.800918297288, 5321.254409690447, 5266.491121009115, 5189.468576505295, 5091.508299251746, 4974.248492135546, 4839.587431756224, 4689.620827218458, 4526.576523358093, 4352.749792746455, 4170.442102342209, 3981.9057170796236, 3789.2958812018815, 3594.631665578939, 3399.7659442802774, 3206.3644117027316, 3015.89310230976, 2829.613542706546, 2648.5844510130273, 2473.6687915767957, 2305.5449774234844, 2144.7210684399365, 1991.5509194436465, 1846.251369761232, 1708.919718221489, 1579.5508814610723, 1458.0537795443342, 1344.2666247608872, 1237.9709035017354, 1138.9039359414244, 1046.7699741036884, 961.2498570926424, 882.0092848189162, 808.7058007416375, 740.9945923447468, 678.5332275208227, 620.9854477827081, 568.0241370281615, 519.3335789242643, 474.61110805621416, 433.5682507437227, 395.9314415875734, 361.4423918992053, 329.8581765617513, 300.9510968214202, 274.50836816637417, 250.33167489579395, 228.2366262406034, 208.0521429572681, 189.61979813958283, 172.79313152688184, 157.43695276813665, 143.4266458638557, 130.64748428543456, 118.99396400095432, 108.36915975780863, 98.684108431256, 89.85722199476356, 81.813731658922, 74.48516392216777]}, {\"name\": \"Before 02.04\", \"type\": \"scatter\", \"x\": [\"2020-01-30T00:00:00\", \"2020-01-31T00:00:00\", \"2020-02-01T00:00:00\", \"2020-02-02T00:00:00\", \"2020-02-03T00:00:00\", \"2020-02-04T00:00:00\", \"2020-02-05T00:00:00\", \"2020-02-06T00:00:00\", \"2020-02-07T00:00:00\", \"2020-02-08T00:00:00\", \"2020-02-09T00:00:00\", \"2020-02-10T00:00:00\", \"2020-02-11T00:00:00\", \"2020-02-12T00:00:00\", \"2020-02-13T00:00:00\", \"2020-02-14T00:00:00\", \"2020-02-15T00:00:00\", \"2020-02-16T00:00:00\", \"2020-02-17T00:00:00\", \"2020-02-18T00:00:00\", \"2020-02-19T00:00:00\", \"2020-02-20T00:00:00\", \"2020-02-21T00:00:00\", \"2020-02-22T00:00:00\", \"2020-02-23T00:00:00\", \"2020-02-24T00:00:00\", \"2020-02-25T00:00:00\", \"2020-02-26T00:00:00\", \"2020-02-27T00:00:00\", \"2020-02-28T00:00:00\", \"2020-02-29T00:00:00\", \"2020-03-01T00:00:00\", \"2020-03-02T00:00:00\", \"2020-03-03T00:00:00\", \"2020-03-04T00:00:00\", \"2020-03-05T00:00:00\", \"2020-03-06T00:00:00\", \"2020-03-07T00:00:00\", \"2020-03-08T00:00:00\", \"2020-03-09T00:00:00\", \"2020-03-10T00:00:00\", \"2020-03-11T00:00:00\", \"2020-03-12T00:00:00\", \"2020-03-13T00:00:00\", \"2020-03-14T00:00:00\", \"2020-03-15T00:00:00\", \"2020-03-16T00:00:00\", \"2020-03-17T00:00:00\", \"2020-03-18T00:00:00\", \"2020-03-19T00:00:00\", \"2020-03-20T00:00:00\", \"2020-03-21T00:00:00\", \"2020-03-22T00:00:00\", \"2020-03-23T00:00:00\", \"2020-03-24T00:00:00\", \"2020-03-25T00:00:00\", \"2020-03-26T00:00:00\", \"2020-03-27T00:00:00\", \"2020-03-28T00:00:00\", \"2020-03-29T00:00:00\", \"2020-03-30T00:00:00\", \"2020-03-31T00:00:00\", \"2020-04-01T00:00:00\", \"2020-04-02T00:00:00\", \"2020-04-03T00:00:00\", \"2020-04-04T00:00:00\", \"2020-04-05T00:00:00\", \"2020-04-06T00:00:00\", \"2020-04-07T00:00:00\", \"2020-04-08T00:00:00\", \"2020-04-09T00:00:00\", \"2020-04-10T00:00:00\", \"2020-04-11T00:00:00\", \"2020-04-12T00:00:00\", \"2020-04-13T00:00:00\", \"2020-04-14T00:00:00\", \"2020-04-15T00:00:00\", \"2020-04-16T00:00:00\", \"2020-04-17T00:00:00\", \"2020-04-18T00:00:00\", \"2020-04-19T00:00:00\", \"2020-04-20T00:00:00\", \"2020-04-21T00:00:00\", \"2020-04-22T00:00:00\", \"2020-04-23T00:00:00\", \"2020-04-24T00:00:00\", \"2020-04-25T00:00:00\", \"2020-04-26T00:00:00\", \"2020-04-27T00:00:00\", \"2020-04-28T00:00:00\", \"2020-04-29T00:00:00\", \"2020-04-30T00:00:00\", \"2020-05-01T00:00:00\", \"2020-05-02T00:00:00\", \"2020-05-03T00:00:00\", \"2020-05-04T00:00:00\", \"2020-05-05T00:00:00\", \"2020-05-06T00:00:00\", \"2020-05-07T00:00:00\", \"2020-05-08T00:00:00\", \"2020-05-09T00:00:00\", \"2020-05-10T00:00:00\", \"2020-05-11T00:00:00\", \"2020-05-12T00:00:00\", \"2020-05-13T00:00:00\", \"2020-05-14T00:00:00\", \"2020-05-15T00:00:00\", \"2020-05-16T00:00:00\", \"2020-05-17T00:00:00\", \"2020-05-18T00:00:00\", \"2020-05-19T00:00:00\", \"2020-05-20T00:00:00\", \"2020-05-21T00:00:00\", \"2020-05-22T00:00:00\", \"2020-05-23T00:00:00\", \"2020-05-24T00:00:00\", \"2020-05-25T00:00:00\", \"2020-05-26T00:00:00\", \"2020-05-27T00:00:00\", \"2020-05-28T00:00:00\", \"2020-05-29T00:00:00\", \"2020-05-30T00:00:00\", \"2020-05-31T00:00:00\", \"2020-06-01T00:00:00\", \"2020-06-02T00:00:00\", \"2020-06-03T00:00:00\"], \"y\": [1.2041966756915705, 1.4447868069386398, 1.733438252568808, 2.0797489038805224, 2.495232023190084, 2.993697890680501, 3.5917112378080875, 4.309139403085184, 5.169809039425919, 6.202292633874346, 7.440850160561403, 8.926555976718742, 10.708646699308769, 12.846132382512105, 15.409720971171279, 18.48411484130492, 22.17074834165001, 26.591046658581632, 31.890298996387784, 38.242252814395044, 45.85455029401145, 54.975142592860365, 65.89983055393569, 78.98109042076392, 94.63834675991335, 113.36984771481879, 135.766273338126, 162.52615666318678, 194.4731061758549, 232.574669308742, 277.9624452254479, 331.95270995268925, 396.06631847908443, 472.045950322427, 561.8678171990001, 667.7437083903369, 792.1076866946526, 937.5798903061923, 1106.8978629917153, 1302.8039060435726, 1527.8756446529999, 1784.2871867459978, 2073.491175660723, 2395.8193029084828, 2750.0121550308304, 3132.709815513525, 3537.962071934957, 3956.848067615629, 4377.322175852543, 4784.413606575768, 5160.8872255495835, 5488.410865664905, 5749.170015506292, 5927.742935847465, 6012.936154404851, 5999.228601369271, 5887.51649895257, 5684.991022338287, 5404.176720885068, 5061.345159671716, 4674.634062511168, 4262.218016212386, 3840.8038259362716, 3424.601835057767, 3024.800063312797, 2649.4742561036014, 2303.8169938545516, 1990.5588566820245, 1710.4712548602956, 1462.869623294951, 1246.066246268844, 1057.7476913063983, 895.2703310858818, 755.878920445282, 636.8590920008436, 535.636656065059, 449.8362590453828, 377.3104108657407, 316.147894188741, 264.6685638526041, 221.40976168147085, 185.10809740849743, 154.67918840450218, 129.1970767375277, 107.87440388509465, 90.043971533111, 75.142006624235, 62.69324294614465, 52.297800627759656, 43.619766477205964, 36.377335498765945, 30.334355114297114, 25.293110045661013, 21.088191556732216, 17.58130577345221, 14.656889420718654, 12.218415809705442, 10.185288209182387, 8.490231215370683, 7.077103068355711, 5.899062912141135, 4.917036743125023, 4.098434292741065, 3.416076438258836, 2.8472990437418972, 2.373204518595326, 1.9780369588400792, 1.6486606136829407, 1.3741246948621053, 1.1453003058378781, 0.9545775888327795, 0.7956131366870609, 0.6631193509987261, 0.5526887973471817, 0.46064775457327073, 0.3839341137786638, 0.31999558410071877, 0.26670483189045935, 0.22228873912372343, 0.18526943374146213, 0.15441513428033718, 0.12869917630801211, 0.10726585944582892, 0.08940198003769195, 0.07451310324454868, 0.06210378572413811]}],\n",
       "                        {\"annotations\": [{\"align\": \"left\", \"arrowcolor\": \"#606060\", \"arrowhead\": 2, \"arrowsize\": 1, \"arrowwidth\": 1, \"ax\": -80, \"ay\": 25, \"bgcolor\": \"LightGreen\", \"bordercolor\": \"Grey\", \"borderpad\": 4, \"borderwidth\": 1, \"font\": {\"color\": \"Black\", \"family\": \"Courier New, monospace\", \"size\": 12}, \"opacity\": 0.7, \"showarrow\": true, \"text\": \"Measures imposed in<br>northern regions\", \"x\": \"2020-02-22T00:00:00\", \"xref\": \"x\", \"y\": 1, \"yref\": \"paper\"}, {\"align\": \"left\", \"arrowcolor\": \"#606060\", \"arrowhead\": 2, \"arrowsize\": 1, \"arrowwidth\": 1, \"ax\": -90, \"ay\": 70, \"bgcolor\": \"LightGreen\", \"bordercolor\": \"Grey\", \"borderpad\": 4, \"borderwidth\": 1, \"font\": {\"color\": \"Black\", \"family\": \"Courier New, monospace\", \"size\": 12}, \"opacity\": 0.7, \"showarrow\": true, \"text\": \"Drop in mobilitly<br>in northern regions\", \"x\": \"2020-02-26T00:00:00\", \"xref\": \"x\", \"y\": 1, \"yref\": \"paper\"}, {\"align\": \"left\", \"arrowcolor\": \"#606060\", \"arrowhead\": 2, \"arrowsize\": 1, \"arrowwidth\": 1, \"ax\": -50, \"ay\": -20, \"bgcolor\": \"LightGreen\", \"bordercolor\": \"Grey\", \"borderpad\": 4, \"borderwidth\": 1, \"font\": {\"color\": \"Black\", \"family\": \"Courier New, monospace\", \"size\": 12}, \"opacity\": 0.7, \"showarrow\": true, \"text\": \"Nationwide measures\", \"x\": \"2020-03-01T00:00:00\", \"xref\": \"x\", \"y\": 1, \"yref\": \"paper\"}, {\"align\": \"left\", \"arrowcolor\": \"#606060\", \"arrowhead\": 2, \"arrowsize\": 1, \"arrowwidth\": 1, \"ax\": -60, \"ay\": -60, \"bgcolor\": \"LightGreen\", \"bordercolor\": \"Grey\", \"borderpad\": 4, \"borderwidth\": 1, \"font\": {\"color\": \"Black\", \"family\": \"Courier New, monospace\", \"size\": 12}, \"opacity\": 0.7, \"showarrow\": true, \"text\": \"Penalties for violation<br>measures introduced\", \"x\": \"2020-03-08T00:00:00\", \"xref\": \"x\", \"y\": 1, \"yref\": \"paper\"}, {\"align\": \"left\", \"arrowcolor\": \"#606060\", \"arrowhead\": 2, \"arrowsize\": 1, \"arrowwidth\": 1, \"ax\": 150, \"ay\": -60, \"bgcolor\": \"Pink\", \"bordercolor\": \"Grey\", \"borderpad\": 4, \"borderwidth\": 1, \"font\": {\"color\": \"Black\", \"family\": \"Courier New, monospace\", \"size\": 12}, \"opacity\": 0.7, \"showarrow\": true, \"text\": \"15-days delay betwwen nationwide measures<br>and significant drop in mobility\", \"x\": \"2020-03-15T00:00:00\", \"xref\": \"x\", \"y\": 1, \"yref\": \"paper\"}, {\"align\": \"left\", \"arrowcolor\": \"#606060\", \"arrowhead\": 2, \"arrowsize\": 1, \"arrowwidth\": 1, \"ax\": 50, \"ay\": -20, \"bgcolor\": \"LightGreen\", \"bordercolor\": \"Grey\", \"borderpad\": 4, \"borderwidth\": 1, \"font\": {\"color\": \"Black\", \"family\": \"Courier New, monospace\", \"size\": 12}, \"opacity\": 0.7, \"showarrow\": true, \"text\": \"Mobility index reaches minimum\", \"x\": \"2020-03-22T00:00:00\", \"xref\": \"x\", \"y\": 1, \"yref\": \"paper\"}, {\"align\": \"left\", \"arrowcolor\": \"#606060\", \"arrowhead\": 2, \"arrowsize\": 1, \"arrowwidth\": 1, \"ax\": 130, \"ay\": 15, \"bgcolor\": \"LightBlue\", \"bordercolor\": \"Grey\", \"borderpad\": 4, \"borderwidth\": 1, \"font\": {\"color\": \"Black\", \"family\": \"Courier New, monospace\", \"size\": 12}, \"opacity\": 0.7, \"showarrow\": true, \"text\": \"10-days <i>incubation</i> period\", \"x\": \"2020-03-28T00:00:00\", \"xref\": \"x\", \"y\": 1, \"yref\": \"paper\"}, {\"arrowcolor\": \"Black\", \"arrowhead\": 1, \"arrowsize\": 2, \"arrowwidth\": 1.0, \"ax\": \"2020-04-16T00:00:00\", \"axref\": \"x\", \"ay\": 5686.7542293019505, \"ayref\": \"y\", \"showarrow\": true, \"text\": \"\", \"x\": \"2020-04-16T00:00:00\", \"xref\": \"x\", \"y\": 5360.572304199051, \"yref\": \"y\"}, {\"arrowcolor\": \"Black\", \"arrowhead\": 1, \"arrowsize\": 2, \"arrowwidth\": 1.0, \"ax\": \"2020-04-16T00:00:00\", \"axref\": \"x\", \"ay\": 5686.7542293019505, \"ayref\": \"y\", \"showarrow\": true, \"text\": \"\", \"x\": \"2020-04-16T00:00:00\", \"xref\": \"x\", \"y\": 6012.936154404851, \"yref\": \"y\"}, {\"align\": \"left\", \"ax\": \"2020-04-29T00:00:00\", \"axref\": \"x\", \"ay\": 5686.7542293019505, \"ayref\": \"y\", \"bgcolor\": \"LightGreen\", \"bordercolor\": \"Black\", \"borderpad\": 4, \"borderwidth\": 1.0, \"font\": {\"color\": \"Black\", \"family\": \"Courier New, monospace\", \"size\": 12}, \"opacity\": 0.75, \"text\": \"Pike is lowered<br>by 10.85 %\", \"x\": \"2020-04-29T00:00:00\", \"xref\": \"x\", \"y\": 5686.7542293019505, \"yref\": \"y\"}], \"font\": {\"color\": \"#7f7f7f\", \"family\": \"Courier New, monospace\", \"size\": 12}, \"height\": 600, \"legend\": {\"orientation\": \"h\", \"y\": -0.2}, \"shapes\": [{\"layer\": \"above\", \"line\": {\"color\": \"Grey\", \"dash\": \"solid\", \"width\": 1}, \"opacity\": 1, \"type\": \"line\", \"x0\": \"2020-02-22T00:00:00\", \"x1\": \"2020-02-22T00:00:00\", \"xref\": \"x\", \"y0\": 0, \"y1\": 1, \"yref\": \"paper\"}, {\"layer\": \"above\", \"line\": {\"color\": \"Grey\", \"dash\": \"solid\", \"width\": 1}, \"opacity\": 1, \"type\": \"line\", \"x0\": \"2020-02-26T00:00:00\", \"x1\": \"2020-02-26T00:00:00\", \"xref\": \"x\", \"y0\": 0, \"y1\": 1, \"yref\": \"paper\"}, {\"layer\": \"above\", \"line\": {\"color\": \"Grey\", \"dash\": \"solid\", \"width\": 1}, \"opacity\": 1, \"type\": \"line\", \"x0\": \"2020-03-01T00:00:00\", \"x1\": \"2020-03-01T00:00:00\", \"xref\": \"x\", \"y0\": 0, \"y1\": 1, \"yref\": \"paper\"}, {\"layer\": \"above\", \"line\": {\"color\": \"Grey\", \"dash\": \"solid\", \"width\": 1}, \"opacity\": 1, \"type\": \"line\", \"x0\": \"2020-03-08T00:00:00\", \"x1\": \"2020-03-08T00:00:00\", \"xref\": \"x\", \"y0\": 0, \"y1\": 1, \"yref\": \"paper\"}, {\"layer\": \"above\", \"line\": {\"color\": \"Grey\", \"dash\": \"solid\", \"width\": 1}, \"opacity\": 1, \"type\": \"line\", \"x0\": \"2020-03-15T00:00:00\", \"x1\": \"2020-03-15T00:00:00\", \"xref\": \"x\", \"y0\": 0, \"y1\": 1, \"yref\": \"paper\"}, {\"layer\": \"above\", \"line\": {\"color\": \"Grey\", \"dash\": \"solid\", \"width\": 1}, \"opacity\": 1, \"type\": \"line\", \"x0\": \"2020-03-22T00:00:00\", \"x1\": \"2020-03-22T00:00:00\", \"xref\": \"x\", \"y0\": 0, \"y1\": 1, \"yref\": \"paper\"}, {\"fillcolor\": \"Red\", \"layer\": \"above\", \"line\": {\"width\": 0}, \"opacity\": 0.3, \"type\": \"rect\", \"x0\": \"2020-03-01T00:00:00\", \"x1\": \"2020-03-15T00:00:00\", \"xref\": \"x\", \"y0\": 0, \"y1\": 1, \"yref\": \"paper\"}, {\"line\": {\"color\": \"Black\", \"dash\": \"dash\", \"width\": 1}, \"opacity\": 0.6, \"type\": \"line\", \"x0\": \"2020-06-02T00:00:00\", \"x1\": \"2020-06-02T00:00:00\", \"y0\": 0, \"y1\": 1, \"yref\": \"paper\"}, {\"fillcolor\": \"Blue\", \"layer\": \"above\", \"line\": {\"width\": 0}, \"opacity\": 0.3, \"type\": \"rect\", \"x0\": \"2020-03-22T00:00:00\", \"x1\": \"2020-04-02T00:00:00\", \"xref\": \"x\", \"y0\": 0, \"y1\": 1, \"yref\": \"paper\"}, {\"line\": {\"color\": \"Black\", \"dash\": \"dash\", \"width\": 1}, \"opacity\": 0.6, \"type\": \"line\", \"x0\": \"2020-04-02T00:00:00\", \"x1\": \"2020-04-02T00:00:00\", \"y0\": 0, \"y1\": 1, \"yref\": \"paper\"}, {\"layer\": \"above\", \"line\": {\"color\": \"Black\", \"width\": 1.0}, \"opacity\": 0.75, \"type\": \"line\", \"x0\": \"2020-04-03T00:00:00\", \"x1\": \"2020-04-17T00:00:00\", \"xref\": \"x\", \"y0\": 5360.572304199051, \"y1\": 5360.572304199051, \"yref\": \"y\"}, {\"layer\": \"above\", \"line\": {\"color\": \"Black\", \"width\": 1.0}, \"opacity\": 0.75, \"type\": \"line\", \"x0\": \"2020-03-23T00:00:00\", \"x1\": \"2020-04-17T00:00:00\", \"xref\": \"x\", \"y0\": 6012.936154404851, \"y1\": 6012.936154404851, \"yref\": \"y\"}, {\"layer\": \"above\", \"line\": {\"color\": \"Black\", \"width\": 1.0}, \"opacity\": 0.75, \"type\": \"line\", \"x0\": \"2020-04-16T00:00:00\", \"x1\": \"2020-04-16T00:00:00\", \"xref\": \"x\", \"y0\": 5360.572304199051, \"y1\": 6012.936154404851, \"yref\": \"y\"}], \"showlegend\": true, \"template\": {\"data\": {\"bar\": [{\"error_x\": {\"color\": \"rgb(51,51,51)\"}, \"error_y\": {\"color\": \"rgb(51,51,51)\"}, \"marker\": {\"line\": {\"color\": \"rgb(237,237,237)\", \"width\": 0.5}}, \"type\": \"bar\"}], \"barpolar\": [{\"marker\": {\"line\": {\"color\": \"rgb(237,237,237)\", \"width\": 0.5}}, \"type\": \"barpolar\"}], \"carpet\": [{\"aaxis\": {\"endlinecolor\": \"rgb(51,51,51)\", \"gridcolor\": \"white\", \"linecolor\": \"white\", \"minorgridcolor\": \"white\", \"startlinecolor\": \"rgb(51,51,51)\"}, \"baxis\": {\"endlinecolor\": \"rgb(51,51,51)\", \"gridcolor\": \"white\", \"linecolor\": \"white\", \"minorgridcolor\": \"white\", \"startlinecolor\": \"rgb(51,51,51)\"}, \"type\": \"carpet\"}], \"choropleth\": [{\"colorbar\": {\"outlinewidth\": 0, \"tickcolor\": \"rgb(237,237,237)\", \"ticklen\": 6, \"ticks\": \"inside\"}, \"type\": \"choropleth\"}], \"contour\": [{\"colorbar\": {\"outlinewidth\": 0, \"tickcolor\": \"rgb(237,237,237)\", \"ticklen\": 6, \"ticks\": \"inside\"}, \"colorscale\": [[0, \"rgb(20,44,66)\"], [1, \"rgb(90,179,244)\"]], \"type\": \"contour\"}], \"contourcarpet\": [{\"colorbar\": {\"outlinewidth\": 0, \"tickcolor\": \"rgb(237,237,237)\", \"ticklen\": 6, \"ticks\": \"inside\"}, \"type\": \"contourcarpet\"}], \"heatmap\": [{\"colorbar\": {\"outlinewidth\": 0, \"tickcolor\": \"rgb(237,237,237)\", \"ticklen\": 6, \"ticks\": \"inside\"}, \"colorscale\": [[0, \"rgb(20,44,66)\"], [1, \"rgb(90,179,244)\"]], \"type\": \"heatmap\"}], \"heatmapgl\": [{\"colorbar\": {\"outlinewidth\": 0, \"tickcolor\": \"rgb(237,237,237)\", \"ticklen\": 6, \"ticks\": \"inside\"}, \"colorscale\": [[0, \"rgb(20,44,66)\"], [1, \"rgb(90,179,244)\"]], \"type\": \"heatmapgl\"}], \"histogram\": [{\"marker\": {\"colorbar\": {\"outlinewidth\": 0, \"tickcolor\": \"rgb(237,237,237)\", \"ticklen\": 6, \"ticks\": \"inside\"}}, \"type\": \"histogram\"}], \"histogram2d\": [{\"colorbar\": {\"outlinewidth\": 0, \"tickcolor\": \"rgb(237,237,237)\", \"ticklen\": 6, \"ticks\": \"inside\"}, \"colorscale\": [[0, \"rgb(20,44,66)\"], [1, \"rgb(90,179,244)\"]], \"type\": \"histogram2d\"}], \"histogram2dcontour\": [{\"colorbar\": {\"outlinewidth\": 0, \"tickcolor\": \"rgb(237,237,237)\", \"ticklen\": 6, \"ticks\": \"inside\"}, \"colorscale\": [[0, \"rgb(20,44,66)\"], [1, \"rgb(90,179,244)\"]], \"type\": \"histogram2dcontour\"}], \"mesh3d\": [{\"colorbar\": {\"outlinewidth\": 0, \"tickcolor\": \"rgb(237,237,237)\", \"ticklen\": 6, \"ticks\": \"inside\"}, \"type\": \"mesh3d\"}], \"parcoords\": [{\"line\": {\"colorbar\": {\"outlinewidth\": 0, \"tickcolor\": \"rgb(237,237,237)\", \"ticklen\": 6, \"ticks\": \"inside\"}}, \"type\": \"parcoords\"}], \"pie\": [{\"automargin\": true, \"type\": \"pie\"}], \"scatter\": [{\"marker\": {\"colorbar\": {\"outlinewidth\": 0, \"tickcolor\": \"rgb(237,237,237)\", \"ticklen\": 6, \"ticks\": \"inside\"}}, \"type\": \"scatter\"}], \"scatter3d\": [{\"line\": {\"colorbar\": {\"outlinewidth\": 0, \"tickcolor\": \"rgb(237,237,237)\", \"ticklen\": 6, \"ticks\": \"inside\"}}, \"marker\": {\"colorbar\": {\"outlinewidth\": 0, \"tickcolor\": \"rgb(237,237,237)\", \"ticklen\": 6, \"ticks\": \"inside\"}}, \"type\": \"scatter3d\"}], \"scattercarpet\": [{\"marker\": {\"colorbar\": {\"outlinewidth\": 0, \"tickcolor\": \"rgb(237,237,237)\", \"ticklen\": 6, \"ticks\": \"inside\"}}, \"type\": \"scattercarpet\"}], \"scattergeo\": [{\"marker\": {\"colorbar\": {\"outlinewidth\": 0, \"tickcolor\": \"rgb(237,237,237)\", \"ticklen\": 6, \"ticks\": \"inside\"}}, \"type\": \"scattergeo\"}], \"scattergl\": [{\"marker\": {\"colorbar\": {\"outlinewidth\": 0, \"tickcolor\": \"rgb(237,237,237)\", \"ticklen\": 6, \"ticks\": \"inside\"}}, \"type\": \"scattergl\"}], \"scattermapbox\": [{\"marker\": {\"colorbar\": {\"outlinewidth\": 0, \"tickcolor\": \"rgb(237,237,237)\", \"ticklen\": 6, \"ticks\": \"inside\"}}, \"type\": \"scattermapbox\"}], \"scatterpolar\": [{\"marker\": {\"colorbar\": {\"outlinewidth\": 0, \"tickcolor\": \"rgb(237,237,237)\", \"ticklen\": 6, \"ticks\": \"inside\"}}, \"type\": \"scatterpolar\"}], \"scatterpolargl\": [{\"marker\": {\"colorbar\": {\"outlinewidth\": 0, \"tickcolor\": \"rgb(237,237,237)\", \"ticklen\": 6, \"ticks\": \"inside\"}}, \"type\": \"scatterpolargl\"}], \"scatterternary\": [{\"marker\": {\"colorbar\": {\"outlinewidth\": 0, \"tickcolor\": \"rgb(237,237,237)\", \"ticklen\": 6, \"ticks\": \"inside\"}}, \"type\": \"scatterternary\"}], \"surface\": [{\"colorbar\": {\"outlinewidth\": 0, \"tickcolor\": \"rgb(237,237,237)\", \"ticklen\": 6, \"ticks\": \"inside\"}, \"colorscale\": [[0, \"rgb(20,44,66)\"], [1, \"rgb(90,179,244)\"]], \"type\": \"surface\"}], \"table\": [{\"cells\": {\"fill\": {\"color\": \"rgb(237,237,237)\"}, \"line\": {\"color\": \"white\"}}, \"header\": {\"fill\": {\"color\": \"rgb(217,217,217)\"}, \"line\": {\"color\": \"white\"}}, \"type\": \"table\"}]}, \"layout\": {\"annotationdefaults\": {\"arrowhead\": 0, \"arrowwidth\": 1}, \"coloraxis\": {\"colorbar\": {\"outlinewidth\": 0, \"tickcolor\": \"rgb(237,237,237)\", \"ticklen\": 6, \"ticks\": \"inside\"}}, \"colorscale\": {\"sequential\": [[0, \"rgb(20,44,66)\"], [1, \"rgb(90,179,244)\"]], \"sequentialminus\": [[0, \"rgb(20,44,66)\"], [1, \"rgb(90,179,244)\"]]}, \"colorway\": [\"#F8766D\", \"#A3A500\", \"#00BF7D\", \"#00B0F6\", \"#E76BF3\"], \"font\": {\"color\": \"rgb(51,51,51)\"}, \"geo\": {\"bgcolor\": \"white\", \"lakecolor\": \"white\", \"landcolor\": \"rgb(237,237,237)\", \"showlakes\": true, \"showland\": true, \"subunitcolor\": \"white\"}, \"hoverlabel\": {\"align\": \"left\"}, \"hovermode\": \"closest\", \"paper_bgcolor\": \"white\", \"plot_bgcolor\": \"rgb(237,237,237)\", \"polar\": {\"angularaxis\": {\"gridcolor\": \"white\", \"linecolor\": \"white\", \"showgrid\": true, \"tickcolor\": \"rgb(51,51,51)\", \"ticks\": \"outside\"}, \"bgcolor\": \"rgb(237,237,237)\", \"radialaxis\": {\"gridcolor\": \"white\", \"linecolor\": \"white\", \"showgrid\": true, \"tickcolor\": \"rgb(51,51,51)\", \"ticks\": \"outside\"}}, \"scene\": {\"xaxis\": {\"backgroundcolor\": \"rgb(237,237,237)\", \"gridcolor\": \"white\", \"gridwidth\": 2, \"linecolor\": \"white\", \"showbackground\": true, \"showgrid\": true, \"tickcolor\": \"rgb(51,51,51)\", \"ticks\": \"outside\", \"zerolinecolor\": \"white\"}, \"yaxis\": {\"backgroundcolor\": \"rgb(237,237,237)\", \"gridcolor\": \"white\", \"gridwidth\": 2, \"linecolor\": \"white\", \"showbackground\": true, \"showgrid\": true, \"tickcolor\": \"rgb(51,51,51)\", \"ticks\": \"outside\", \"zerolinecolor\": \"white\"}, \"zaxis\": {\"backgroundcolor\": \"rgb(237,237,237)\", \"gridcolor\": \"white\", \"gridwidth\": 2, \"linecolor\": \"white\", \"showbackground\": true, \"showgrid\": true, \"tickcolor\": \"rgb(51,51,51)\", \"ticks\": \"outside\", \"zerolinecolor\": \"white\"}}, \"shapedefaults\": {\"fillcolor\": \"black\", \"line\": {\"width\": 0}, \"opacity\": 0.3}, \"ternary\": {\"aaxis\": {\"gridcolor\": \"white\", \"linecolor\": \"white\", \"showgrid\": true, \"tickcolor\": \"rgb(51,51,51)\", \"ticks\": \"outside\"}, \"baxis\": {\"gridcolor\": \"white\", \"linecolor\": \"white\", \"showgrid\": true, \"tickcolor\": \"rgb(51,51,51)\", \"ticks\": \"outside\"}, \"bgcolor\": \"rgb(237,237,237)\", \"caxis\": {\"gridcolor\": \"white\", \"linecolor\": \"white\", \"showgrid\": true, \"tickcolor\": \"rgb(51,51,51)\", \"ticks\": \"outside\"}}, \"xaxis\": {\"automargin\": true, \"gridcolor\": \"white\", \"linecolor\": \"white\", \"showgrid\": true, \"tickcolor\": \"rgb(51,51,51)\", \"ticks\": \"outside\", \"title\": {\"standoff\": 15}, \"zerolinecolor\": \"white\"}, \"yaxis\": {\"automargin\": true, \"gridcolor\": \"white\", \"linecolor\": \"white\", \"showgrid\": true, \"tickcolor\": \"rgb(51,51,51)\", \"ticks\": \"outside\", \"title\": {\"standoff\": 15}, \"zerolinecolor\": \"white\"}}}, \"title\": {\"text\": \"\"}, \"width\": 900, \"xaxis\": {\"anchor\": \"y\", \"domain\": [0.0, 0.94], \"range\": [\"2020-01-23T19:12:00\", \"2020-06-08T04:48:00\"], \"title\": {\"text\": \"Date\"}}, \"yaxis\": {\"anchor\": \"x\", \"domain\": [0.0, 1.0], \"title\": {\"text\": \"Number of new cases\"}}, \"yaxis2\": {\"anchor\": \"x\", \"overlaying\": \"y\", \"side\": \"right\", \"title\": {\"text\": \"Correlation\"}}},\n",
       "                        {\"responsive\": true}\n",
       "                    ).then(function(){\n",
       "                            \n",
       "var gd = document.getElementById('ccf7a342-9ea2-4463-980f-7b21731d3910');\n",
       "var x = new MutationObserver(function (mutations, observer) {{\n",
       "        var display = window.getComputedStyle(gd).display;\n",
       "        if (!display || display === 'none') {{\n",
       "            console.log([gd, 'removed!']);\n",
       "            Plotly.purge(gd);\n",
       "            observer.disconnect();\n",
       "        }}\n",
       "}});\n",
       "\n",
       "// Listen for the removal of the full notebook cells\n",
       "var notebookContainer = gd.closest('#notebook-container');\n",
       "if (notebookContainer) {{\n",
       "    x.observe(notebookContainer, {childList: true});\n",
       "}}\n",
       "\n",
       "// Listen for the clearing of the current output cell\n",
       "var outputEl = gd.closest('.output');\n",
       "if (outputEl) {{\n",
       "    x.observe(outputEl, {childList: true});\n",
       "}}\n",
       "\n",
       "                        })\n",
       "                };\n",
       "                });\n",
       "            </script>\n",
       "        </div>"
      ]
     },
     "metadata": {},
     "output_type": "display_data"
    }
   ],
   "source": [
    "cutoffs = pd.DataFrame({\n",
    "    \"date\": [date(\"2020-04-02\")],\n",
    "    \"description\": [\"Before 02.04\"]\n",
    "})\n",
    "params = get_fit_of_cutoffs(df, cutoffs, add_fit_of_all_data = True)\n",
    "# plot figures\n",
    "\n",
    "figs = plotter(df, params=None, df_mobility=df_mobility, template=template, correlation=14)\n",
    "# show coeffs\n",
    "display(unfold(params))\n",
    "\n",
    "# set extension of output files\n",
    "ext = \"png\"\n",
    "scale = 2.\n",
    "# set mode of image_writer (if mode: write images)\n",
    "mode = True\n",
    "\n",
    "\n",
    "f = figs[-1]\n",
    "iw = image_writer(f, \"IT_mobility_\"+ext, ext, mode=mode,scale=scale)\n",
    "iw.write()\n",
    "add_caption(f, date(\"2020-02-22\"), text=\"Measures imposed in<br>northern regions\", bg_color=\"LightGreen\", pos_x=-80, pos_y = 25)\n",
    "iw.write()\n",
    "add_caption(f, date(\"2020-02-26\"), text=\"Drop in mobilitly<br>in northern regions\", bg_color=\"LightGreen\", pos_x=-90, pos_y =70)\n",
    "iw.write()\n",
    "add_caption(f, date(\"2020-03-01\"), text=\"Nationwide measures\", bg_color=\"LightGreen\", pos_x=-50)\n",
    "add_filling(f, date(\"2020-03-01\"), date(\"2020-03-15\"))\n",
    "add_caption(f, date(\"2020-03-15\"), text=\"15-days delay betwwen nationwide measures<br>and significant drop in mobility\", pos_y=-60, pos_x=150)\n",
    "iw.write()\n",
    "add_caption(f, date(\"2020-03-08\"), text=\"Penalties for violation<br>measures introduced\", bg_color=\"LightGreen\", pos_y=-60, pos_x=-60)\n",
    "iw.write()\n",
    "add_caption(f, date(\"2020-03-22\"), text=\"Mobility index reaches minimum\", bg_color=\"LightGreen\", pos_x=50)\n",
    "iw.write()\n",
    "iw.merge_pdfs()\n",
    "f.show()\n",
    "\n",
    "f = figs[1]\n",
    "iw = image_writer(f, \"IT_plot_\"+ext, ext, mode=mode,scale=scale)\n",
    "add_caption(f, date(\"2020-02-22\"), text=\"Measures imposed in<br>northern regions\", bg_color=\"LightGreen\", pos_x=-80, pos_y = 25)\n",
    "add_caption(f, date(\"2020-02-26\"), text=\"Drop in mobilitly<br>in northern regions\", bg_color=\"LightGreen\", pos_x=-90, pos_y =70)\n",
    "add_caption(f, date(\"2020-03-01\"), text=\"Nationwide measures\", bg_color=\"LightGreen\", pos_x=-50)\n",
    "add_caption(f, date(\"2020-03-08\"), text=\"Penalties for violation<br>measures introduced\", bg_color=\"LightGreen\", pos_y=-60, pos_x=-60)\n",
    "add_caption(f, date(\"2020-03-15\"), text=\"15-days delay betwwen nationwide measures<br>and significant drop in mobility\", pos_y=-60, pos_x=150)\n",
    "add_caption(f, date(\"2020-03-22\"), text=\"Mobility index reaches minimum\", bg_color=\"LightGreen\", pos_x=50)\n",
    "add_filling(f, date(\"2020-03-01\"), date(\"2020-03-15\"))\n",
    "iw.write()\n",
    "add_approximant(f, params, 1)\n",
    "iw.write()\n",
    "add_filling(f, date(\"2020-03-22\"), date(\"2020-04-02\"), fill_color=\"Blue\")\n",
    "add_caption(f, date(\"2020-03-28\"), text=\"10-days <i>incubation</i> period\", bg_color=\"LightBlue\", pos_x=130, pos_y=15, wline=False)\n",
    "iw.write()\n",
    "add_approximant(f, params, 0)\n",
    "iw.write()\n",
    "add_difference(f, fit_ref=-1, fit=-2,pos_x=13)\n",
    "iw.write()\n",
    "iw.merge_pdfs()\n",
    "f.show()"
   ]
  },
  {
   "cell_type": "markdown",
   "metadata": {},
   "source": [
    "### China (Hubei)"
   ]
  },
  {
   "cell_type": "code",
   "execution_count": null,
   "metadata": {},
   "outputs": [],
   "source": []
  }
 ],
 "metadata": {
  "kernelspec": {
   "display_name": "Python 3",
   "language": "python",
   "name": "python3"
  },
  "language_info": {
   "codemirror_mode": {
    "name": "ipython",
    "version": 3
   },
   "file_extension": ".py",
   "mimetype": "text/x-python",
   "name": "python",
   "nbconvert_exporter": "python",
   "pygments_lexer": "ipython3",
   "version": "3.7.4"
  }
 },
 "nbformat": 4,
 "nbformat_minor": 2
}
